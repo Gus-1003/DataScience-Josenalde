{
  "nbformat": 4,
  "nbformat_minor": 0,
  "metadata": {
    "colab": {
      "name": "webdriver_colab.ipynb",
      "provenance": [],
      "collapsed_sections": [],
      "authorship_tag": "ABX9TyNTjL/rhToYB24e7Vq4mVF2",
      "include_colab_link": true
    },
    "kernelspec": {
      "name": "python3",
      "display_name": "Python 3"
    }
  },
  "cells": [
    {
      "cell_type": "markdown",
      "metadata": {
        "id": "view-in-github",
        "colab_type": "text"
      },
      "source": [
        "<a href=\"https://colab.research.google.com/github/josenalde/datascience/blob/main/webdriver_colab.ipynb\" target=\"_parent\"><img src=\"https://colab.research.google.com/assets/colab-badge.svg\" alt=\"Open In Colab\"/></a>"
      ]
    },
    {
      "cell_type": "markdown",
      "metadata": {
        "id": "E6SPAOl-pD7X"
      },
      "source": [
        "1) Após obter o arquivo chromedriver para a versão correta do navegador (no caso aqui Chrome, versão 89.xxxx) e para Linux64: https://chromedriver.storage.googleapis.com/index.html?path=89.0.4389.23/, é feito o upload na seção. Este arquivo reside em /content/chromedriver, sendo chromedriver uma pasta criada por mim. Ao executar o código abaixo, obtemos a mensagem de erro de permissão: PermissionError: [Errno 13] Permission denied: '/content/chromedriver/chromedriver'. Vamos então ver como está a permissão do arquivo por padrão"
      ]
    },
    {
      "cell_type": "code",
      "metadata": {
        "id": "smdpIKfxoJgo"
      },
      "source": [
        "#!ls -l /content/chromedriver/\r\n",
        "#!apt install chromium-chromedriver"
      ],
      "execution_count": 78,
      "outputs": []
    },
    {
      "cell_type": "code",
      "metadata": {
        "colab": {
          "base_uri": "https://localhost:8080/"
        },
        "id": "iCgboEvjt5Yn",
        "outputId": "f90274ae-c478-44a9-e8db-52a9f07baba3"
      },
      "source": [
        "!cp /usr/lib/chromium-browser/chromedriver /usr/bin\r\n",
        "import sys\r\n",
        "sys.path.insert(0,'/usr/lib/chromium-browser/chromedriver')"
      ],
      "execution_count": null,
      "outputs": [
        {
          "output_type": "stream",
          "text": [
            "cp: '/usr/lib/chromium-browser/chromedriver' and '/usr/bin/chromedriver' are the same file\n"
          ],
          "name": "stdout"
        }
      ]
    },
    {
      "cell_type": "code",
      "metadata": {
        "id": "BTElmWN_zDEg"
      },
      "source": [
        "#!sudo apt-get install -y xvfb"
      ],
      "execution_count": 77,
      "outputs": []
    },
    {
      "cell_type": "code",
      "metadata": {
        "id": "ybZwDUOtzJQL"
      },
      "source": [
        "#!sudo apt-get -y install xorg xvfb gtk2-engines-pixbuf\r\n",
        "#!sudo apt-get -y install dbus-x11 xfonts-base xfonts-100dpi xfonts-75dpi xfonts-cyrillic xfonts-scalable"
      ],
      "execution_count": 76,
      "outputs": []
    },
    {
      "cell_type": "code",
      "metadata": {
        "colab": {
          "base_uri": "https://localhost:8080/"
        },
        "id": "jmf506U2jpui",
        "outputId": "1be4ec62-d581-4f01-e42e-672a47c81029"
      },
      "source": [
        "#!pip install -U selenium #- primeira vez instalar\r\n",
        "\r\n",
        "from selenium import webdriver\r\n",
        "\r\n",
        "# --- caso não funcione com o procedimento mais simples --- \r\n",
        "#!pip install webdriver-manager\r\n",
        "#from webdriver_manager.chrome import ChromeDriverManager\r\n",
        "\r\n",
        "\r\n",
        "options = webdriver.ChromeOptions()\r\n",
        "options.add_argument('--headless') # O mais importante, não renderiza parte gráfica\r\n",
        "options.add_argument('window-size=1920x1080')\r\n",
        "options.add_argument('--no-sandbox') #obrigatório, caso contrário gera erro, pois está abrindo como root e exige --no-sandbox\r\n",
        "\r\n",
        "#msg de erro: (The process started from chrome location /usr/bin/chromium-browser is no longer running, so ChromeDriver is assuming that Chrome has crashed.)\r\n",
        "\r\n",
        "options.add_argument('--disable-dev-shm-usage')\r\n",
        "options.add_argument('--disable-gpu')\r\n",
        "options.add_argument('--disable-extensions')\r\n",
        "# outras opções:\r\n",
        "\"\"\" disable-gpu\r\n",
        "    ignore-certificate-errors\r\n",
        "    disable-extensions\r\n",
        "    etc.\r\n",
        "\"\"\"\r\n",
        "# altere aqui para o seu PATH incluindo o .exe\r\n",
        "#driver = webdriver.Chrome(ChromeDriverManager().install(), options=options)\r\n",
        "driver = webdriver.Chrome(executable_path = r'/usr/lib/chromium-browser/chromedriver', options = options)\r\n",
        "\r\n",
        "\"\"\" o método get() abre a URL e aguarda até todo o conteúdo estar carregado. O WebDriver \r\n",
        "    aguardará toda a página estar carregada até retornar o controle para o script \"\"\"\r\n",
        "\r\n",
        "url1 = 'https://www.loteriaseresultados.com.br/index.php/megasena/concurso/2342'\r\n",
        "#url2 = 'https://febrace.org.br/'\r\n",
        "url3 = 'https://www.loteriaseresultados.com.br/'\r\n",
        "driver.get(url1)\r\n",
        "# verifica se abriu ok\r\n",
        "print(driver.current_url)\r\n",
        "\r\n",
        "\"\"\" comandos selenium de busca (retornam WebElements ou Exceção noSuchElementException):\r\n",
        "    URL: https://selenium-python.readthedocs.io/locating-elements.html#locating-elements\r\n",
        "    find_element_by_class_name(className)\r\n",
        "    find_element_by_id\r\n",
        "    find_element_by_css_selector\r\n",
        "    find_element_by_link_text (por texto de href)\r\n",
        "    find_element_by_partial_link_text (por pedaço de texto de href)\r\n",
        "    find_element_by_tag_name\r\n",
        "    find_element_by_xpath\r\n",
        "    \r\n",
        "    Este comando retorna a primeira ocorrência. Para encontrar todas, as funções acima possuem a versão que retorna lista\r\n",
        "    trocando _element por _elements (find_elements_by_id) etc.\r\n",
        "    \r\n",
        "\"\"\"\r\n",
        "    \r\n",
        "#try:\r\n",
        "    \r\n",
        "    # uma opção é obter todo o body (ou parte mais específica) da página com o selenium/webdriver e passar ao BSoup para análise padrão\r\n",
        "#body = driver.find_element_by_tag_name('body')\r\n",
        "#html = body.get_attribute('innerHTML')\r\n",
        "#soupPage = soup(html, 'html5lib')\r\n",
        "#spanList = soupPage.findAll( \"span\", class_='white--text font-weight-bold')\r\n",
        "#print(len(spanList))\r\n",
        "#for n in range(6):\r\n",
        "#    print(spanList[n].text)\r\n",
        "    \r\n",
        "    \r\n",
        "print('-------- segundo método ---------')\r\n",
        "    \r\n",
        "# No caso de classe ou id com espaço, a sintaxe abaixo é a indicada, colocar simplesmente o nome da classe não reconhece\r\n",
        "    \r\n",
        "content = driver.find_elements_by_css_selector(\"span[class='white--text font-weight-bold']\")\r\n",
        "body = driver.find_element_by_tag_name('body')\r\n",
        "\r\n",
        "html = body.get_attribute('innerHTML')\r\n",
        "print(html)\r\n",
        "# Será retornada uma lista com os elementos, portanto, podemos percorrer. Ao olhar a URl, vemos 09 elementos com esta\r\n",
        "# classe, e só estamos interessados nos 06 primeiros. Então, faremos um laço:\r\n",
        "    \r\n",
        "#for n in range(6):\r\n",
        "#    print(content[n].get_attribute('innerHTML'))\r\n",
        "\r\n",
        "#except:\r\n",
        "#    print('criterio nao encontrado')\r\n",
        "    \r\n",
        "print('Terminei a raspagem de dados')\r\n",
        "driver.close()\r\n"
      ],
      "execution_count": 89,
      "outputs": [
        {
          "output_type": "stream",
          "text": [
            "https://www.loteriaseresultados.com.br/index.php/megasena/concurso/2342\n",
            "-------- segundo método ---------\n",
            "\n",
            "Terminei a raspagem de dados\n"
          ],
          "name": "stdout"
        }
      ]
    }
  ]
}