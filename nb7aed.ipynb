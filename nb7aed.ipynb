{
 "cells": [
  {
   "cell_type": "code",
   "execution_count": 25,
   "metadata": {},
   "outputs": [
    {
     "data": {
      "text/html": [
       "<div>\n",
       "<style scoped>\n",
       "    .dataframe tbody tr th:only-of-type {\n",
       "        vertical-align: middle;\n",
       "    }\n",
       "\n",
       "    .dataframe tbody tr th {\n",
       "        vertical-align: top;\n",
       "    }\n",
       "\n",
       "    .dataframe thead th {\n",
       "        text-align: right;\n",
       "    }\n",
       "</style>\n",
       "<table border=\"1\" class=\"dataframe\">\n",
       "  <thead>\n",
       "    <tr style=\"text-align: right;\">\n",
       "      <th></th>\n",
       "      <th>ano</th>\n",
       "      <th>proponente</th>\n",
       "      <th>proposto</th>\n",
       "      <th>tipo_proposto</th>\n",
       "      <th>id_unidade_requisitante</th>\n",
       "      <th>nome_unidade_requisitante</th>\n",
       "      <th>id_unidade_custo</th>\n",
       "      <th>nome_unidade_custo</th>\n",
       "      <th>data_envio</th>\n",
       "      <th>data_autorizacao_chefe</th>\n",
       "      <th>descricao</th>\n",
       "      <th>valor</th>\n",
       "      <th>status</th>\n",
       "    </tr>\n",
       "  </thead>\n",
       "  <tbody>\n",
       "  </tbody>\n",
       "</table>\n",
       "</div>"
      ],
      "text/plain": [
       "Empty DataFrame\n",
       "Columns: [ano, proponente, proposto, tipo_proposto, id_unidade_requisitante, nome_unidade_requisitante, id_unidade_custo, nome_unidade_custo, data_envio, data_autorizacao_chefe, descricao, valor, status]\n",
       "Index: []"
      ]
     },
     "execution_count": 25,
     "metadata": {},
     "output_type": "execute_result"
    }
   ],
   "source": [
    "import pandas as pd\n",
    "psgufrn = pd.read_csv('http://dados.ufrn.br/dataset/f7b1f5e2-37a1-44d9-8e9f-c0b92e310605/resource/083f9e7a-06e3-4121-87ee-c4b65291272c/download/requisicaopassagem.csv', sep=';', usecols=range(1,14))\n",
    "#c1 = psgufrn[(psgufrn.ano >= 2020) & (psgufrn.valor > 10000)]\n",
    "#c2 = psgufrn[(psgufrn.valor > 50000) & (psgufrn.status != 'ESTORNADA')]\n",
    "#c2\n",
    "psgufrn.describe() # retorna valor 1 milhão ?"
   ]
  }
 ],
 "metadata": {
  "kernelspec": {
   "display_name": "Python 3",
   "language": "python",
   "name": "python3"
  },
  "language_info": {
   "codemirror_mode": {
    "name": "ipython",
    "version": 3
   },
   "file_extension": ".py",
   "mimetype": "text/x-python",
   "name": "python",
   "nbconvert_exporter": "python",
   "pygments_lexer": "ipython3",
   "version": "3.8.5"
  }
 },
 "nbformat": 4,
 "nbformat_minor": 4
}
