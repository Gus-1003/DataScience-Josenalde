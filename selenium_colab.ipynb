{
  "nbformat": 4,
  "nbformat_minor": 0,
  "metadata": {
    "colab": {
      "name": "selenium_colab.ipynb",
      "provenance": [],
      "authorship_tag": "ABX9TyMjhWGoMq7f8IVGVZ9Vd4/V",
      "include_colab_link": true
    },
    "kernelspec": {
      "name": "python3",
      "display_name": "Python 3"
    }
  },
  "cells": [
    {
      "cell_type": "markdown",
      "metadata": {
        "id": "view-in-github",
        "colab_type": "text"
      },
      "source": [
        "<a href=\"https://colab.research.google.com/github/josenalde/datascience/blob/main/selenium_colab.ipynb\" target=\"_parent\"><img src=\"https://colab.research.google.com/assets/colab-badge.svg\" alt=\"Open In Colab\"/></a>"
      ]
    },
    {
      "cell_type": "code",
      "metadata": {
        "id": "kTuuq_Nd1mJw"
      },
      "source": [
        "!pip install -U kora -q"
      ],
      "execution_count": 37,
      "outputs": []
    },
    {
      "cell_type": "code",
      "metadata": {
        "id": "-ydr1OR0_UIR"
      },
      "source": [
        "# De https://yugdamor.medium.com/selenium-inside-google-colab-febe6d797ce4\r\n",
        "\r\n",
        "from kora.selenium import wd"
      ],
      "execution_count": 41,
      "outputs": []
    },
    {
      "cell_type": "code",
      "metadata": {
        "id": "lTS3hM7jATnu"
      },
      "source": [
        "url = 'https://www.loteriaseresultados.com.br/index.php/megasena/concurso/2340'\r\n",
        "wd.get(url)\r\n",
        "wd."
      ],
      "execution_count": 58,
      "outputs": []
    },
    {
      "cell_type": "code",
      "metadata": {
        "colab": {
          "base_uri": "https://localhost:8080/",
          "height": 35
        },
        "id": "OnVanUpsAVXU",
        "outputId": "1ecea61e-1517-4c8b-a816-5467a845c020"
      },
      "source": [
        "wd.current_url"
      ],
      "execution_count": 59,
      "outputs": [
        {
          "output_type": "execute_result",
          "data": {
            "application/vnd.google.colaboratory.intrinsic+json": {
              "type": "string"
            },
            "text/plain": [
              "'https://www.loteriaseresultados.com.br/index.php/megasena/concurso/2340'"
            ]
          },
          "metadata": {
            "tags": []
          },
          "execution_count": 59
        }
      ]
    },
    {
      "cell_type": "code",
      "metadata": {
        "colab": {
          "base_uri": "https://localhost:8080/",
          "height": 617
        },
        "id": "u8JfoJ-aBYDu",
        "outputId": "0c703948-b941-496f-d3c0-90e955e6f3b8"
      },
      "source": [
        "display(wd)"
      ],
      "execution_count": 60,
      "outputs": [
        {
          "output_type": "display_data",
          "data": {
            "image/png": "[encoded data removed]",
            "text/plain": [
              "<selenium.webdriver.chrome.webdriver.WebDriver (session=\"5058e2bb1da6320f6dca33b7d30b8d9e\")>"
            ]
          },
          "metadata": {
            "tags": []
          }
        }
      ]
    },
    {
      "cell_type": "code",
      "metadata": {
        "id": "6env0VksAXdD"
      },
      "source": [
        "#content = wd.find_elements_by_css_selector(\"span[class='white--text font-weight-bold']\")\r\n",
        "content = wd.find_elements_by_css_selector(\"body\")"
      ],
      "execution_count": 61,
      "outputs": []
    },
    {
      "cell_type": "code",
      "metadata": {
        "colab": {
          "base_uri": "https://localhost:8080/"
        },
        "id": "wZrJuviJA85v",
        "outputId": "7d94a58d-69ba-4040-9141-cabb878a1518"
      },
      "source": [
        "content"
      ],
      "execution_count": 62,
      "outputs": [
        {
          "output_type": "execute_result",
          "data": {
            "text/plain": [
              "[<body></body>]"
            ]
          },
          "metadata": {
            "tags": []
          },
          "execution_count": 62
        }
      ]
    },
    {
      "cell_type": "code",
      "metadata": {
        "id": "3DNNVBz4A-UL"
      },
      "source": [
        ""
      ],
      "execution_count": null,
      "outputs": []
    }
  ]
}