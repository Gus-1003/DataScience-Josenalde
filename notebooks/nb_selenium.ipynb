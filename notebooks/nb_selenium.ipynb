{
 "cells": [
  {
   "cell_type": "code",
   "execution_count": 1,
   "id": "e91ac3d1",
   "metadata": {},
   "outputs": [],
   "source": [
    "#!pip install -U selenium\n",
    "#!pip install webdriver-manager\n",
    "\n",
    "from selenium import webdriver\n",
    "from selenium.webdriver.chrome.service import Service\n",
    "from webdriver_manager.chrome import ChromeDriverManager\n",
    "from selenium.webdriver.support.ui import WebDriverWait\n",
    "from selenium.webdriver.common.by import By"
   ]
  },
  {
   "cell_type": "code",
   "execution_count": 2,
   "id": "ce34ccdb",
   "metadata": {},
   "outputs": [],
   "source": [
    "options = webdriver.ChromeOptions()\n",
    "options.add_argument('headless') # O mais importante, não renderiza parte gráfica\n",
    "options.add_argument('window-size=1920x1080')"
   ]
  },
  {
   "cell_type": "code",
   "execution_count": 3,
   "id": "ef08e60b",
   "metadata": {},
   "outputs": [
    {
     "name": "stderr",
     "output_type": "stream",
     "text": [
      "[WDM] - Downloading: 100%|████████████████████████████████████████████████████████| 6.68M/6.68M [00:01<00:00, 6.63MB/s]\n"
     ]
    }
   ],
   "source": [
    "driver = webdriver.Chrome(service=Service(ChromeDriverManager().install()))"
   ]
  },
  {
   "cell_type": "code",
   "execution_count": 9,
   "id": "f12e10fb",
   "metadata": {},
   "outputs": [
    {
     "name": "stdout",
     "output_type": "stream",
     "text": [
      "\n",
      "\n",
      "EAJ conquista Prêmio Maker na Olimpíada Brasileira de Robótica\n",
      "https://ufrn.br/imprensa/noticias/63296/eaj-conquista-premio-maker-na-olimpiada-brasileira-de-robotica\n",
      "Os estudantes do curso técnico em Informática da Escola Agrícola de Jundiaí (EAJ/UFRN) conquistaram o Prêmio Maker na Olimpíada Brasileira de Robótica (OBR) na modalidade prática presencial. A equipe Lamarr, formada por Caio Henrique Jardelino Lima (2° ano), Matheus Ramos Ferreira da Silva (2° ano), Thiago Rayzing França de Farias (2° ano) e Vanzhayon Sousa dos Santos (1° ano), ganhou o prêmio na etapa estadual do Rio Grande do Norte da competição. \n",
      "Alunos da EAJ que conquistam Prêmio Maker na OBR – Foto: EAJ/UFRN\n",
      "Maker é a categoria que premia a equipe que se destaca por fazer a maior parte do robô de forma manual, não comprando kits prontos. A equipe Lamarr desenvolveu um robô autônomo com o intuito de seguir uma linha e desviar obstáculos, objetivos exigidos na modalidade. \n",
      "Segundo o estudante Vanzhayon, cada um dos integrantes da equipe já tinha vontade de fazer algo parecido, então, quando surgiu a oportunidade da OBR, formaram o grupo. Todo o robô começou com projetos em papéis, desenhos e plantas inspirados nos robôs anteriores da modalidade presencial da OBR. “Consequentemente, começamos um protótipo seguidor de linha, com sua base feita em policloreto de vinila (PVC) e alguns sensores infravermelhos. A partir daí, fizemos o segundo protótipo, com a base um pouco maior, utilizando os mesmos materiais. Só então fizemos a união entre os dois primeiros protótipos, fazendo nossa versão final, esta constituída de duas placas de PVC, sendo assim um ‘primeiro andar’, fixadas por parafusos e porcas travantes, utilizando também sensores infravermelhos e ultrassônicos, responsáveis por seguir a linha e ultrapassar obstáculos”, disse. \n",
      "Vanzhayon classifica o empreendedorismo da equipe como uma experiência nova e enriquecedora, que agregou bastante às suas vivências. Conta ainda que, durante o processo, o grupo enfrentou algumas dificuldades, como a falta de recursos e de tempo durante as aulas, mas também as férias, que começaram em um momento decisivo do desenvolvimento, só acabando dias antes da realização da competição, limitando os encontros e deixando-os sem acesso ao laboratório.\n",
      "“Apesar de tudo, com bastante ajuda das adaptações técnicas – as gambiarras – e do empenho de toda a equipe, nosso robô, batizado de Joule-V3, foi capaz de nos representar com um bom aproveitamento nas provas, alcançando a 8° posição entre todas as equipes do nosso nível e, de quebra, ainda conquistar a premiação Maker, que é uma das premiações extra oferecidas a algumas equipes que, apesar de não estarem no pódio, destacaram-se de alguma forma”, complementa Vanzhayon. \n",
      "O robô Joule-V3 marca a estreia dos jovens na OBR. Caio Henrique disse ser muito gratificante poder ser reconhecido por algo que fez, dedicou-se e superou dificuldades. “Mesmo o desempenho não sendo o melhor, nossa equipe sempre se esforçou e fomos reconhecidos por isso. Caso não fôssemos premiados, a experiência adquirida e o aprendizado foram compensadores, mas claro que uma premiação sempre é gratificante”, diz o aluno. Para Matheus Ramos, ter recebido a medalha foi espetacular. “Sentir aquela sensação de subir no palanque para receber a premiação, que foi fruto de tanto esforço, realmente é muito inspirador e empolgante”, comemora. \n",
      "Os alunos contaram com o auxílio do professor Leonardo Teixeira, que alertou sobre a OBR. “O aprendizado do conteúdo necessário para a construção do robô a partir dos seus componentes (sensores, microcontrolador e atuadores) se deu com a disciplina de Eletrônica para Computação do curso técnico em Informática da EAJ que leciono. Entretanto, diversos pontos da construção, como design, desenvolvimento do chassi, posicionamento dos sensores e estratégias de programação são méritos dos alunos na sua totalidade. A OBR incentiva o fazer e pensar dos alunos de forma que eles possam exercer a sua criatividade e o estudo de técnicas para a solução dos problemas. O professor auxilia o processo”, comenta.\n",
      "Leonardo diz ainda que a modalidade prática presencial é especial por ter a motivação de se construir um robô autônomo de verdade para cumprir os desafios da olimpíada. “E o Prêmio Maker mais ainda, pois é dado para a equipe que usou o menor número possível de kits/módulos comerciais prontos, sendo obrigados a exercer a criatividade em diversos pontos”, complementa.\n"
     ]
    },
    {
     "ename": "StaleElementReferenceException",
     "evalue": "Message: stale element reference: element is not attached to the page document\n  (Session info: chrome=105.0.5195.102)\nStacktrace:\nBacktrace:\n\tOrdinal0 [0x00C0DF13+2219795]\n\tOrdinal0 [0x00BA2841+1779777]\n\tOrdinal0 [0x00AB423D+803389]\n\tOrdinal0 [0x00AB6D04+814340]\n\tOrdinal0 [0x00AB6BC2+814018]\n\tOrdinal0 [0x00AB6E50+814672]\n\tOrdinal0 [0x00ADE91F+977183]\n\tOrdinal0 [0x00AFE7FC+1107964]\n\tOrdinal0 [0x00AD94B4+955572]\n\tOrdinal0 [0x00AFEA14+1108500]\n\tOrdinal0 [0x00B0F192+1175954]\n\tOrdinal0 [0x00AFE616+1107478]\n\tOrdinal0 [0x00AD7F89+950153]\n\tOrdinal0 [0x00AD8F56+954198]\n\tGetHandleVerifier [0x00F02CB2+3040210]\n\tGetHandleVerifier [0x00EF2BB4+2974420]\n\tGetHandleVerifier [0x00CA6A0A+565546]\n\tGetHandleVerifier [0x00CA5680+560544]\n\tOrdinal0 [0x00BA9A5C+1808988]\n\tOrdinal0 [0x00BAE3A8+1827752]\n\tOrdinal0 [0x00BAE495+1827989]\n\tOrdinal0 [0x00BB80A4+1867940]\n\tBaseThreadInitThunk [0x761EFA29+25]\n\tRtlGetAppContainerNamedObjectPath [0x77597A9E+286]\n\tRtlGetAppContainerNamedObjectPath [0x77597A6E+238]\n",
     "output_type": "error",
     "traceback": [
      "\u001b[1;31m---------------------------------------------------------------------------\u001b[0m",
      "\u001b[1;31mStaleElementReferenceException\u001b[0m            Traceback (most recent call last)",
      "Input \u001b[1;32mIn [9]\u001b[0m, in \u001b[0;36m<cell line: 10>\u001b[1;34m()\u001b[0m\n\u001b[0;32m      8\u001b[0m text_to_cloud \u001b[38;5;241m=\u001b[39m \u001b[38;5;124m'\u001b[39m\u001b[38;5;124m'\u001b[39m\n\u001b[0;32m     10\u001b[0m \u001b[38;5;28;01mfor\u001b[39;00m t \u001b[38;5;129;01min\u001b[39;00m title_news:\n\u001b[1;32m---> 11\u001b[0m     \u001b[38;5;28mprint\u001b[39m(\u001b[43mt\u001b[49m\u001b[38;5;241;43m.\u001b[39;49m\u001b[43mtext\u001b[49m)\n\u001b[0;32m     12\u001b[0m     link \u001b[38;5;241m=\u001b[39m t\u001b[38;5;241m.\u001b[39mget_attribute(\u001b[38;5;124m'\u001b[39m\u001b[38;5;124mhref\u001b[39m\u001b[38;5;124m'\u001b[39m)\n\u001b[0;32m     13\u001b[0m     \u001b[38;5;28;01mif\u001b[39;00m \u001b[38;5;124m'\u001b[39m\u001b[38;5;124mimprensa\u001b[39m\u001b[38;5;124m'\u001b[39m \u001b[38;5;129;01min\u001b[39;00m link:\n",
      "File \u001b[1;32m~\\anaconda3\\lib\\site-packages\\selenium\\webdriver\\remote\\webelement.py:84\u001b[0m, in \u001b[0;36mWebElement.text\u001b[1;34m(self)\u001b[0m\n\u001b[0;32m     81\u001b[0m \u001b[38;5;129m@property\u001b[39m\n\u001b[0;32m     82\u001b[0m \u001b[38;5;28;01mdef\u001b[39;00m \u001b[38;5;21mtext\u001b[39m(\u001b[38;5;28mself\u001b[39m) \u001b[38;5;241m-\u001b[39m\u001b[38;5;241m>\u001b[39m \u001b[38;5;28mstr\u001b[39m:\n\u001b[0;32m     83\u001b[0m     \u001b[38;5;124;03m\"\"\"The text of the element.\"\"\"\u001b[39;00m\n\u001b[1;32m---> 84\u001b[0m     \u001b[38;5;28;01mreturn\u001b[39;00m \u001b[38;5;28;43mself\u001b[39;49m\u001b[38;5;241;43m.\u001b[39;49m\u001b[43m_execute\u001b[49m\u001b[43m(\u001b[49m\u001b[43mCommand\u001b[49m\u001b[38;5;241;43m.\u001b[39;49m\u001b[43mGET_ELEMENT_TEXT\u001b[49m\u001b[43m)\u001b[49m[\u001b[38;5;124m'\u001b[39m\u001b[38;5;124mvalue\u001b[39m\u001b[38;5;124m'\u001b[39m]\n",
      "File \u001b[1;32m~\\anaconda3\\lib\\site-packages\\selenium\\webdriver\\remote\\webelement.py:396\u001b[0m, in \u001b[0;36mWebElement._execute\u001b[1;34m(self, command, params)\u001b[0m\n\u001b[0;32m    394\u001b[0m     params \u001b[38;5;241m=\u001b[39m {}\n\u001b[0;32m    395\u001b[0m params[\u001b[38;5;124m'\u001b[39m\u001b[38;5;124mid\u001b[39m\u001b[38;5;124m'\u001b[39m] \u001b[38;5;241m=\u001b[39m \u001b[38;5;28mself\u001b[39m\u001b[38;5;241m.\u001b[39m_id\n\u001b[1;32m--> 396\u001b[0m \u001b[38;5;28;01mreturn\u001b[39;00m \u001b[38;5;28;43mself\u001b[39;49m\u001b[38;5;241;43m.\u001b[39;49m\u001b[43m_parent\u001b[49m\u001b[38;5;241;43m.\u001b[39;49m\u001b[43mexecute\u001b[49m\u001b[43m(\u001b[49m\u001b[43mcommand\u001b[49m\u001b[43m,\u001b[49m\u001b[43m \u001b[49m\u001b[43mparams\u001b[49m\u001b[43m)\u001b[49m\n",
      "File \u001b[1;32m~\\anaconda3\\lib\\site-packages\\selenium\\webdriver\\remote\\webdriver.py:428\u001b[0m, in \u001b[0;36mWebDriver.execute\u001b[1;34m(self, driver_command, params)\u001b[0m\n\u001b[0;32m    426\u001b[0m response \u001b[38;5;241m=\u001b[39m \u001b[38;5;28mself\u001b[39m\u001b[38;5;241m.\u001b[39mcommand_executor\u001b[38;5;241m.\u001b[39mexecute(driver_command, params)\n\u001b[0;32m    427\u001b[0m \u001b[38;5;28;01mif\u001b[39;00m response:\n\u001b[1;32m--> 428\u001b[0m     \u001b[38;5;28;43mself\u001b[39;49m\u001b[38;5;241;43m.\u001b[39;49m\u001b[43merror_handler\u001b[49m\u001b[38;5;241;43m.\u001b[39;49m\u001b[43mcheck_response\u001b[49m\u001b[43m(\u001b[49m\u001b[43mresponse\u001b[49m\u001b[43m)\u001b[49m\n\u001b[0;32m    429\u001b[0m     response[\u001b[38;5;124m'\u001b[39m\u001b[38;5;124mvalue\u001b[39m\u001b[38;5;124m'\u001b[39m] \u001b[38;5;241m=\u001b[39m \u001b[38;5;28mself\u001b[39m\u001b[38;5;241m.\u001b[39m_unwrap_value(\n\u001b[0;32m    430\u001b[0m         response\u001b[38;5;241m.\u001b[39mget(\u001b[38;5;124m'\u001b[39m\u001b[38;5;124mvalue\u001b[39m\u001b[38;5;124m'\u001b[39m, \u001b[38;5;28;01mNone\u001b[39;00m))\n\u001b[0;32m    431\u001b[0m     \u001b[38;5;28;01mreturn\u001b[39;00m response\n",
      "File \u001b[1;32m~\\anaconda3\\lib\\site-packages\\selenium\\webdriver\\remote\\errorhandler.py:243\u001b[0m, in \u001b[0;36mErrorHandler.check_response\u001b[1;34m(self, response)\u001b[0m\n\u001b[0;32m    241\u001b[0m         alert_text \u001b[38;5;241m=\u001b[39m value[\u001b[38;5;124m'\u001b[39m\u001b[38;5;124malert\u001b[39m\u001b[38;5;124m'\u001b[39m]\u001b[38;5;241m.\u001b[39mget(\u001b[38;5;124m'\u001b[39m\u001b[38;5;124mtext\u001b[39m\u001b[38;5;124m'\u001b[39m)\n\u001b[0;32m    242\u001b[0m     \u001b[38;5;28;01mraise\u001b[39;00m exception_class(message, screen, stacktrace, alert_text)  \u001b[38;5;66;03m# type: ignore[call-arg]  # mypy is not smart enough here\u001b[39;00m\n\u001b[1;32m--> 243\u001b[0m \u001b[38;5;28;01mraise\u001b[39;00m exception_class(message, screen, stacktrace)\n",
      "\u001b[1;31mStaleElementReferenceException\u001b[0m: Message: stale element reference: element is not attached to the page document\n  (Session info: chrome=105.0.5195.102)\nStacktrace:\nBacktrace:\n\tOrdinal0 [0x00C0DF13+2219795]\n\tOrdinal0 [0x00BA2841+1779777]\n\tOrdinal0 [0x00AB423D+803389]\n\tOrdinal0 [0x00AB6D04+814340]\n\tOrdinal0 [0x00AB6BC2+814018]\n\tOrdinal0 [0x00AB6E50+814672]\n\tOrdinal0 [0x00ADE91F+977183]\n\tOrdinal0 [0x00AFE7FC+1107964]\n\tOrdinal0 [0x00AD94B4+955572]\n\tOrdinal0 [0x00AFEA14+1108500]\n\tOrdinal0 [0x00B0F192+1175954]\n\tOrdinal0 [0x00AFE616+1107478]\n\tOrdinal0 [0x00AD7F89+950153]\n\tOrdinal0 [0x00AD8F56+954198]\n\tGetHandleVerifier [0x00F02CB2+3040210]\n\tGetHandleVerifier [0x00EF2BB4+2974420]\n\tGetHandleVerifier [0x00CA6A0A+565546]\n\tGetHandleVerifier [0x00CA5680+560544]\n\tOrdinal0 [0x00BA9A5C+1808988]\n\tOrdinal0 [0x00BAE3A8+1827752]\n\tOrdinal0 [0x00BAE495+1827989]\n\tOrdinal0 [0x00BB80A4+1867940]\n\tBaseThreadInitThunk [0x761EFA29+25]\n\tRtlGetAppContainerNamedObjectPath [0x77597A9E+286]\n\tRtlGetAppContainerNamedObjectPath [0x77597A6E+238]\n"
     ]
    }
   ],
   "source": [
    "url_1 = 'https://ufrn.br/imprensa/noticias/filtros?text=eaj'\n",
    "driver.get(url_1);\n",
    "\n",
    "WebDriverWait(driver,5)\n",
    "# uma opção é obter todo o body (ou parte mais específica) da página com o selenium/webdriver e passar ao BSoup para análise padrão\n",
    "title_news = driver.find_elements(By.CLASS_NAME, 'blue-link');\n",
    "\n",
    "text_to_cloud = ''\n",
    "\n",
    "for t in title_news:\n",
    "    print(t.text)\n",
    "    link = t.get_attribute('href')\n",
    "    if 'imprensa' in link:\n",
    "        print(link)\n",
    "        t.click()\n",
    "        WebDriverWait(driver,5)\n",
    "        news_text = driver.find_element(By.TAG_NAME, 'content');\n",
    "        text_to_cloud += news_text.text\n",
    "        print(text_to_cloud)\n",
    "        driver.back()\n",
    "    \n"
   ]
  },
  {
   "cell_type": "code",
   "execution_count": 5,
   "id": "4d534f86",
   "metadata": {},
   "outputs": [
    {
     "data": {
      "text/plain": [
       "''"
      ]
     },
     "execution_count": 5,
     "metadata": {},
     "output_type": "execute_result"
    }
   ],
   "source": [
    "text_to_cloud"
   ]
  }
 ],
 "metadata": {
  "kernelspec": {
   "display_name": "Python 3 (ipykernel)",
   "language": "python",
   "name": "python3"
  },
  "language_info": {
   "codemirror_mode": {
    "name": "ipython",
    "version": 3
   },
   "file_extension": ".py",
   "mimetype": "text/x-python",
   "name": "python",
   "nbconvert_exporter": "python",
   "pygments_lexer": "ipython3",
   "version": "3.9.12"
  }
 },
 "nbformat": 4,
 "nbformat_minor": 5
}
