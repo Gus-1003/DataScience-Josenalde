{
 "cells": [
  {
   "cell_type": "code",
   "execution_count": 2,
   "id": "e91ac3d1",
   "metadata": {},
   "outputs": [],
   "source": [
    "#!pip install -U selenium\n",
    "#!pip install webdriver-manager\n",
    "\n",
    "from selenium import webdriver\n",
    "from selenium.webdriver.chrome.service import Service\n",
    "from webdriver_manager.chrome import ChromeDriverManager\n",
    "from selenium.webdriver.support.ui import WebDriverWait\n",
    "from selenium.webdriver.common.by import By\n",
    "\n",
    "import time"
   ]
  },
  {
   "cell_type": "code",
   "execution_count": 3,
   "id": "ce34ccdb",
   "metadata": {},
   "outputs": [],
   "source": [
    "options = webdriver.ChromeOptions()\n",
    "options.add_argument('headless') # O mais importante, não renderiza parte gráfica\n",
    "options.add_argument('window-size=1920x1080')"
   ]
  },
  {
   "cell_type": "code",
   "execution_count": 34,
   "id": "ef08e60b",
   "metadata": {},
   "outputs": [],
   "source": [
    "driver = webdriver.Chrome(service=Service(ChromeDriverManager().install()))"
   ]
  },
  {
   "cell_type": "code",
   "execution_count": 67,
   "id": "f12e10fb",
   "metadata": {},
   "outputs": [
    {
     "name": "stdout",
     "output_type": "stream",
     "text": [
      "12\n",
      "https://ufrn.br/imprensa/noticias/63296/eaj-conquista-premio-maker-na-olimpiada-brasileira-de-robotica\n",
      "https://ufrn.br/imprensa/noticias/63240/estudante-da-eaj-conquista-medalha-de-bronze-na-olimpiada-brasileira-de-robotica\n",
      "https://ufrn.br/imprensa/noticias/63170/eaj-conquista-1o-lugar-na-fase-estadual-da-obr\n",
      "https://ufrn.br/imprensa/noticias/63135/eaj-participa-de-etapa-estadual-da-obr-neste-domingo\n",
      "https://ufrn.br/imprensa/noticias/62901/eaj-promove-o-capacitacao-terra-brasil\n",
      "https://ufrn.br/imprensa/noticias/62813/eaj-seleciona-professores-para-programa-voltado-a-agricultura-familiar\n",
      "https://ufrn.br/imprensa/noticias/62485/eaj-realiza-leilao-de-bovinos-da-raca-girolando\n",
      "https://ufrn.br/imprensa/noticias/62350/eaj-promove-acao-de-sustentabilidade-e-causa-animal-na-arena-das-dunas\n",
      "https://ufrn.br/imprensa/noticias/62151/eaj-divulga-editais-de-assistencia-estudantil-para-alunos-dos-cursos-tecnicos\n",
      "https://ufrn.br/imprensa/noticias/62059/eaj-lanca-edital-para-leilao-de-bovinos\n",
      "Os estudantes do curso técnico em Informática da Escola Agrícola de Jundiaí (EAJ/UFRN) conquistaram o Prêmio Maker na Olimpíada Brasileira de Robótica (OBR) na modalidade prática presencial. A equipe Lamarr, formada por Caio Henrique Jardelino Lima (2° ano), Matheus Ramos Ferreira da Silva (2° ano), Thiago Rayzing França de Farias (2° ano) e Vanzhayon Sousa dos Santos (1° ano), ganhou o prêmio na etapa estadual do Rio Grande do Norte da competição. \n",
      "Alunos da EAJ que conquistam Prêmio Maker na OBR – Foto: EAJ/UFRN\n",
      "Maker é a categoria que premia a equipe que se destaca por fazer a maior parte do robô de forma manual, não comprando kits prontos. A equipe Lamarr desenvolveu um robô autônomo com o intuito de seguir uma linha e desviar obstáculos, objetivos exigidos na modalidade. \n",
      "Segundo o estudante Vanzhayon, cada um dos integrantes da equipe já tinha vontade de fazer algo parecido, então, quando surgiu a oportunidade da OBR, formaram o grupo. Todo o robô começou com projetos em papéis, desenhos e plantas inspirados nos robôs anteriores da modalidade presencial da OBR. “Consequentemente, começamos um protótipo seguidor de linha, com sua base feita em policloreto de vinila (PVC) e alguns sensores infravermelhos. A partir daí, fizemos o segundo protótipo, com a base um pouco maior, utilizando os mesmos materiais. Só então fizemos a união entre os dois primeiros protótipos, fazendo nossa versão final, esta constituída de duas placas de PVC, sendo assim um ‘primeiro andar’, fixadas por parafusos e porcas travantes, utilizando também sensores infravermelhos e ultrassônicos, responsáveis por seguir a linha e ultrapassar obstáculos”, disse. \n",
      "Vanzhayon classifica o empreendedorismo da equipe como uma experiência nova e enriquecedora, que agregou bastante às suas vivências. Conta ainda que, durante o processo, o grupo enfrentou algumas dificuldades, como a falta de recursos e de tempo durante as aulas, mas também as férias, que começaram em um momento decisivo do desenvolvimento, só acabando dias antes da realização da competição, limitando os encontros e deixando-os sem acesso ao laboratório.\n",
      "“Apesar de tudo, com bastante ajuda das adaptações técnicas – as gambiarras – e do empenho de toda a equipe, nosso robô, batizado de Joule-V3, foi capaz de nos representar com um bom aproveitamento nas provas, alcançando a 8° posição entre todas as equipes do nosso nível e, de quebra, ainda conquistar a premiação Maker, que é uma das premiações extra oferecidas a algumas equipes que, apesar de não estarem no pódio, destacaram-se de alguma forma”, complementa Vanzhayon. \n",
      "O robô Joule-V3 marca a estreia dos jovens na OBR. Caio Henrique disse ser muito gratificante poder ser reconhecido por algo que fez, dedicou-se e superou dificuldades. “Mesmo o desempenho não sendo o melhor, nossa equipe sempre se esforçou e fomos reconhecidos por isso. Caso não fôssemos premiados, a experiência adquirida e o aprendizado foram compensadores, mas claro que uma premiação sempre é gratificante”, diz o aluno. Para Matheus Ramos, ter recebido a medalha foi espetacular. “Sentir aquela sensação de subir no palanque para receber a premiação, que foi fruto de tanto esforço, realmente é muito inspirador e empolgante”, comemora. \n",
      "Os alunos contaram com o auxílio do professor Leonardo Teixeira, que alertou sobre a OBR. “O aprendizado do conteúdo necessário para a construção do robô a partir dos seus componentes (sensores, microcontrolador e atuadores) se deu com a disciplina de Eletrônica para Computação do curso técnico em Informática da EAJ que leciono. Entretanto, diversos pontos da construção, como design, desenvolvimento do chassi, posicionamento dos sensores e estratégias de programação são méritos dos alunos na sua totalidade. A OBR incentiva o fazer e pensar dos alunos de forma que eles possam exercer a sua criatividade e o estudo de técnicas para a solução dos problemas. O professor auxilia o processo”, comenta.\n",
      "Leonardo diz ainda que a modalidade prática presencial é especial por ter a motivação de se construir um robô autônomo de verdade para cumprir os desafios da olimpíada. “E o Prêmio Maker mais ainda, pois é dado para a equipe que usou o menor número possível de kits/módulos comerciais prontos, sendo obrigados a exercer a criatividade em diversos pontos”, complementa.O estudante Vitor Carvalho, do 3° ano do curso técnico em Informática da Escola Agrícola de Jundiaí (EAJ/UFRN), conquistou a medalha de bronze na modalidade teórica da Olimpíada Brasileira de Robótica (OBR). Essa modalidade é dividida em duas partes: a primeira, classificatória, foi realizada em junho, de maneira presencial, na EAJ/UFRN. Já a prova da segunda fase foi realizada em agosto, de forma remota. \n",
      "O êxito é resultado do estudo dos componentes curriculares da escola, pesquisas do aluno e provas da própria OBR. “A preparação ocorreu durante os três anos em que participei: fazendo provas de edições anteriores e dedicando-me diante das disciplinas da grade curricular do ensino médio e do curso técnico. Esse processo também esteve presente em vários momentos quando pesquisava sobre assuntos de meu interesse, principalmente da área técnica. Assim, consegui depois desse período ser aprovado para a segunda fase da olimpíada e conquistar a medalha”, explica.\n",
      "Vitor, que esteve competindo na OBR desde o 1° ano, avalia a participação como um avanço a cada edição. “Participo desde o primeiro ano em que cheguei à EAJ. Foi um percurso em que avancei progressivamente. No primeiro ano, a participação foi apenas como experiência. Já no segundo, por poucos pontos não conquistei medalha. Para minha alegria, este ano consegui o tão sonhado objetivo que almejo desde o início. O simples fato de gostar de participar de olimpíadas científicas me motivou a seguir participando. No fundamental, só conhecia a OBMEP, mas, quando entrei na EAJ, vi que existiam outras, então percebi como essas experiências poderiam me ajudar como estudante, aumentando meu conhecimento por meio do prazer e da diversão, sem ter uma obrigatoriedade com o resultado”, comenta o medalhista. \n",
      "Estudante Vitor Carvalho, da EAJ, medalhista da OBR – Foto: Ascom EAJ/UFRN\n",
      "O jovem está no último ano do ensino médio e vê a conquista como parte da trajetória que sempre quis trilhar como estudante. “Um sentimento bom, que possibilitou uma sensação de dever cumprido. Três anos de competição resultaram em algo incrível, mas principalmente simbolizam uma grande parte da pessoa que eu me tornei e das experiências que vivi durante o ensino médio. Não vejo a medalha apenas como a conquista de uma competição, mas como um símbolo da pessoa que sempre quis me tornar durante a minha infância: um aluno que participa ativamente de atividades científicas, sejam elas olimpíadas, congressos ou algum outro evento. Será bem significativo poder olhar para a medalha e lembrar que meu sonho de infância pôde se tornar realidade e que hoje eu vivo esse maravilhoso sonho”, celebra. \n",
      "A OBR foi uma experiência responsável por expandir a visão do estudante sobre robótica e que o motivou a pesquisar sobre o tema e demais assuntos que o ajudaram no desempenho escolar. Além disso, é parte do encerramento de um ciclo do aluno que está em ano de conclusão do ensino médio. “Esses conhecimentos abriram inúmeras portas para mim, proporcionando novas experiências que marcaram e mudaram minha vida para sempre. É uma sensação incrível”, disse Vitor.\n",
      "Para o estudante, é muito bom passar por uma experiência como essa e poder finalmente conquistar uma medalha. “A OBR me ajudou a focar e ao mesmo tempo me divertir em meio aos tempos turbulentos enfrentados por todos nós nestes últimos anos e poder conquistar esta medalha no último ano de curso é algo recompensador, pois para mim ela simboliza todo esse percurso de vida, que é repleto de experiências e pessoas inesquecíveis que quero poder lembrar para sempre”, completou.\n",
      "O professor Leonardo Teixeira, orientador do estudante na OBR, falou sobre a conquista do aluno e sobre as próximas edições da competição. “É motivo de grande satisfação ver a conquista de mais uma medalha na modalidade teórica, especialmente no caso de Vitor, que já tinha chegado próximo dessa conquista nos anos anteriores e fez por merecer. Atualmente já há uma cultura de participação na OBR por parte dos estudantes do Curso Técnico em Informática da EAJ. Algo que a cada ano se fortalece com as nossas conquistas. Com certeza, continuarei motivando os alunos a participarem e contribuindo com a orientação. A expectativa futura é sempre focada no aumento do interesse pela área tecnológica e no aprendizado”, comentou.Os estudantes do 3° ano do curso técnico em Informática da Escola Agrícola de Jundiaí (EAJ/UFRN) participaram nesse domingo, 4, da etapa estadual Rio Grande do Norte (RN) da Olimpíada Brasileira de Robótica (OBR). Os alunos João Vitor Gomes Vieira, Jonas Ribeiro de Azevedo Filho, Jonata de Andrade dos Santos e Vitor Carvalho Silva, que formam a equipe CalangoBots, ficaram em 1º lugar da etapa estadual na modalidade prática de simulação e se classificaram para a etapa nacional da competição.\n",
      "Equipe CalangoBots – Foto: Ascom EAJ\n",
      "Na modalidade realizada, os alunos tinham que construir e programar, no simulador sBotics, um robô. Esse deve superar os mesmos desafios da modalidade prática presencial, que consistem em seguir uma linha, desviar de obstáculos, superar redutores e subir rampa, com o objetivo de realizar o resgate de vítimas. Nessa etapa, os estudantes colocam o robô previamente construído e programado para ser testado no simulador.\n",
      "Orientados pelo professor Leonardo Teixeira, esta é a primeira vez que a equipe atinge o lugar mais alto do pódio nessa etapa e a segunda vez que garante uma vaga na etapa nacional. Em 2021, a CalangoBots ficou em 3º lugar na competição da fase estadual. Agora a equipe se prepara para a próxima fase da competição.Os estudantes do 3° ano do curso técnico em Informática da Escola Agrícola de Jundiaí (EAJ/UFRN) vão participar, neste domingo, 4, da etapa estadual da Olimpíada Brasileira de Robótica (OBR). Os alunos João Vitor Gomes Vieira, Jonas Ribeiro de Azevedo Filho, Jonata de Andrade dos Santos e Vitor Carvalho Silva formam a equipe CalangoBots, que competirá na modalidade prática de simulação.\n",
      "Nesta modalidade, os participantes devem, utilizando o simulador sBotics, construir e programar um robô. Ele deve superar os mesmos desafios da modalidade prática presencial, que consistem em seguir em linha, desviar de obstáculos, superar redutores e subir rampas, por exemplo, para resgatar vítimas. Para a simulação, os estudantes colocam o robô, previamente construído e programado, para ser testado no simulador.\n",
      "O professor Leonardo Teixeira, orientador dos alunos na OBR, fala sobre o que espera da participação nessa etapa da competição. “A expectativa é a melhor possível. Em 2020, fomos 1º e 2º colocados na etapa estadual do RN. Em 2021, exatamente com a equipe CalangoBots, ficamos em 3º. Os alunos já são experientes na modalidade e estão trabalhando forte para realizarem uma boa competição”, comenta. \n",
      "A classificação das equipes na modalidade de simulação vai depender da pontuação conquistada. Esta é responsável pela aprovação dos estudantes para a etapa nacional, que será realizada no período de 17 a 22 de outubro. A conquista do 3° lugar na etapa estadual do ano passado levou a CalangoBots para a nacional. Este ano os alunos vão tentar repetir o feito.A Escola Agrícola de Jundiaí (EAJ/UFRN) promoveu, na manhã da última sexta-feira, 26, atividade do projeto Capacitação Terra Brasil para falar sobre o crédito destinado à compra de terra para o agricultor familiar. O evento contou com a participação de agricultores, professores e alunos da Escola. \n",
      "A ação, organizada pela Cooperativa de Serviços Técnicos, Consultoria e Assessoria do Rio Grande do Norte (Agrotern/Astes), em parceria com a EAJ/UFRN e a Federação dos Trabalhadores Rurais Agricultores e Agricultoras Familiares do Estado do Rio Grande do Norte (Fetarn), contou com um bate-papo sobre o crédito que existe em alguns bancos destinado ao produtor rural, apresentando benefícios e valores. \n",
      "Erivam do Carmo Silva, presidente da Fetarn, destacou a importância do encontro: “A nossa participação nesse evento vem para fomentar a agricultura familiar e o desenvolvimento sustentável. É uma luta contínua nossa para o campo, e é importante essa iniciativa de levar até os alunos o conhecimento sobre o Terra Brasil, que é um programa de acesso à terra e agricultura familiar e a EAJ, nossa grande parceira, levar isso aos jovens. Para nós é motivo de muita alegria estar aqui participando desse evento”, disse.\n",
      "Jussielly Mara, da Agrotern, também destacou a relevância do momento. “A importância é que chegue a conhecimento de todos que há um crédito feito através do técnico agrícola para a obtenção da terra. Algo que pode mudar a vida do agricultor que não tem sua própria terra e precisa pagar por algo que não é dele”, explica.A Escola Agrícola de Jundiaí (EAJ/UFRN) lançou edital do processo seletivo simplificado para cadastro de reserva de professores voltados à atuação no Programa de Extensão para o Desenvolvimento de Produtores da Agricultura Familiar do RN. As inscrições acontecem de 25 de agosto a 1º de setembro, bastando preencher corretamente os campos do formulário e anexar os documentos em formato PDF. Cada candidato só poderá concorrer a uma vaga.  \n",
      "Entre a documentação exigida estão: identidade com foto; cópia de comprovação de escolaridade: graduação ou pós-graduação (especialização, mestrado e doutorado) conforme cada perfil da vaga concorrida; experiência profissional para a função de professor: comprovação de tempo de serviço na área de atuação. \n",
      "O processo seletivo será conduzido por uma comissão de seleção designada pelo diretor da EAJ e constará de uma fase de caráter classificatório. O resultado parcial será divulgado até  6 de setembro, podendo o candidato recorrer até o dia 8 pelo e-mail coorde.extensao.eaj@gmail.com, utilizando o modelo de requerimento disponível no edital. O resultado final será divulgado até dia 13 de setembro, por e-mail ou no site da EAJ.No dia 1° de setembro, a Escola Agrícola de Jundiaí (EAJ/UFRN) vai realizar o leilão de semoventes de propriedade da UFRN, classificados como ociosos. O leilão, marcado para as 9h, no Auditório do Ensino Médio da EAJ, acontece na modalidade de lotes, sendo 27 animais ao todo (15 fêmeas e 12 machos) da raça girolando, resultante do cruzamento das raças holandesa e zebuína gir.\n",
      "A raça girolando possui alta produtividade, rusticidade, precocidade, longevidade e fertilidade, além da alta capacidade de adaptação a diferentes tipos de manejo e clima. Jorge Motta, médico veterinário da EAJ/UFRN, fala sobre a variedade de animais apresentada no leilão, o que pode atender a diferentes necessidades de acordo com cada produtor.\n",
      "\n",
      "“Temos animais de uma grande variedade de idades e isso é bom para o produtor, porque, por exemplo, alguns vão querer comprar bezerras, enquanto outros vão querer comprar a vaca já na idade fértil. São animais da raça girolando em vários graus de sangue, desde três quartos até sete oitavos de holandês”, explica. \n",
      "Os bovinos que vão a leilão pertencem ao excedente da EAJ/UFRN. Eles fazem parte das atividades de ensino, pesquisa e extensão. Ao atingir o número ideal de animais para esses fins o excedente é leiloado, portanto, são animais que têm condições de produzir leite e gerar renda para quem os adquirir.\n",
      "Antes mesmo da data do leilão, os participantes podem realizar uma visita para identificar os animais de seu interesse, de modo a conferir os que estão à venda, para auxiliar melhor na escolha e na compra. Os bens estarão expostos para visitação de segunda a sexta-feira, das 8h às 11h, no Setor de Bovinocultura da escola. A visitação será acompanhada por um membro da Comissão e deverá ser agendada previamente pelo telefone (84) 9 9474-6741.\n",
      "Podem participar pessoas físicas e jurídicas, desde que não estejam impedidas de licitar, bem como contratar com a Administração Pública e atendam a todas as exigências presentes no edital. Está impossibilitada a participação de menores de 18 anos, assim como todos os servidores e agentes públicos vinculados à UFRN. Os interessados deverão apresentar todos os documentos requeridos, listados no edital.A Escola Agrícola de Jundiaí (EAJ/UFRN) participou do evento Arena Pet, que ocorreu na Arena das Dunas, neste domingo, 14. O programa apresentado foi o Pet Stop na Arena, cujo objetivo é informar a importância de recolher e doar tampinhas plásticas e óleo de fritura usado. A ação é uma parceria entre a EAJ, coordenada pelas professoras Shirlle Nunes e Karen Mattos, o projeto Coletivo Escola Verde, coordenado pela professora Emanuelle Ventura, CDL e a empresa INDAMA.\n",
      "\n",
      "O projeto é uma ação de sustentabilidade e causa animal no RN. Destacando que ao fazer o descarte correto dos seus resíduos, as pessoas estarão contribuindo para a causa animal no estado do Rio Grande do Norte. A ação projeta destinos com qualificação, e se dispõe a sensibilizar e informar que o plástico e o óleo não devem ser somente descartados, mas receber uma destinação adequada.\n",
      "De acordo com a professora Shirlle Nunes, os materiais expostos são nocivos ao meio ambiente, devido ao tempo considerável de decomposição do plástico. Quanto ao óleo, exige-se uma demanda árdua para tratamento, com maior custo de reagente, dado que pode contaminar outras áreas quando seu uso é excessivo e sem organização. \n",
      "A proposta apresentada pela EAJ é tornar a situação menos lesiva ao meio ambiente, que as tampas plásticas e o óleo sejam repassados para empresas que os destinem à reciclagem ou ao uso consciente. As tampinhas voltam para a indústria e o óleo pode ser refinado e destinado a empresas (como matéria prima) e/ou reutilizado na fabricação de sabão para uso diverso.\n",
      "A professora Karen Mattos evidencia que, neste primeiro momento de abordagem e coleta dos materiais, o óleo e as tampinhas destinadas aos respectivos procedimentos serão revertidas em um valor simbólico para incentivar as doações, cujos recursos serão usados em prol das causas animais, justificando as parcerias e o evento.A Coordenação de Políticas Estudantis (COPE) da Escola Agrícola de Jundiaí (EAJ/UFRN) lançou os editais de inscrição e renovação dos Programas de Assistência Estudantil 2022.2. Podem se candidatar os estudantes em situação de vulnerabilidade socioeconômica, ingressantes ou veteranos, dos cursos técnicos da EAJ das modalidades subsequente e integrado. Os editais do processo seletivo são referentes a Alimentação, Transporte, Residência e Moradia Estudantil. Eles estão disponíveis na página da EAJ.\n",
      "As renovações ocorrem de 9 a 16 de agosto e as novas inscrições para concessão vão de 9 a 23 do mesmo mês. O processo de solicitação dos auxílios se dá a partir da adesão ao Cadastro Único, feito na aba Bolsas do Sigaa, na qual o estudante deve responder ao questionário solicitado e anexar toda a documentação exigida. Após aderir ao Cadastro, o aluno pode solicitar o auxílio pelo caminho Bolsas > Solicitação de Bolsas.\n",
      "O Auxílio Alimentação visa suprir necessidades alimentares dos estudantes mediante o acesso à alimentação no Restaurante Universitário/EAJ ou por meio alternativo em situações especiais. O benefício pode ser concedido em duas modalidades: gratuito ou pagante/subsidiado. Por sua vez, o Auxílio Transporte Estudantil possui como objetivo assegurar a frequência dos discentes em situação de vulnerabilidade socioeconômica às atividades curriculares, para isso fornece de auxílio em espécie no valor de R$ 100. \n",
      "Já o programa de Residência Estudantil é destinado a assegurar moradia por meio de vaga na residência estudantil da EAJ. Ele é destinado a estudantes em situação de vulnerabilidade socioeconômica regularmente matriculados nos cursos técnicos EAJ/UFRN cujas famílias não residam na cidade onde realizam o curso, enquanto o Auxílio Moradia é destinado aos que não tenham sido contemplados com vaga na residência estudantil da EAJ/UFRN, mas atendam aos critérios e princípios estabelecidos pelo Programa de Assistência Estudantil na UFRN, oferecendo o pagamento de R$250 em espécie.\n",
      "O resultado parcial será divulgado a partir de 19 de agosto no site da EAJ e na página da UFRN. Todas as informações e orientações sobre a adesão ao Cadastro Único, envio da documentação, solicitação e renovação dos auxílios, acompanhamento do processo, datas, entre outros tópicos estão disponíveis no edital.A Escola Agrícola de Jundiaí (EAJ/UFRN) lançou edital do leilão de semoventes bovinos de propriedade da UFRN classificados como ociosos. O leilão está marcado para o dia 1º de setembro, às 9h, no Auditório do Ensino Médio da EAJ. O evento será realizado pela leiloeira Adriana da Silva Cardoso, responsável por designar os procedimentos de julgar e processar os lances propostos.\n",
      "Podem participar pessoas físicas e jurídicas, desde que não estejam impedidas de licitar e contratar com a Administração Pública e atendam a todas as exigências presentes no edital. Está impossibilitada a participação de menores de 18 anos, assim como todos os servidores e agentes públicos vinculados à UFRN. Os interessados deverão apresentar todos os documentos requeridos, listados no edital.\n",
      "Semovente é a denominação aplicada pelo Direito a animais de bando que constituem patrimônio. O leilão acontece na modalidade de lotes, sendo 27 animais ao todo (15 fêmeas e 12 machos) da raça girolando. Os bens estarão expostos para visitação, de segunda a sexta-feira, das 8h às 11h, no Setor de Bovinocultura da EAJ. A visitação será acompanhada por um membro da Comissão e deverá ser agendada previamente pelo telefone (84) 99474-6741.\n"
     ]
    }
   ],
   "source": [
    "url_1 = 'https://ufrn.br/imprensa/noticias/filtros?text=eaj'\n",
    "driver.get(url_1);\n",
    "\n",
    "# uma opção é obter todo o body (ou parte mais específica) da página com o selenium/webdriver e passar ao BSoup para análise padrão\n",
    "title_news = driver.find_elements(By.CLASS_NAME, 'blue-link');\n",
    "n_news = len(title_news) #quantas notícias na página atual\n",
    "\n",
    "text_to_cloud = ''\n",
    "\n",
    "def find(driver):\n",
    "    element = driver.find_element(By.TAG_NAME, 'content')\n",
    "    if element:\n",
    "        return element\n",
    "    else:\n",
    "        return False\n",
    "\n",
    "for i in range(1,n_news):\n",
    "    #a cada volta de página necessário procurar novamente, pois perde o DOM/referência\n",
    "    title_news = driver.find_elements(By.CLASS_NAME, 'blue-link');\n",
    "    link = title_news[i].get_attribute('href')\n",
    "    if 'imprensa' in link:\n",
    "        print(link)\n",
    "        title_news[i].click()\n",
    "        time.sleep(2)\n",
    "        news_text = WebDriverWait(driver, 30).until(find)\n",
    "        text_to_cloud += news_text.text\n",
    "        driver.back()\n",
    "        time.sleep(2)\n",
    "\n",
    "print(text_to_cloud)"
   ]
  },
  {
   "cell_type": "code",
   "execution_count": 5,
   "id": "4d534f86",
   "metadata": {},
   "outputs": [
    {
     "data": {
      "text/plain": [
       "''"
      ]
     },
     "execution_count": 5,
     "metadata": {},
     "output_type": "execute_result"
    }
   ],
   "source": [
    "text_to_cloud"
   ]
  }
 ],
 "metadata": {
  "kernelspec": {
   "display_name": "Python 3 (ipykernel)",
   "language": "python",
   "name": "python3"
  },
  "language_info": {
   "codemirror_mode": {
    "name": "ipython",
    "version": 3
   },
   "file_extension": ".py",
   "mimetype": "text/x-python",
   "name": "python",
   "nbconvert_exporter": "python",
   "pygments_lexer": "ipython3",
   "version": "3.9.12"
  }
 },
 "nbformat": 4,
 "nbformat_minor": 5
}
