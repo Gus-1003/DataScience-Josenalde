{
 "cells": [
  {
   "cell_type": "markdown",
   "id": "unlike-switch",
   "metadata": {},
   "source": [
    "## 1) Vamos utilizar a API do GitHub (http://developer.github.com/v3/) para acesso não-autenticado, por exemplo para acesso ao repositório público"
   ]
  },
  {
   "cell_type": "code",
   "execution_count": 1,
   "id": "intimate-celebration",
   "metadata": {},
   "outputs": [],
   "source": [
    "import requests, json"
   ]
  },
  {
   "cell_type": "code",
   "execution_count": 2,
   "id": "baking-slovak",
   "metadata": {},
   "outputs": [],
   "source": [
    "endpoint = 'https://api.github.com/users/josenalde/repos' # acesso ao JSON do repositório geral"
   ]
  },
  {
   "cell_type": "code",
   "execution_count": 3,
   "id": "egyptian-newton",
   "metadata": {},
   "outputs": [],
   "source": [
    "repos = json.loads(requests.get(endpoint).text) # .loads lê json e produz lista de dicionários Python"
   ]
  },
  {
   "cell_type": "markdown",
   "id": "authentic-robinson",
   "metadata": {},
   "source": [
    "### 1.1) O formato das datas é UTC, string unicode: \"created_at\": \"2020-03-24T23:37:01Z\". Vamos identificar os meses e dias foram criados repositórios. O python tem um alisador de datas melhorado, o python-dateutil. Vamos instalar... "
   ]
  },
  {
   "cell_type": "code",
   "execution_count": 4,
   "id": "invisible-onion",
   "metadata": {},
   "outputs": [
    {
     "name": "stdout",
     "output_type": "stream",
     "text": [
      "Requirement already satisfied: python-dateutil in c:\\users\\josen\\anaconda3\\lib\\site-packages (2.8.1)\n",
      "Requirement already satisfied: six>=1.5 in c:\\users\\josen\\anaconda3\\lib\\site-packages (from python-dateutil) (1.15.0)\n"
     ]
    }
   ],
   "source": [
    "!pip install python-dateutil\n"
   ]
  },
  {
   "cell_type": "code",
   "execution_count": 5,
   "id": "homeless-ottawa",
   "metadata": {},
   "outputs": [],
   "source": [
    "from dateutil.parser import parse"
   ]
  },
  {
   "cell_type": "code",
   "execution_count": 8,
   "id": "developing-johnston",
   "metadata": {},
   "outputs": [],
   "source": [
    "from collections import Counter\n",
    "dates = [parse(repo['created_at']) for repo in repos] # lista de compressão - obtem todas as datas\n",
    "month_counts = Counter(date.month for date in dates)\n",
    "weekday_counts = Counter(date.weekday() for date in dates)"
   ]
  },
  {
   "cell_type": "code",
   "execution_count": 9,
   "id": "alive-chosen",
   "metadata": {},
   "outputs": [
    {
     "data": {
      "text/plain": [
       "[datetime.datetime(2020, 3, 24, 23, 37, 1, tzinfo=tzutc()),\n",
       " datetime.datetime(2015, 11, 25, 9, 46, 44, tzinfo=tzutc()),\n",
       " datetime.datetime(2020, 8, 23, 19, 3, 54, tzinfo=tzutc()),\n",
       " datetime.datetime(2020, 11, 26, 1, 23, 18, tzinfo=tzutc()),\n",
       " datetime.datetime(2020, 8, 24, 0, 50, 41, tzinfo=tzutc()),\n",
       " datetime.datetime(2020, 8, 31, 15, 8, 6, tzinfo=tzutc())]"
      ]
     },
     "execution_count": 9,
     "metadata": {},
     "output_type": "execute_result"
    }
   ],
   "source": [
    "dates"
   ]
  },
  {
   "cell_type": "code",
   "execution_count": 10,
   "id": "organizational-monte",
   "metadata": {},
   "outputs": [
    {
     "data": {
      "text/plain": [
       "Counter({3: 1, 11: 2, 8: 3})"
      ]
     },
     "execution_count": 10,
     "metadata": {},
     "output_type": "execute_result"
    }
   ],
   "source": [
    "month_counts"
   ]
  },
  {
   "cell_type": "code",
   "execution_count": 11,
   "id": "interesting-abraham",
   "metadata": {},
   "outputs": [
    {
     "data": {
      "text/plain": [
       "Counter({1: 1, 2: 1, 6: 1, 3: 1, 0: 2})"
      ]
     },
     "execution_count": 11,
     "metadata": {},
     "output_type": "execute_result"
    }
   ],
   "source": [
    "weekday_counts"
   ]
  },
  {
   "cell_type": "markdown",
   "id": "compatible-terry",
   "metadata": {},
   "source": [
    "### 1.2) obter últimos cinco repositórios e as linguagens dos mesmos"
   ]
  },
  {
   "cell_type": "code",
   "execution_count": 12,
   "id": "alternative-wholesale",
   "metadata": {},
   "outputs": [],
   "source": [
    "last_5_repositories = sorted(repos,\n",
    "                             key=lambda r: r['created_at'],\n",
    "                             reverse=True)[:5]"
   ]
  },
  {
   "cell_type": "code",
   "execution_count": 13,
   "id": "suitable-phase",
   "metadata": {},
   "outputs": [],
   "source": [
    "last_5_languages = [repo['language']\n",
    "                    for repo in last_5_repositories]"
   ]
  },
  {
   "cell_type": "code",
   "execution_count": 14,
   "id": "indian-beauty",
   "metadata": {},
   "outputs": [
    {
     "data": {
      "text/plain": [
       "['Jupyter Notebook', 'C++', 'Jupyter Notebook', 'C++', 'C++']"
      ]
     },
     "execution_count": 14,
     "metadata": {},
     "output_type": "execute_result"
    }
   ],
   "source": [
    "last_5_languages"
   ]
  },
  {
   "cell_type": "markdown",
   "id": "scenic-monster",
   "metadata": {},
   "source": [
    "## 2) Para obter dados de sites específicos, sem necessariamente recorrer à extração (scripting), pode-se procurar a seção de API dos sites, por exemplo, https://api.ufrn.br/, API Yelp: https://business.yelp.com/, API IMDB: https://imdb-api.com/api/#YouTube-header, NetFlix: https://netflix.github.io/, Tweepy: https://docs.tweepy.org/en/latest/"
   ]
  },
  {
   "cell_type": "code",
   "execution_count": null,
   "id": "joined-square",
   "metadata": {},
   "outputs": [],
   "source": []
  }
 ],
 "metadata": {
  "kernelspec": {
   "display_name": "Python 3",
   "language": "python",
   "name": "python3"
  },
  "language_info": {
   "codemirror_mode": {
    "name": "ipython",
    "version": 3
   },
   "file_extension": ".py",
   "mimetype": "text/x-python",
   "name": "python",
   "nbconvert_exporter": "python",
   "pygments_lexer": "ipython3",
   "version": "3.8.5"
  }
 },
 "nbformat": 4,
 "nbformat_minor": 5
}
