{
 "cells": [
  {
   "cell_type": "code",
   "execution_count": 6,
   "id": "swiss-texas",
   "metadata": {},
   "outputs": [
    {
     "data": {
      "text/plain": [
       "[(1, 10), (4, 20), (6, 2)]"
      ]
     },
     "execution_count": 6,
     "metadata": {},
     "output_type": "execute_result"
    }
   ],
   "source": [
    "x = [1, 4, 6]\n",
    "y = [10, 20 ,2]\n",
    "z = list(zip(x,y))\n",
    "z\n"
   ]
  },
  {
   "cell_type": "markdown",
   "id": "alpha-hormone",
   "metadata": {},
   "source": [
    "##### Prof. Josenalde Oliveira@TADS@UFRN\n",
    "##### Lendo um arquivo json para um dataframe"
   ]
  },
  {
   "cell_type": "code",
   "execution_count": 17,
   "id": "assisted-fitting",
   "metadata": {},
   "outputs": [
    {
     "data": {
      "text/html": [
       "<div>\n",
       "<style scoped>\n",
       "    .dataframe tbody tr th:only-of-type {\n",
       "        vertical-align: middle;\n",
       "    }\n",
       "\n",
       "    .dataframe tbody tr th {\n",
       "        vertical-align: top;\n",
       "    }\n",
       "\n",
       "    .dataframe thead th {\n",
       "        text-align: right;\n",
       "    }\n",
       "</style>\n",
       "<table border=\"1\" class=\"dataframe\">\n",
       "  <thead>\n",
       "    <tr style=\"text-align: right;\">\n",
       "      <th></th>\n",
       "      <th>_id</th>\n",
       "      <th>inscricao</th>\n",
       "      <th>responsavel</th>\n",
       "    </tr>\n",
       "  </thead>\n",
       "  <tbody>\n",
       "    <tr>\n",
       "      <th>0</th>\n",
       "      <td>1</td>\n",
       "      <td>201601</td>\n",
       "      <td>201603</td>\n",
       "    </tr>\n",
       "    <tr>\n",
       "      <th>1</th>\n",
       "      <td>2</td>\n",
       "      <td>201602</td>\n",
       "      <td>201602</td>\n",
       "    </tr>\n",
       "    <tr>\n",
       "      <th>2</th>\n",
       "      <td>3</td>\n",
       "      <td>201603</td>\n",
       "      <td>201603</td>\n",
       "    </tr>\n",
       "    <tr>\n",
       "      <th>3</th>\n",
       "      <td>4</td>\n",
       "      <td>201604</td>\n",
       "      <td>201604</td>\n",
       "    </tr>\n",
       "    <tr>\n",
       "      <th>4</th>\n",
       "      <td>5</td>\n",
       "      <td>201605</td>\n",
       "      <td>201603</td>\n",
       "    </tr>\n",
       "    <tr>\n",
       "      <th>5</th>\n",
       "      <td>6</td>\n",
       "      <td>201606</td>\n",
       "      <td>201602</td>\n",
       "    </tr>\n",
       "  </tbody>\n",
       "</table>\n",
       "</div>"
      ],
      "text/plain": [
       "   _id  inscricao  responsavel\n",
       "0    1     201601       201603\n",
       "1    2     201602       201602\n",
       "2    3     201603       201603\n",
       "3    4     201604       201604\n",
       "4    5     201605       201603\n",
       "5    6     201606       201602"
      ]
     },
     "execution_count": 17,
     "metadata": {},
     "output_type": "execute_result"
    }
   ],
   "source": [
    "import pandas as pd\n",
    "import json\n",
    "\n",
    "with open('tab3.json') as f:\n",
    "    d = json.load(f)\n",
    "\n",
    "df = pd.json_normalize(d['tab3']) # tab3 é o nível 0 na hierarquia do json\n",
    "df\n"
   ]
  },
  {
   "cell_type": "markdown",
   "id": "expressed-netscape",
   "metadata": {},
   "source": [
    "Esta é uma equação: $x^2 + y_3 + \\frac{2}{5} = 10$"
   ]
  }
 ],
 "metadata": {
  "kernelspec": {
   "display_name": "Python 3",
   "language": "python",
   "name": "python3"
  },
  "language_info": {
   "codemirror_mode": {
    "name": "ipython",
    "version": 3
   },
   "file_extension": ".py",
   "mimetype": "text/x-python",
   "name": "python",
   "nbconvert_exporter": "python",
   "pygments_lexer": "ipython3",
   "version": "3.8.5"
  }
 },
 "nbformat": 4,
 "nbformat_minor": 5
}
