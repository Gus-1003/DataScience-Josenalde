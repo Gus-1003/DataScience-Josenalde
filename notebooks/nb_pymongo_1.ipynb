{
 "cells": [
  {
   "cell_type": "code",
   "execution_count": 1,
   "id": "563a4ff0",
   "metadata": {},
   "outputs": [
    {
     "name": "stdout",
     "output_type": "stream",
     "text": [
      "Collecting pymongo\n",
      "  Downloading pymongo-4.2.0-cp39-cp39-win_amd64.whl (374 kB)\n",
      "Installing collected packages: pymongo\n",
      "Successfully installed pymongo-4.2.0\n"
     ]
    }
   ],
   "source": [
    "!pip install pymongo"
   ]
  },
  {
   "cell_type": "code",
   "execution_count": 2,
   "id": "4c7ec3f9",
   "metadata": {},
   "outputs": [],
   "source": [
    "import pymongo\n",
    "from pymongo import MongoClient"
   ]
  },
  {
   "cell_type": "code",
   "execution_count": 3,
   "id": "c8fbdfed",
   "metadata": {},
   "outputs": [],
   "source": [
    "conn=MongoClient('mongodb://localhost:27017')"
   ]
  },
  {
   "cell_type": "code",
   "execution_count": 4,
   "id": "7313404c",
   "metadata": {},
   "outputs": [],
   "source": [
    "db = conn['db_ftcd_1']\n",
    "tb = db.users"
   ]
  },
  {
   "cell_type": "code",
   "execution_count": 11,
   "id": "2b25a36c",
   "metadata": {},
   "outputs": [],
   "source": [
    "res = list(tb.find({}))"
   ]
  },
  {
   "cell_type": "code",
   "execution_count": 17,
   "id": "1393b264",
   "metadata": {},
   "outputs": [
    {
     "data": {
      "text/plain": [
       "dict_keys(['_id', 'name', 'email', 'ingresso'])"
      ]
     },
     "execution_count": 17,
     "metadata": {},
     "output_type": "execute_result"
    }
   ],
   "source": [
    "res[0]\n",
    "res[0].keys()"
   ]
  },
  {
   "cell_type": "code",
   "execution_count": 8,
   "id": "7bdadb81",
   "metadata": {},
   "outputs": [],
   "source": [
    "some_post = {'_id': 0, 'name': 'john', 'score': 5}"
   ]
  },
  {
   "cell_type": "code",
   "execution_count": 10,
   "id": "e9a2c66b",
   "metadata": {},
   "outputs": [
    {
     "data": {
      "text/plain": [
       "<pymongo.results.InsertOneResult at 0x1e15d3be400>"
      ]
     },
     "execution_count": 10,
     "metadata": {},
     "output_type": "execute_result"
    }
   ],
   "source": [
    "tb.insert_one(some_post)"
   ]
  },
  {
   "cell_type": "code",
   "execution_count": 18,
   "id": "d3dc7473",
   "metadata": {},
   "outputs": [],
   "source": [
    "post_2 = {'_id': 5, 'name': 'leonardo', 'score': 10}\n",
    "post_3 = {'_id': 7, 'name': 'silvia', 'email': 's@outlook.com', 'projetos': ['map_reduce', 'webscraping']\n",
    "}"
   ]
  },
  {
   "cell_type": "code",
   "execution_count": 19,
   "id": "d49f6883",
   "metadata": {},
   "outputs": [
    {
     "data": {
      "text/plain": [
       "<pymongo.results.InsertManyResult at 0x1e15d08f910>"
      ]
     },
     "execution_count": 19,
     "metadata": {},
     "output_type": "execute_result"
    }
   ],
   "source": [
    "tb.insert_many([post_2, post_3])"
   ]
  },
  {
   "cell_type": "code",
   "execution_count": 27,
   "id": "1545f409",
   "metadata": {},
   "outputs": [],
   "source": [
    "def show_items(collection):\n",
    "    #return list(collection.find({}))\n",
    "    for result in collection.find({}):\n",
    "        print(result)"
   ]
  },
  {
   "cell_type": "code",
   "execution_count": 28,
   "id": "f5249c9b",
   "metadata": {},
   "outputs": [
    {
     "name": "stdout",
     "output_type": "stream",
     "text": [
      "{'_id': ObjectId('6328f2e1630c673e8ff4041c'), 'name': 'josenalde', 'email': 'josenalde.oliveira@ufrn.br', 'ingresso': 2020}\n",
      "{'_id': ObjectId('6328f34b630c673e8ff4041d'), 'name': 'paula silva', 'password': 123}\n",
      "{'_id': 0, 'name': 'john', 'score': 5}\n",
      "{'_id': 5, 'name': 'leonardo', 'score': 10}\n",
      "{'_id': 7, 'name': 'silvia', 'email': 's@outlook.com', 'projetos': ['map_reduce', 'webscraping']}\n"
     ]
    }
   ],
   "source": [
    "show_items(tb)"
   ]
  },
  {
   "cell_type": "code",
   "execution_count": 29,
   "id": "a1b97ae2",
   "metadata": {},
   "outputs": [],
   "source": [
    "post_4 = {'_id': 11, 'name': 'Leonardo Santos', 'score': 10}"
   ]
  },
  {
   "cell_type": "code",
   "execution_count": 30,
   "id": "46c16c3a",
   "metadata": {},
   "outputs": [
    {
     "data": {
      "text/plain": [
       "<pymongo.results.InsertOneResult at 0x1e15b446820>"
      ]
     },
     "execution_count": 30,
     "metadata": {},
     "output_type": "execute_result"
    }
   ],
   "source": [
    "tb.insert_one(post_4)"
   ]
  },
  {
   "cell_type": "code",
   "execution_count": 53,
   "id": "4ee4488b",
   "metadata": {},
   "outputs": [
    {
     "name": "stdout",
     "output_type": "stream",
     "text": [
      "{'_id': 5, 'name': 'leonardo', 'score': 10}\n",
      "{'_id': 11, 'name': 'Leonardo Santos', 'score': 10}\n"
     ]
    }
   ],
   "source": [
    "res = tb.find({'name': {'$regex': 'leonardo.*', '$options': 'i'}})\n",
    "for r in res:\n",
    "    print(r)"
   ]
  }
 ],
 "metadata": {
  "kernelspec": {
   "display_name": "Python 3 (ipykernel)",
   "language": "python",
   "name": "python3"
  },
  "language_info": {
   "codemirror_mode": {
    "name": "ipython",
    "version": 3
   },
   "file_extension": ".py",
   "mimetype": "text/x-python",
   "name": "python",
   "nbconvert_exporter": "python",
   "pygments_lexer": "ipython3",
   "version": "3.9.12"
  }
 },
 "nbformat": 4,
 "nbformat_minor": 5
}
