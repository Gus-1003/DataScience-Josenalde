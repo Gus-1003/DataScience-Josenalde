{
 "cells": [
  {
   "cell_type": "markdown",
   "metadata": {
    "id": "2h_nwWu5fuv0"
   },
   "source": [
    "Exemplo de fato que pode ser extraído de conjunto de dados: deseja-se verificar os salários anuais de funcionarios de determinada empresa (R$) com base no tempo de experiência (anos). É fornecido um conjunto de dados (pode ser de uma planilha, um formulário impresso, o resultado de extração (consulta) no BD da empresa etc.) os quais são tabelados como TUPLAS:"
   ]
  },
  {
   "cell_type": "code",
   "execution_count": null,
   "metadata": {
    "id": "cO-fKFEmfzDR"
   },
   "outputs": [],
   "source": [
    "salarios_e_tempoExp = [(83000, 8.7), (88000, 8.1),\n",
    "                      (48000, 0.7), (76000, 6),\n",
    "                      (69000, 6.5), (76000, 7.5),\n",
    "                      (60000, 2.5), (83000, 10),\n",
    "                      (48000, 1.9), (63000, 4.2)]"
   ]
  },
  {
   "cell_type": "markdown",
   "metadata": {
    "id": "lHVgz-zCgFsq"
   },
   "source": [
    "1) O primeiro passo será traçar um gráfico de dispersão, que é uma forma interessante de verificar o relacionamento entre dois pares de conjuntos de dados"
   ]
  },
  {
   "cell_type": "code",
   "execution_count": null,
   "metadata": {
    "colab": {
     "base_uri": "https://localhost:8080/",
     "height": 301
    },
    "id": "NHo7HGvzgJJZ",
    "outputId": "55d44e50-c4b8-47fa-e026-ad1e8f103371"
   },
   "outputs": [
    {
     "data": {
      "text/plain": [
       "<function matplotlib.pyplot.show>"
      ]
     },
     "execution_count": 2,
     "metadata": {
      "tags": []
     },
     "output_type": "execute_result"
    },
    {
     "data": {
      "image/png": "[encoded data removed]",
      "text/plain": [
       "<Figure size 432x288 with 1 Axes>"
      ]
     },
     "metadata": {
      "needs_background": "light",
      "tags": []
     },
     "output_type": "display_data"
    }
   ],
   "source": [
    "import matplotlib.pyplot as plt\n",
    "%matplotlib inline\n",
    "\n",
    "salarios = []\n",
    "tempo = []\n",
    "for s, t in salarios_e_tempoExp:\n",
    "    salarios.append(s)\n",
    "    tempo.append(t)\n",
    "plt.scatter(tempo, salarios)\n",
    "plt.xlabel('Anos de experiência')\n",
    "plt.ylabel('Salário anual (R$)')\n",
    "plt.show"
   ]
  },
  {
   "cell_type": "markdown",
   "metadata": {
    "id": "14d6EhgCgOjm"
   },
   "source": [
    "Naturalmente, fica claro que os que possuem mais experiência tendem a receber mais. Uma ideia seria analisar a média salarial para cada tempo de experiência. Como no conjunto específico não há repetição de anos, não irá ajudar, mas fica aqui o código no caso de conjuntos variados:"
   ]
  },
  {
   "cell_type": "code",
   "execution_count": null,
   "metadata": {
    "colab": {
     "base_uri": "https://localhost:8080/"
    },
    "id": "8ENeia9lgS0p",
    "outputId": "043f5de3-4152-43f8-b805-f2dc0632ed6a"
   },
   "outputs": [
    {
     "data": {
      "text/plain": [
       "{0.7: 48000.0,\n",
       " 1.9: 48000.0,\n",
       " 2.5: 60000.0,\n",
       " 4.2: 63000.0,\n",
       " 6: 76000.0,\n",
       " 6.5: 69000.0,\n",
       " 7.5: 76000.0,\n",
       " 8.1: 88000.0,\n",
       " 8.7: 83000.0,\n",
       " 10: 83000.0}"
      ]
     },
     "execution_count": 3,
     "metadata": {
      "tags": []
     },
     "output_type": "execute_result"
    }
   ],
   "source": [
    "from collections import defaultdict\n",
    "salario_por_anosExp = defaultdict(list)\n",
    "for s, t in salarios_e_tempoExp:\n",
    "    salario_por_anosExp[t].append(s)\n",
    "# as chaves são os anos, cada valor é a média salário para aquele ano\n",
    "salario_medio_por_anoExp = {\n",
    "    t : sum(s) / len(s)\n",
    "    for t, s in salario_por_anosExp.items()\n",
    "}\n",
    "salario_medio_por_anoExp"
   ]
  },
  {
   "cell_type": "markdown",
   "metadata": {
    "id": "r-uxA4JdgW3G"
   },
   "source": [
    "Vamos então criar classes para agrupar os casos por anos de Experiência, por exemplo, menos que 2, entre 2 e 5, mais que 5"
   ]
  },
  {
   "cell_type": "code",
   "execution_count": null,
   "metadata": {
    "colab": {
     "base_uri": "https://localhost:8080/"
    },
    "id": "21jekoUNgawK",
    "outputId": "35e61813-6066-41c2-b49b-4995115507f6"
   },
   "outputs": [
    {
     "data": {
      "text/plain": [
       "{'entre 2 e 5': 61500.0,\n",
       " 'mais que 5': 79166.66666666667,\n",
       " 'menos que 2': 48000.0}"
      ]
     },
     "execution_count": 4,
     "metadata": {
      "tags": []
     },
     "output_type": "execute_result"
    }
   ],
   "source": [
    "def agrupaAnosExp(tempo):\n",
    "    if tempo < 2:\n",
    "        return 'menos que 2'\n",
    "    elif tempo < 5:\n",
    "        return 'entre 2 e 5'\n",
    "    else:\n",
    "        return 'mais que 5'\n",
    "# o grupo junta os salarios para cada agrupamento\n",
    "# as chaves são agrupamentos dos casos, os valores são as listas dos salários para aquele agrupamento\n",
    "\n",
    "salario_por_anosExp_agrupamento = defaultdict(list)\n",
    "for s, t in salarios_e_tempoExp:\n",
    "    grupo = agrupaAnosExp(t)\n",
    "    salario_por_anosExp_agrupamento[grupo].append(s)\n",
    "\n",
    "# e assim pode-se calcular a média salarial para cada grupo\n",
    "\n",
    "salario_medio_por_grupo = {\n",
    "    grupo : sum(salarios) / len(salarios)\n",
    "    for grupo, salarios in salario_por_anosExp_agrupamento.items() #itera no dicionario grupo: salario\n",
    "}\n",
    "\n",
    "salario_medio_por_grupo"
   ]
  },
  {
   "cell_type": "markdown",
   "metadata": {
    "id": "gXFFS1UdggHs"
   },
   "source": [
    "Ou seja, infere-se que funcionários com mais de 5 anos de experiência recebem 65% a mais que os que possuem pouca ou nenhuma experiência. Já é alguma informação interessante, mas com técnicas de modelagem simples, como regressão, poderemos tentar entender o efeito do salário em média, ao ter um ano adicional de experiência, e ainda permite fazer \"previsões\" de salários para tempos de experiência não registrados."
   ]
  },
  {
   "cell_type": "code",
   "execution_count": null,
   "metadata": {
    "colab": {
     "base_uri": "https://localhost:8080/"
    },
    "id": "Atg1LMrlgjee",
    "outputId": "67b484a2-26b4-4057-cd44-29150e60b2a7"
   },
   "outputs": [
    {
     "data": {
      "text/plain": [
       "64.9305625"
      ]
     },
     "execution_count": 5,
     "metadata": {
      "tags": []
     },
     "output_type": "execute_result"
    }
   ],
   "source": [
    "((79166.67-48000) / 48000)*100"
   ]
  }
 ],
 "metadata": {
  "colab": {
   "collapsed_sections": [],
   "name": "Untitled0.ipynb",
   "provenance": []
  },
  "kernelspec": {
   "display_name": "Python 3",
   "language": "python",
   "name": "python3"
  },
  "language_info": {
   "codemirror_mode": {
    "name": "ipython",
    "version": 3
   },
   "file_extension": ".py",
   "mimetype": "text/x-python",
   "name": "python",
   "nbconvert_exporter": "python",
   "pygments_lexer": "ipython3",
   "version": "3.8.5"
  }
 },
 "nbformat": 4,
 "nbformat_minor": 1
}
