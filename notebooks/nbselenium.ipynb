{
  "nbformat": 4,
  "nbformat_minor": 0,
  "metadata": {
    "colab": {
      "provenance": []
    },
    "kernelspec": {
      "name": "python3",
      "display_name": "Python 3"
    },
    "language_info": {
      "name": "python"
    }
  },
  "cells": [
    {
      "cell_type": "code",
      "execution_count": 1,
      "metadata": {
        "id": "XRbv6GzTrMpJ",
        "colab": {
          "base_uri": "https://localhost:8080/"
        },
        "outputId": "d0dc7803-6d95-4c47-af4f-3ab9a6d4b7f0"
      },
      "outputs": [
        {
          "output_type": "stream",
          "name": "stdout",
          "text": [
            "Collecting selenium\n",
            "  Downloading selenium-4.12.0-py3-none-any.whl (9.4 MB)\n",
            "\u001b[2K     \u001b[90m━━━━━━━━━━━━━━━━━━━━━━━━━━━━━━━━━━━━━━━━\u001b[0m \u001b[32m9.4/9.4 MB\u001b[0m \u001b[31m61.1 MB/s\u001b[0m eta \u001b[36m0:00:00\u001b[0m\n",
            "\u001b[?25hRequirement already satisfied: urllib3[socks]<3,>=1.26 in /usr/local/lib/python3.10/dist-packages (from selenium) (2.0.4)\n",
            "Collecting trio~=0.17 (from selenium)\n",
            "  Downloading trio-0.22.2-py3-none-any.whl (400 kB)\n",
            "\u001b[2K     \u001b[90m━━━━━━━━━━━━━━━━━━━━━━━━━━━━━━━━━━━━━━\u001b[0m \u001b[32m400.2/400.2 kB\u001b[0m \u001b[31m41.2 MB/s\u001b[0m eta \u001b[36m0:00:00\u001b[0m\n",
            "\u001b[?25hCollecting trio-websocket~=0.9 (from selenium)\n",
            "  Downloading trio_websocket-0.10.3-py3-none-any.whl (17 kB)\n",
            "Requirement already satisfied: certifi>=2021.10.8 in /usr/local/lib/python3.10/dist-packages (from selenium) (2023.7.22)\n",
            "Requirement already satisfied: attrs>=20.1.0 in /usr/local/lib/python3.10/dist-packages (from trio~=0.17->selenium) (23.1.0)\n",
            "Requirement already satisfied: sortedcontainers in /usr/local/lib/python3.10/dist-packages (from trio~=0.17->selenium) (2.4.0)\n",
            "Requirement already satisfied: idna in /usr/local/lib/python3.10/dist-packages (from trio~=0.17->selenium) (3.4)\n",
            "Collecting outcome (from trio~=0.17->selenium)\n",
            "  Downloading outcome-1.2.0-py2.py3-none-any.whl (9.7 kB)\n",
            "Requirement already satisfied: sniffio in /usr/local/lib/python3.10/dist-packages (from trio~=0.17->selenium) (1.3.0)\n",
            "Requirement already satisfied: exceptiongroup>=1.0.0rc9 in /usr/local/lib/python3.10/dist-packages (from trio~=0.17->selenium) (1.1.3)\n",
            "Collecting wsproto>=0.14 (from trio-websocket~=0.9->selenium)\n",
            "  Downloading wsproto-1.2.0-py3-none-any.whl (24 kB)\n",
            "Requirement already satisfied: pysocks!=1.5.7,<2.0,>=1.5.6 in /usr/local/lib/python3.10/dist-packages (from urllib3[socks]<3,>=1.26->selenium) (1.7.1)\n",
            "Collecting h11<1,>=0.9.0 (from wsproto>=0.14->trio-websocket~=0.9->selenium)\n",
            "  Downloading h11-0.14.0-py3-none-any.whl (58 kB)\n",
            "\u001b[2K     \u001b[90m━━━━━━━━━━━━━━━━━━━━━━━━━━━━━━━━━━━━━━━━\u001b[0m \u001b[32m58.3/58.3 kB\u001b[0m \u001b[31m7.7 MB/s\u001b[0m eta \u001b[36m0:00:00\u001b[0m\n",
            "\u001b[?25hInstalling collected packages: outcome, h11, wsproto, trio, trio-websocket, selenium\n",
            "Successfully installed h11-0.14.0 outcome-1.2.0 selenium-4.12.0 trio-0.22.2 trio-websocket-0.10.3 wsproto-1.2.0\n"
          ]
        }
      ],
      "source": [
        "!pip install -U selenium"
      ]
    },
    {
      "cell_type": "code",
      "source": [
        "!apt-get update"
      ],
      "metadata": {
        "id": "Ll9NSKvIrl8e"
      },
      "execution_count": null,
      "outputs": []
    },
    {
      "cell_type": "code",
      "source": [
        "!apt-get install -y chromium-browser"
      ],
      "metadata": {
        "id": "kK8G-3OFshxi"
      },
      "execution_count": null,
      "outputs": []
    },
    {
      "cell_type": "code",
      "source": [
        "!apt install chromium-chromedriver"
      ],
      "metadata": {
        "id": "TH95m-zynoCu"
      },
      "execution_count": null,
      "outputs": []
    },
    {
      "cell_type": "code",
      "source": [
        "from selenium import webdriver\n",
        "from selenium.webdriver.chrome.service import Service"
      ],
      "metadata": {
        "id": "HZTBsqxentow"
      },
      "execution_count": 2,
      "outputs": []
    },
    {
      "cell_type": "code",
      "source": [
        "from selenium import webdriver\n",
        "options = webdriver.ChromeOptions()\n",
        "options.add_argument('--headless')\n",
        "options.add_argument('--no-sandbox')\n",
        "options.add_argument('--disable-gpu')\n",
        "driver=webdriver.Chrome(options=options)"
      ],
      "metadata": {
        "id": "J__T9D2erEYa"
      },
      "execution_count": 20,
      "outputs": []
    },
    {
      "cell_type": "code",
      "source": [
        "url = 'https://quotes.toscrape.com/'\n",
        "driver.get(url)"
      ],
      "metadata": {
        "id": "-IGwGT9ap-TM"
      },
      "execution_count": 4,
      "outputs": []
    },
    {
      "cell_type": "code",
      "source": [
        "from selenium.webdriver.common.by import By"
      ],
      "metadata": {
        "id": "ggZUR0WysSFj"
      },
      "execution_count": 5,
      "outputs": []
    },
    {
      "cell_type": "code",
      "source": [
        "#https://www.selenium.dev/pt-br/documentation/webdriver/elements/finders/\n",
        "\n",
        "#for element in driver.find_elements(By.XPATH, '//div[@class=\"quote\"]'):\n",
        "#  print(element.text)\n",
        "for element in driver.find_elements(By.CLASS_NAME, 'quote'):\n",
        "  print(element.text)\n"
      ],
      "metadata": {
        "colab": {
          "base_uri": "https://localhost:8080/"
        },
        "id": "raET3hIHpey9",
        "outputId": "0a7d4e65-8aaf-4cfe-df3e-338bb107224c"
      },
      "execution_count": 6,
      "outputs": [
        {
          "output_type": "stream",
          "name": "stdout",
          "text": [
            "“The world as we have created it is a process of our thinking. It cannot be changed without changing our thinking.”\n",
            "by Albert Einstein (about)\n",
            "Tags: change deep-thoughts thinking world\n",
            "“It is our choices, Harry, that show what we truly are, far more than our abilities.”\n",
            "by J.K. Rowling (about)\n",
            "Tags: abilities choices\n",
            "“There are only two ways to live your life. One is as though nothing is a miracle. The other is as though everything is a miracle.”\n",
            "by Albert Einstein (about)\n",
            "Tags: inspirational life live miracle miracles\n",
            "“The person, be it gentleman or lady, who has not pleasure in a good novel, must be intolerably stupid.”\n",
            "by Jane Austen (about)\n",
            "Tags: aliteracy books classic humor\n",
            "“Imperfection is beauty, madness is genius and it's better to be absolutely ridiculous than absolutely boring.”\n",
            "by Marilyn Monroe (about)\n",
            "Tags: be-yourself inspirational\n",
            "“Try not to become a man of success. Rather become a man of value.”\n",
            "by Albert Einstein (about)\n",
            "Tags: adulthood success value\n",
            "“It is better to be hated for what you are than to be loved for what you are not.”\n",
            "by André Gide (about)\n",
            "Tags: life love\n",
            "“I have not failed. I've just found 10,000 ways that won't work.”\n",
            "by Thomas A. Edison (about)\n",
            "Tags: edison failure inspirational paraphrased\n",
            "“A woman is like a tea bag; you never know how strong it is until it's in hot water.”\n",
            "by Eleanor Roosevelt (about)\n",
            "Tags: misattributed-eleanor-roosevelt\n",
            "“A day without sunshine is like, you know, night.”\n",
            "by Steve Martin (about)\n",
            "Tags: humor obvious simile\n"
          ]
        }
      ]
    },
    {
      "cell_type": "code",
      "source": [
        "url = 'https://www.ufrn.br/imprensa/noticias/filtros?text=eaj'\n",
        "driver.get(url)"
      ],
      "metadata": {
        "id": "MA-SxwXpoDBJ"
      },
      "execution_count": 21,
      "outputs": []
    },
    {
      "cell_type": "code",
      "source": [
        "import time\n",
        "from selenium.webdriver.support.ui import WebDriverWait\n",
        "\n",
        "url_1 = 'https://www.ufrn.br/imprensa/noticias/filtros?text=eaj'\n",
        "driver.get(url_1);\n",
        "time.sleep(3) #esperar carregar\n",
        "\n",
        "# uma opção é obter todo o body (ou parte mais específica) da página com o selenium/webdriver e passar ao BSoup para análise padrão\n",
        "#print(title_news[0].get_attribute('innerHTML')) com tag_name BODY\n",
        "\n",
        "title_news = driver.find_elements(By.CLASS_NAME, 'blue-link');\n",
        "n_news = len(title_news) #quantas notícias na página atual\n",
        "print(n_news)\n",
        "text_to_cloud = ''\n",
        "\n",
        "def find(driver):\n",
        "    element = driver.find_element(By.TAG_NAME, 'content')\n",
        "    if element:\n",
        "        return element\n",
        "    else:\n",
        "        return False\n",
        "\n",
        "for i in range(1,n_news):\n",
        "    #a cada volta de página necessário procurar novamente, pois perde o DOM/referência\n",
        "    title_news = driver.find_elements(By.CLASS_NAME, 'blue-link');\n",
        "    link = title_news[i].get_attribute('href')\n",
        "    link_text = title_news[i].text\n",
        "    if 'imprensa' in link:\n",
        "        print(link)\n",
        "        print(link_text)\n",
        "        driver.get(link)\n",
        "        time.sleep(3)\n",
        "        news_text = WebDriverWait(driver, 30).until(find)\n",
        "        print('--------------------------------------------')\n",
        "        print(news_text.text)\n",
        "        print('--------------------------------------------')\n",
        "        text_to_cloud += news_text.text\n",
        "        driver.back()\n",
        "        time.sleep(3)\n",
        "driver.close()\n",
        "#print(text_to_cloud)"
      ],
      "metadata": {
        "colab": {
          "base_uri": "https://localhost:8080/"
        },
        "id": "mwNdOnJRrRr0",
        "outputId": "d8c147f4-d6cb-4f74-d173-71fbba8a5889"
      },
      "execution_count": 73,
      "outputs": [
        {
          "output_type": "stream",
          "name": "stdout",
          "text": [
            "12\n",
            "https://www.ufrn.br/imprensa/noticias/74077/divulgados-resultados-preliminares-para-pesquisadores-da-eaj-e-esufrn\n",
            "Divulgados resultados preliminares para pesquisadores da EAJ e ESUFRN\n",
            "--------------------------------------------\n",
            "A Pró-Reitoria de Pesquisa (Propesq) da UFRN divulgou os resultados preliminares dos editais 04/2023 – Agropecuária potiguar e desenvolvimento sustentável, da Escola Agrícola de Jundiaí (EAJ) – e 05/2023 – Iniciação Científica na Escola de Saúde (ESUFRN). Os pedidos de reconsideração devem ser realizados por meio deste formulário eletrônico, até o dia 1° de setembro.\n",
            "Os pesquisadores selecionados precisam estar atentos ao período para a indicação de bolsistas, de 1º a 5 de setembro; e da publicação do resultado final do processo seletivo, que ocorrerá no dia 4 de setembro. Aos pedidos de reconsideração, a Propesq informa que não serão analisados os que apresentam caráter genérico, ou seja, que não apontem falha específica que tenha justificado o resultado no indeferimento do candidato.\n",
            "Os editais foram voltados à seleção de pesquisadores da EAJ e da ESUFRN interessados em orientar estudantes do ensino técnico e superior no âmbito do Programa Institucional de Iniciação em Desenvolvimento Tecnológico e Inovação (Pibiti) da UFRN. \n",
            "O Pibiti visa estimular alunos do ensino técnico e superior ao desenvolvimento e à transferência de novas tecnologias e inovação, além de buscar contribuir para a formação de recursos humanos, que possam desenvolver atividades de pesquisa, de desenvolvimento tecnológico e de novação e que possam se dedicar ao fortalecimento da capacidade inovadora das empresas no país. \n",
            "Para esclarecimentos adicionais sobre resultados ou sobre próximas etapas das seleções, basta entrar em contato com a Propesq, via e-mail contato@propesq.ufrn.br.\n",
            "Resultados preliminares\n",
            " Edital N° 04/2023 – Agropecuária potiguar e desenvolvimento sustentável \n",
            "Edital N° 05/2023 – Iniciação Científica na Escola de Saúde \n",
            "--------------------------------------------\n",
            "https://www.ufrn.br/imprensa/noticias/74067/aluna-da-eaj-recebe-medalha-na-olimpiada-brasileira-de-robotica\n",
            "Aluna da EAJ recebe medalha na Olimpíada Brasileira de Robótica\n",
            "--------------------------------------------\n",
            "A estudante da Escola Agrícola de Jundiaí (EAJ/UFRN) do 2º ano do Curso Técnico em Informática, Maria Eduarda Ferreira de Souza, conquistou uma medalha de bronze nacional na modalidade teórica da Olimpíada Brasileira de Robótica (OBR). A olimpíada é uma iniciativa para a difusão da ciência e da tecnologia junto aos jovens utilizada em praticamente todo o mundo. \n",
            "Maria Eduarda conseguiu 90 pontos, ficando, assim, com a medalha de bronze. “No começo, eu não estava muito animada para fazer a primeira fase da prova, mas, depois de um tempo, percebi que seria legal, interessante e uma boa experiência. Fiquei muito feliz quando a informação da pontuação saiu, tendo em vista que apenas sete pessoas do RN haviam passado. Com isso, me animei e estudei dez vezes mais para a 2ª prova”, comenta.\n",
            "A modalidade teórica aborda diversas áreas do conhecimento, estabelecendo a relação entre elas e a robótica. São provas que abordam problemas na temática que possam ser solucionados a partir de ferramentas e de conceitos compreendidos no currículo escolar básico, como ciências, matemática e linguagens. A modalidade é constituída de duas fases. A primeira foi aplicada presencialmente, no dia 15 de junho de 2023. \n",
            "Após essa fase, a OBR indica um ponto de corte para definir os classificados para a 2ª etapa. Esta foi realizada no dia 18 de agosto, por meio de uma plataforma digital da olimpíada. Cada fase é constituída de 20 questões objetivas, com duração máxima de quatro horas. No dia 28 de agosto, a OBR definiu os pontos de corte para as medalhas de ouro, de prata e de bronze nacionais. \n",
            "A estudante de Informática destacou como se sente com a conquista e que planeja realizar novamente a prova na próxima edição. “Quando eu vi o resultado, foi um choque, mas foi um sentimento incrível ver que todo o meu estudo resultou em algo tão importante. Isso me deu muita motivação, e, definitivamente, irei fazer a prova novamente no próximo ano”, afirma Eduarda. \n",
            "--------------------------------------------\n",
            "https://www.ufrn.br/imprensa/noticias/73408/eaj-abre-inscricoes-para-curso-sobre-praticas-de-meditacao\n",
            "EAJ abre inscrições para curso sobre práticas de meditação\n",
            "--------------------------------------------\n",
            "A Escola Agrícola de Jundiaí, Campus Macaíba (EAJ/UFRN), oferece vagas para o curso Práticas de meditação: o despertar para o presente, que acontece de 14 de agosto a 20 de dezembro. As inscrições estão abertas no Sigaa a partir desta quarta-feira, 9, e terminam nesta sexta-feira, 11. São 40 vagas divididas em duas turmas: uma com aulas na segunda-feira e a outra, na quarta-feira. As aulas vão ocorrer uma vez por semana, com 1 hora cada encontro, a partir das 12h. A carga horária equivale a 19 horas. \n",
            "De acordo com a coordenação do curso, nas aulas, serão  apresentadas práticas meditativas visando ao treinamento da atenção plena. Ao decorrer dos ensinamentos de Claudia Macedo, professora da EAJ, os alunos deverão executar essas técnicas. Também será enviado aos participantes um áudio com meditações guiadas.\n",
            "A iniciativa pretende atingir tanto pessoas da UFRN quanto o público externo de todas as idades. As aulas vão explorar a diferença entre pensar sobre uma sensação e experimentá-la, respiração alternada e vários tipos de meditação: sentada, da intenção, da montanha, percepções dos pensamentos e outras técnicas.\n",
            "Essa ação tem natureza experiencial, significando que o desenvolvimento das habilidades meditativas será adquirido e conquistado por meio do próprio engajamento na realização dos exercícios propostos.\n",
            " \n",
            "--------------------------------------------\n",
            "https://www.ufrn.br/imprensa/noticias/73336/propesq-lanca-edital-para-pesquisadores-da-eaj-2\n",
            "Propesq lança edital para pesquisadores da EAJ\n",
            "--------------------------------------------\n",
            "A Pró-Reitoria de Pesquisa (Propesq) da UFRN, em parceria com a Escola Agrícola de Jundiaí (EAJ), publicou edital voltado para a área de Agropecuária Potiguar e Desenvolvimento Sustentável. O processo busca selecionar pesquisadores da EAJ interessados em orientar estudantes do ensino técnico e superior no âmbito do Programa Institucional de Iniciação em Desenvolvimento Tecnológico e Inovação (PIBITI) da UFRN. A inscrição deve ser feita via Sistema Integrado de Gestão de Atividades Acadêmicas (Sigaa) até o dia 21 de agosto. \n",
            "A proposta é contemplar projetos de pesquisa que visem contribuir significativamente para a inovação em temas relacionados à agropecuária potiguar e ao desenvolvimento sustentável. No total, serão concedidas 30 bolsas de iniciação tecnológica, sendo 15 destinadas a estudantes do ensino superior e 15 destinadas a estudantes de ensino técnico, ambos da UFRN. As bolsas destinam-se, exclusivamente, a estimular a participação de estudantes no desenvolvimento de pesquisas científicas, tecnológicas e de inovação, despertando o interesse pelo aprofundamento da atuação nesses campos.\n",
            "No ato da inscrição, o pesquisador, caso deseje concorrer apenas a bolsas de graduação, no momento da solicitação de cota, precisa selecionar a opção edital n° 04/2023 [graduação] – Iniciação em Desenvolvimento Tecnológico e Inovação na EAJ. Mas, se for apenas concorrer a bolsas de ensino técnico, será necessário selecionar a opção Edital nº 04/2023 [Ensino Técnico] – Iniciação em Desenvolvimento Tecnológico e Inovação na EAJ. Caso deseje concorrer a ambos os tipos de bolsas, será necessário realizar os dois procedimentos, um para cada solicitação.\n",
            "  Pode participar o docente efetivo na UFRN, ou docente vinculado ao Programa de Professor Colaborador Voluntário – PPCV ou, ainda, Professor Visitante contratado de acordo com legislação específica. O candidato deve ser lotado na EAJ, com titulação mínima de mestre e estar com o currículo atualizado na Plataforma Lattes do CNPq.\n",
            "O Programa Institucional de Iniciação em Desenvolvimento Tecnológico e Inovação (PIBITI) visa estimular estudantes do ensino técnico e superior ao desenvolvimento e transferência de novas tecnologias e inovação, além de buscar contribuir para a formação de recursos humanos que possam desenvolver atividades de pesquisa, desenvolvimento tecnológico e inovação e que possam se dedicar ao fortalecimento da capacidade inovadora das empresas no país. \n",
            "O resultado final do edital deve ser divulgado no dia 31 de agosto, com período para execução do projeto no período de 1º de setembro de 2023 a 31 de agosto de 2024. Outras informações podem ser obtidas pelo e-mail contato@propesq.ufrn.br.\n",
            "--------------------------------------------\n",
            "https://www.ufrn.br/imprensa/noticias/73011/esufrn-e-eaj-ofertarao-cursos-de-formacao-pelo-programa-mulheres-mil\n",
            "ESUFRN e EAJ ofertarão cursos de formação pelo Programa Mulheres Mil\n",
            "--------------------------------------------\n",
            "A Escola de Saúde da UFRN (ESUFRN) e a Escola Agrícola de Jundiaí (EAJ) vão ofertar 450 vagas em cursos do Programa Mulheres Mil. Relançada pelo governo federal em abril de 2023, a ação é parte de um conjunto de políticas públicas e promove formação profissional, elevação de escolaridade e inclusão socioprodutiva de mulheres em situação de vulnerabilidade social.\n",
            "Os cursos ofertados pela ESUFRN e pela EAJ são: Cuidador da Pessoa Idosa, Cuidador Infantil, Recepcionista em Serviços de Saúde, Auxiliar de Cozinha, Processadora de Frutas, Agricultura Orgânica, Operadora de Beneficiamento de Pescado e Algicultura.\n",
            "“A ESUFRN deve realizar as atividades nos municípios de Natal, Parnamirim e Maxaranguape. Em breve informaremos detalhes de quando, onde e como será feita a execução do Mulheres Mil em nossa Escola”, explicou a docente da ESUFRN Cleonice Cavalcante.\n",
            "A professora representou a UFRN nas Oficinas de Formação na Metodologia de Acesso, Permanência e Êxito do Programa Mulheres Mil. O evento aconteceu em Brasília, entre os dias 24 e 28 de julho. A atividade contou com a participação de servidores de instituições da Rede Federal de Educação Profissional, Científica e Tecnológica, que foram contempladas com as 15 mil vagas da primeira chamada do Programa Mulheres Mil.\n",
            "Capacitação na metodologia do Programa Mulheres Mil com Representantes da Rede Federal de Educação Profissional, Científica e Tecnológica. Foto: Luis Fortes/MEC\n",
            "Histórico\n",
            "A Escola de Saúde da UFRN já foi uma das instituições executoras do Mulheres Mil, entre os anos de 2014 e 2017, como uma das modalidades ofertadas por meio do Programa Nacional de Acesso ao Ensino Técnico e Emprego (Pronatec). Nesse período, a Escola ofertou cursos de formação inicial e continuada, que certificaram 277 mulheres em situação de vulnerabilidade social.\n",
            "As qualificações foram para Cuidador de Idoso, Cuidador Infantil, Higienista de Serviços de Saúde, Atendente de Nutrição, Agente de Informações Turísticas, Atendente de Lanchonete, Auxiliar/Assistente de Recursos Humanos e Almoxarife. Em parceria com a EAJ, a ESUFRN também ofereceu cursos de Agente de Combate às Endemias, Higienista de Serviços de Saúde e Recepcionista em Serviços de Saúde.\n",
            "--------------------------------------------\n",
            "https://www.ufrn.br/imprensa/noticias/72908/eaj-promove-atividades-alusivas-ao-julho-dourado\n",
            "EAJ promove atividades alusivas ao Julho Dourado\n",
            "--------------------------------------------\n",
            "O Julho Dourado visa chamar a atenção para campanhas de conscientização sobre a prevenção de doenças em animais domésticos como cães e gatos. A Escola Agrícola de Jundiaí (EAJ/UFRN), que iniciou este ano a primeira turma do curso técnico em Medicina Veterinária (TecVet), está realizando ações para incentivar a prevenção e o tratamento correto dessas doenças. \n",
            "As atividades foram realizadas com os estudantes do próprio curso, que puderam aprender mais sobre os cuidados com cães e gatos, entre eles vacinação, higiene e alimentação. Além disso, a escola compartilha informações e conhecimento sobre os animais pelo Instagram do Xerimbabo, projeto de extensão que busca promover saúde pela educação e que neste mês tem como foco a saúde animal.\n",
            "De acordo com a professora Viviane Medeiros, os alunos de TecVet sairão preparados para os desafios do mercado, pois, além da grade curricular, são realizadas atividades como essa. “Se pensarmos apenas em clínicas veterinárias, por exemplo, sempre que vamos ser atendidos, existe junto ao médico o profissional que auxilia. Então é aí que estará o novo profissional, mais capacitado, que sabe respeitar a idade dos animais, a anatomia e o comportamento, porque foi formado para essa função”, explica a docente. \n",
            "Sobre o curso Técnico em Veterinária \n",
            "Pensando na necessidade do mercado e no interesse da população, foi criado o técnico em Medicina Veterinária da Escola Agrícola de Jundiaí (EAJ). O curso foi aprovado pelo Conselho de Pesquisa, Ensino e Extensão (Consepe) em fevereiro de 2023 e a primeira turma foi formada em março. \n",
            "A grade curricular do curso está dividida em três semestres, com carga horária de 1.050 horas, sendo distribuídas em aulas práticas e teóricas. Além das práticas, o curso inclui estágio curricular obrigatório e atividades integradoras entre os componentes curriculares realizadas durante os semestres, que contabilizam como atividade obrigatória de extensão. \n",
            "Nesse primeiro momento, estão sendo oferecidas 20 vagas por semestre no turno vespertino, devido à implantação e à construção de novas salas de aulas e laboratórios. Os processos seletivos estão sendo realizados pelos editais disponibilizados no site da Comperve. \n",
            "Foto: Viviane Medeiros/ EAJ UFRN\n",
            "--------------------------------------------\n",
            "https://www.ufrn.br/imprensa/noticias/71431/eaj-abre-150-vagas-para-cursos-tecnicos\n",
            "EAJ abre 150 vagas para cursos técnicos\n",
            "--------------------------------------------\n",
            "A Escola Agrícola de Jundiaí (EAJ/UFRN) abre 150 vagas para cursos técnicos na modalidade subsequente voltados para quem concluiu o ensino médio. Agroindústria, Agropecuária, Aquicultura, Gastronomia e Veterinária são as formações oferecidas pela Instituição. As inscrições serão abertas em 19 de junho e podem ser feitas até 9 de julho, por meio do formulário disponível neste site.\n",
            "As 150 vagas estão distribuídas entre os cinco cursos, sendo 30 para Agroindústria, 35 para Agropecuária, 35 para Aquicultura, 30 para Gastronomia e 20 para Veterinária. As aulas acontecem no turno diurno, como integral ou parcial e contam com reservas de vagas específicas, segundo o edital. \n",
            "Para se inscrever, o candidato deve, obrigatoriamente, ter Cadastro de Pessoa Física (CPF), documento de identificação e preencher o formulário completo, além de informar as médias finais nos componentes curriculares de matemática e língua portuguesa obtidas no 1º ano, 2º ano e 3º ano do ensino médio. Não será cobrada taxa de inscrição. \n",
            "A seleção será realizada por meio da análise do desempenho escolar em Língua Portuguesa ou Português e Matemática ou disciplinas equivalentes que foram cursadas ao longo do Ensino Médio; ou por meio de análise do desempenho das disciplinas, conforme descritas no documento do Exame Nacional para Certificação de Competências de Jovens e Adultos (ENCCEJA). \n",
            "O resultado preliminar do processo será divulgado no dia 14 de julho nas redes sociais da EAJ e no site do Núcleo Permanente de Concursos (Comperve). Já a interposição do recurso contra o resultado parcial pode ser realizada em 48 horas após a divulgação. O resultado final será divulgado no dia 17 de julho e as matrículas ocorrem no período de 19 a 21 de julho.\n",
            "--------------------------------------------\n",
            "https://www.ufrn.br/imprensa/noticias/70568/proae-divulga-resultados-finais-de-auxilios-para-eaj\n",
            "Proae divulga resultados finais de auxílios para EAJ\n",
            "--------------------------------------------\n",
            "A Pró-Reitoria de Assuntos Estudantis (Proae), por meio da Divisão de Assistência Social e Ações de Permanência (Dasap), divulga os resultados finais para o Auxílio Alimentação, Auxílio Transporte, Residência Universitária e Auxílio Moradia para o campus de Macaíba, na Escola Agrícola de Jundiaí (EAJ) da UFRN. \n",
            "Para o Auxílio Alimentação, foram deferidos 169 pedidos de estudantes e indeferidas 11 solicitações. Já para o Auxílio Transporte, foram beneficiados 135 alunos e indeferidos 14 pedidos. O resultado para o Auxílio Transporte conta, ainda, com uma lista de espera com 43 estudantes a serem atendidos caso exista disponibilidade orçamentária. \n",
            "Para vaga na Residência Universitária, foram deferidas 72 solicitações de alunos e indeferidos cinco pedidos. Já para receber o Auxílio Moradia, foram beneficiados 35 alunos e indeferidas duas solicitações. Os estudantes que foram contemplados com o auxílio em espécie devem receber o valor de R$ 300 mensais.\n",
            "Sobre os auxílios\n",
            "O Auxílio Alimentação é destinado aos estudantes dos cursos de graduação presenciais que estejam em situação de vulnerabilidade socioeconômica e que necessitem de financiamento para custear as despesas com alimentação.\n",
            "O Auxílio Transporte é destinado aos estudantes dos cursos presenciais de graduação em situação de vulnerabilidade socioeconômica e que necessitem de subsídio nas despesas para deslocamento com finalidade de participar das atividades curriculares. Pode ser acumulado com outra modalidade de auxílio e bolsa de assistência estudantil.\n",
            "Já o Auxílio Residência Universitária assegura moradia por meio de concessão de vaga em uma das Residências Universitárias para os estudantes cujas famílias não residam na cidade onde realizam o curso. Já o Auxílio Moradia é o pagamento em espécie aos que não tiveram vaga na Residência.\n",
            "--------------------------------------------\n",
            "https://www.ufrn.br/imprensa/noticias/70311/eaj-abre-inscricoes-para-curso-sobre-a-historia-da-gastronomia\n",
            "EAJ abre inscrições para curso sobre a história da gastronomia\n",
            "--------------------------------------------\n",
            "A Escola Agrícola de Jundiaí (EAJ/UFRN) abriu inscrições para o curso História com Baião de dois: novos ingredientes na formação técnica em Gastronomia e áreas afins. Coordenada pela professora de Estudos Sócio-Filosóficos da EAJ, Andrea Monteiro Da Costa, a ação tem 70 vagas disponíveis e é destinada aos docentes, técnico-administrativos e estudantes de cursos da área de hotelaria e gastronomia. As aulas começam no dia 1° de junho. Para se inscrever, o interessado deve acessar o Sigaa.\n",
            "Com o objetivo de oferecer espaço para a formação multidisciplinar das áreas de história, antropologia, geografia e técnica em gastronomia, o curso também tem como metas: possibilitar aos participantes a ampliação de conhecimentos no processo da carreira profissional, proporcionar uma reflexão sobre a história da alimentação no Brasil relacionada às influências da culinária brasileira e analisar de modo crítico e científico a relação entre os momentos históricos brasileiros e as práticas alimentares no país.\n",
            "A oportunidade objetiva oferecer aos participantes um panorama da história do Brasil por meio de receitas culinárias tipicamente brasileiras e músicas que narram eventos marcantes da colonização à redemocratização do país. Com essas finalidades, espera-se que os integrantes enriqueçam sua formação profissional, consigam estimular sua criatividade e que ampliem as perspectivas teóricas sobre o assunto.\n",
            "Durante a programação, serão realizadas quatro sessões com duas horas cada, completando oito horas de curso. Nessas divisões as aulas vão ser separadas por temas. A primeira aula, que acontece no dia 1° de junho, terá como tema: Das Navegações à Escravidão, primeiros encontros culinários no Brasil; a segunda, no dia 15 de junho, abordará: Império, ocupação dos Sertões e Independência, a formação da culinária brasileira; o assunto da terceira aula, dia 22 de junho é: Da República à Ditadura militar, a alimentação é um ato político-cultural; e na quarta, dia 29 de junho: Dissabores e Resistência, novas perspectivas e práticas alimentares no Brasil.\n",
            "--------------------------------------------\n",
            "https://www.ufrn.br/imprensa/noticias/70234/consad-aprova-reajuste-de-bolsas-estudantis-e-auxilio-moradia\n",
            "Consad aprova reajuste de bolsas estudantis e auxílio moradia\n",
            "--------------------------------------------\n",
            "Foto: Williane Silva\n",
            "O Conselho de Administração (Consad) da Universidade Federal do Rio Grande do Norte (UFRN) aprovou, por unanimidade, a proposta de alteração da resolução que fixa valores de auxílios e bolsas a estudantes previstos no Plano Nacional de Assistência Estudantil (Pnaes). A mudança no texto viabiliza o reajuste nos valores do auxílio moradia, que passa de R$ 250,00 para R$ 300,00, e das bolsas de apoio técnico, acessibilidade, atleta, monitoria, tutoria, pesquisa e extensão, que aumentam de R$ 400,00 para R$ 700,00. Também houve a atualização da bolsa especial Consad, de  R$ 630,00 para R$ 930,00. “Esse é, apenas, o primeiro passo para a melhoria das ações de permanência estudantil”, afirmou o reitor José Daniel Diniz Melo ao ressaltar a importância da mobilização dos estudantes para a recomposição orçamentária das universidades.\n",
            "Os alunos participaram da reunião do Consad e destacaram a relevância da representação estudantil na busca do reajuste das bolsas, visto que a alteração da resolução é fruto do esforço conjunto da Pró-Reitoria de Assuntos Estudantis (Proae), dos estudantes e dos diretores de centros e de unidades acadêmicas especializadas. “Esta luta é uma vitória nossa, acima de qualquer coisa”, disse a coordenadora do Diretório Central dos Estudantes (DCE), Maria Eduarda Catunda.\n",
            "Os novos valores irão beneficiar mais de 3.500 estudantes, conforme informou o pró-reitor de Assuntos Estudantis da UFRN, Edmilson Lopes Júnior, que também atribui a conquista ao empenho da gestão universitária, em diálogo constante com as representações estudantis. Os reajustes acontecem após a definição de destaque orçamentário, ou seja, a reorganização financeira para viabilizar a medida, já que não houve aumento nos recursos repassados à UFRN para a assistência estudantil em relação ao ano anterior.\n",
            "Com a aprovação no Consad, a atualização entra em vigor neste mês, para recebimento a partir de junho. Na mesma reunião, também foi aprovada a resolução que determina a distribuição interna dos recursos do Pnaes para o exercício de 2023. No total, a UFRN dispõe de R$ 32 milhões para auxílios e bolsas estudantis, além de outras despesas correntes, entre elas a manutenção da Residência Universitária e recursos para o Restaurante Universitário.\n",
            "Foto: Williane Silva\n",
            "--------------------------------------------\n"
          ]
        }
      ]
    },
    {
      "cell_type": "code",
      "source": [],
      "metadata": {
        "id": "QGr91gpbrVhU"
      },
      "execution_count": null,
      "outputs": []
    }
  ]
}