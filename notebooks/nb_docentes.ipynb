{
 "cells": [
  {
   "cell_type": "code",
   "execution_count": 1,
   "id": "diverse-attempt",
   "metadata": {},
   "outputs": [],
   "source": [
    "import pandas as pd\n"
   ]
  },
  {
   "cell_type": "code",
   "execution_count": 2,
   "id": "computational-discipline",
   "metadata": {},
   "outputs": [],
   "source": [
    "df = pd.read_csv('http://dados.ufrn.br/dataset/8bf1a468-48ff-4f4d-95ee-b17b7a3a5592/resource/ff0a457e-76fa-4aca-ad99-48aebd7db070/download/docentes.csv', sep=';')"
   ]
  },
  {
   "cell_type": "code",
   "execution_count": 3,
   "id": "ready-shareware",
   "metadata": {},
   "outputs": [
    {
     "data": {
      "text/html": [
       "<div>\n",
       "<style scoped>\n",
       "    .dataframe tbody tr th:only-of-type {\n",
       "        vertical-align: middle;\n",
       "    }\n",
       "\n",
       "    .dataframe tbody tr th {\n",
       "        vertical-align: top;\n",
       "    }\n",
       "\n",
       "    .dataframe thead th {\n",
       "        text-align: right;\n",
       "    }\n",
       "</style>\n",
       "<table border=\"1\" class=\"dataframe\">\n",
       "  <thead>\n",
       "    <tr style=\"text-align: right;\">\n",
       "      <th></th>\n",
       "      <th>siape</th>\n",
       "      <th>nome</th>\n",
       "      <th>sexo</th>\n",
       "      <th>formacao</th>\n",
       "      <th>tipo_jornada_trabalho</th>\n",
       "      <th>vinculo</th>\n",
       "      <th>categoria</th>\n",
       "      <th>classe_funcional</th>\n",
       "      <th>id_unidade_lotacao</th>\n",
       "      <th>lotacao</th>\n",
       "      <th>admissao</th>\n",
       "    </tr>\n",
       "  </thead>\n",
       "  <tbody>\n",
       "    <tr>\n",
       "      <th>0</th>\n",
       "      <td>349938</td>\n",
       "      <td>GILDETE AZEVEDO</td>\n",
       "      <td>F</td>\n",
       "      <td>DESCONHECIDA</td>\n",
       "      <td>Dedicação exclusiva</td>\n",
       "      <td>Ativo Permanente</td>\n",
       "      <td>PROFESSOR DE 1  E 2  GRAUS</td>\n",
       "      <td>C                                             ...</td>\n",
       "      <td>1452</td>\n",
       "      <td>NÚCLEO DE EDUCAÇÃO DA INFÂNCIA</td>\n",
       "      <td>1984/08/27 00:00:00.000000000</td>\n",
       "    </tr>\n",
       "    <tr>\n",
       "      <th>1</th>\n",
       "      <td>1543339</td>\n",
       "      <td>ADELE GUIMARAES UBARANA SANTOS</td>\n",
       "      <td>F</td>\n",
       "      <td>MESTRADO</td>\n",
       "      <td>Dedicação exclusiva</td>\n",
       "      <td>Ativo Permanente</td>\n",
       "      <td>PROFESSOR DE ENSINO BASICO TECNICO E TECNOLOGICO</td>\n",
       "      <td>DIII                                          ...</td>\n",
       "      <td>1452</td>\n",
       "      <td>NÚCLEO DE EDUCAÇÃO DA INFÂNCIA</td>\n",
       "      <td>2006/07/24 00:00:00.000000000</td>\n",
       "    </tr>\n",
       "    <tr>\n",
       "      <th>2</th>\n",
       "      <td>1554468</td>\n",
       "      <td>AFRANIO CESAR DE ARAUJO</td>\n",
       "      <td>M</td>\n",
       "      <td>DOUTORADO</td>\n",
       "      <td>Dedicação exclusiva</td>\n",
       "      <td>Ativo Permanente</td>\n",
       "      <td>PROFESSOR DE ENSINO BASICO TECNICO E TECNOLOGICO</td>\n",
       "      <td>DIV                                           ...</td>\n",
       "      <td>351</td>\n",
       "      <td>ESCOLA AGRÍCOLA DE JUNDIAÍ</td>\n",
       "      <td>2008/09/12 00:00:00.000000000</td>\n",
       "    </tr>\n",
       "    <tr>\n",
       "      <th>3</th>\n",
       "      <td>1177821</td>\n",
       "      <td>AIRTON FERNANDES GUIMARAES FILHO</td>\n",
       "      <td>M</td>\n",
       "      <td>MESTRADO</td>\n",
       "      <td>Dedicação exclusiva</td>\n",
       "      <td>Ativo Permanente</td>\n",
       "      <td>PROFESSOR DE ENSINO BASICO TECNICO E TECNOLOGICO</td>\n",
       "      <td>DIII                                          ...</td>\n",
       "      <td>284</td>\n",
       "      <td>ESCOLA DE MÚSICA</td>\n",
       "      <td>1998/04/28 00:00:00.000000000</td>\n",
       "    </tr>\n",
       "    <tr>\n",
       "      <th>4</th>\n",
       "      <td>2360824</td>\n",
       "      <td>ALDAIR RODRIGUES DA SILVA</td>\n",
       "      <td>M</td>\n",
       "      <td>MESTRADO</td>\n",
       "      <td>Dedicação exclusiva</td>\n",
       "      <td>Ativo Permanente</td>\n",
       "      <td>PROFESSOR DE ENSINO BASICO TECNICO E TECNOLOGICO</td>\n",
       "      <td>DIII                                          ...</td>\n",
       "      <td>351</td>\n",
       "      <td>ESCOLA AGRÍCOLA DE JUNDIAÍ</td>\n",
       "      <td>2017/01/25 00:00:00.000000000</td>\n",
       "    </tr>\n",
       "  </tbody>\n",
       "</table>\n",
       "</div>"
      ],
      "text/plain": [
       "     siape                              nome sexo      formacao  \\\n",
       "0   349938                   GILDETE AZEVEDO    F  DESCONHECIDA   \n",
       "1  1543339    ADELE GUIMARAES UBARANA SANTOS    F      MESTRADO   \n",
       "2  1554468           AFRANIO CESAR DE ARAUJO    M     DOUTORADO   \n",
       "3  1177821  AIRTON FERNANDES GUIMARAES FILHO    M      MESTRADO   \n",
       "4  2360824         ALDAIR RODRIGUES DA SILVA    M      MESTRADO   \n",
       "\n",
       "            tipo_jornada_trabalho           vinculo  \\\n",
       "0  Dedicação exclusiva             Ativo Permanente   \n",
       "1  Dedicação exclusiva             Ativo Permanente   \n",
       "2  Dedicação exclusiva             Ativo Permanente   \n",
       "3  Dedicação exclusiva             Ativo Permanente   \n",
       "4  Dedicação exclusiva             Ativo Permanente   \n",
       "\n",
       "                                          categoria  \\\n",
       "0          PROFESSOR DE 1  E 2  GRAUS                 \n",
       "1  PROFESSOR DE ENSINO BASICO TECNICO E TECNOLOGICO   \n",
       "2  PROFESSOR DE ENSINO BASICO TECNICO E TECNOLOGICO   \n",
       "3  PROFESSOR DE ENSINO BASICO TECNICO E TECNOLOGICO   \n",
       "4  PROFESSOR DE ENSINO BASICO TECNICO E TECNOLOGICO   \n",
       "\n",
       "                                    classe_funcional  id_unidade_lotacao  \\\n",
       "0  C                                             ...                1452   \n",
       "1  DIII                                          ...                1452   \n",
       "2  DIV                                           ...                 351   \n",
       "3  DIII                                          ...                 284   \n",
       "4  DIII                                          ...                 351   \n",
       "\n",
       "                          lotacao                       admissao  \n",
       "0  NÚCLEO DE EDUCAÇÃO DA INFÂNCIA  1984/08/27 00:00:00.000000000  \n",
       "1  NÚCLEO DE EDUCAÇÃO DA INFÂNCIA  2006/07/24 00:00:00.000000000  \n",
       "2      ESCOLA AGRÍCOLA DE JUNDIAÍ  2008/09/12 00:00:00.000000000  \n",
       "3                ESCOLA DE MÚSICA  1998/04/28 00:00:00.000000000  \n",
       "4      ESCOLA AGRÍCOLA DE JUNDIAÍ  2017/01/25 00:00:00.000000000  "
      ]
     },
     "execution_count": 3,
     "metadata": {},
     "output_type": "execute_result"
    }
   ],
   "source": [
    "df.head()"
   ]
  },
  {
   "cell_type": "code",
   "execution_count": 4,
   "id": "hispanic-wisdom",
   "metadata": {},
   "outputs": [],
   "source": [
    "df.drop('nome', axis=1, inplace=True) # remove e atualiza o df"
   ]
  },
  {
   "cell_type": "code",
   "execution_count": 5,
   "id": "violent-connecticut",
   "metadata": {},
   "outputs": [
    {
     "data": {
      "text/html": [
       "<div>\n",
       "<style scoped>\n",
       "    .dataframe tbody tr th:only-of-type {\n",
       "        vertical-align: middle;\n",
       "    }\n",
       "\n",
       "    .dataframe tbody tr th {\n",
       "        vertical-align: top;\n",
       "    }\n",
       "\n",
       "    .dataframe thead th {\n",
       "        text-align: right;\n",
       "    }\n",
       "</style>\n",
       "<table border=\"1\" class=\"dataframe\">\n",
       "  <thead>\n",
       "    <tr style=\"text-align: right;\">\n",
       "      <th></th>\n",
       "      <th>sexo</th>\n",
       "      <th>formacao</th>\n",
       "      <th>tipo_jornada_trabalho</th>\n",
       "      <th>vinculo</th>\n",
       "      <th>categoria</th>\n",
       "      <th>classe_funcional</th>\n",
       "      <th>lotacao</th>\n",
       "      <th>admissao</th>\n",
       "    </tr>\n",
       "  </thead>\n",
       "  <tbody>\n",
       "    <tr>\n",
       "      <th>count</th>\n",
       "      <td>2396</td>\n",
       "      <td>2396</td>\n",
       "      <td>2396</td>\n",
       "      <td>2396</td>\n",
       "      <td>2396</td>\n",
       "      <td>2396</td>\n",
       "      <td>2396</td>\n",
       "      <td>2396</td>\n",
       "    </tr>\n",
       "    <tr>\n",
       "      <th>unique</th>\n",
       "      <td>3</td>\n",
       "      <td>5</td>\n",
       "      <td>3</td>\n",
       "      <td>1</td>\n",
       "      <td>3</td>\n",
       "      <td>13</td>\n",
       "      <td>107</td>\n",
       "      <td>1151</td>\n",
       "    </tr>\n",
       "    <tr>\n",
       "      <th>top</th>\n",
       "      <td>M</td>\n",
       "      <td>DOUTORADO</td>\n",
       "      <td>Dedicação exclusiva</td>\n",
       "      <td>Ativo Permanente</td>\n",
       "      <td>PROFESSOR DO MAGISTERIO SUPERIOR</td>\n",
       "      <td>Classe D - Associado                          ...</td>\n",
       "      <td>ESCOLA AGRÍCOLA DE JUNDIAÍ</td>\n",
       "      <td>2009/01/27 00:00:00.000000000</td>\n",
       "    </tr>\n",
       "    <tr>\n",
       "      <th>freq</th>\n",
       "      <td>1332</td>\n",
       "      <td>1998</td>\n",
       "      <td>2110</td>\n",
       "      <td>2396</td>\n",
       "      <td>2187</td>\n",
       "      <td>822</td>\n",
       "      <td>105</td>\n",
       "      <td>84</td>\n",
       "    </tr>\n",
       "  </tbody>\n",
       "</table>\n",
       "</div>"
      ],
      "text/plain": [
       "        sexo   formacao           tipo_jornada_trabalho           vinculo  \\\n",
       "count   2396       2396                            2396              2396   \n",
       "unique     3          5                               3                 1   \n",
       "top        M  DOUTORADO  Dedicação exclusiva             Ativo Permanente   \n",
       "freq    1332       1998                            2110              2396   \n",
       "\n",
       "                               categoria  \\\n",
       "count                               2396   \n",
       "unique                                 3   \n",
       "top     PROFESSOR DO MAGISTERIO SUPERIOR   \n",
       "freq                                2187   \n",
       "\n",
       "                                         classe_funcional  \\\n",
       "count                                                2396   \n",
       "unique                                                 13   \n",
       "top     Classe D - Associado                          ...   \n",
       "freq                                                  822   \n",
       "\n",
       "                           lotacao                       admissao  \n",
       "count                         2396                           2396  \n",
       "unique                         107                           1151  \n",
       "top     ESCOLA AGRÍCOLA DE JUNDIAÍ  2009/01/27 00:00:00.000000000  \n",
       "freq                           105                             84  "
      ]
     },
     "execution_count": 5,
     "metadata": {},
     "output_type": "execute_result"
    }
   ],
   "source": [
    "df.describe(include='object')\n"
   ]
  },
  {
   "cell_type": "code",
   "execution_count": 6,
   "id": "corporate-season",
   "metadata": {},
   "outputs": [
    {
     "data": {
      "text/plain": [
       "array(['F', 'M', 'false'], dtype=object)"
      ]
     },
     "execution_count": 6,
     "metadata": {},
     "output_type": "execute_result"
    }
   ],
   "source": [
    "df.sexo.unique() #equivalente ao distinct no mongodb"
   ]
  },
  {
   "cell_type": "code",
   "execution_count": 18,
   "id": "gross-lesson",
   "metadata": {},
   "outputs": [
    {
     "name": "stdout",
     "output_type": "stream",
     "text": [
      "1\n",
      "siape    sexo   formacao   tipo_jornada_trabalho           vinculo           categoria                         classe_funcional                                                                                      id_unidade_lotacao  lotacao                           admissao                     \n",
      "6347893  false  DOUTORADO  20 horas semanais               Ativo Permanente  PROFESSOR DO MAGISTERIO SUPERIOR  Classe D - Associado                                                                                  52                  DEPARTAMENTO DE ENGENHARIA CIVIL  1983/05/24 00:00:00.000000000    1\n",
      "dtype: int64\n"
     ]
    }
   ],
   "source": [
    "print(df['sexo'].where(df['sexo'] == 'false').count()) # duas formas de localizar\n",
    "print(df[df['sexo']=='false'].value_counts())"
   ]
  },
  {
   "cell_type": "code",
   "execution_count": 8,
   "id": "delayed-diary",
   "metadata": {},
   "outputs": [
    {
     "data": {
      "text/plain": [
       "3"
      ]
     },
     "execution_count": 8,
     "metadata": {},
     "output_type": "execute_result"
    }
   ],
   "source": [
    "df2 = df.groupby('sexo')\n",
    "g = df2.ngroups\n",
    "g"
   ]
  },
  {
   "cell_type": "code",
   "execution_count": 9,
   "id": "northern-functionality",
   "metadata": {},
   "outputs": [
    {
     "name": "stdout",
     "output_type": "stream",
     "text": [
      "1063\n",
      "1332\n"
     ]
    },
    {
     "data": {
      "text/plain": [
       "<BarContainer object of 2 artists>"
      ]
     },
     "execution_count": 9,
     "metadata": {},
     "output_type": "execute_result"
    },
    {
     "data": {
      "image/png": "[encoded data removed]",
      "text/plain": [
       "<Figure size 432x288 with 1 Axes>"
      ]
     },
     "metadata": {
      "needs_background": "light"
     },
     "output_type": "display_data"
    }
   ],
   "source": [
    "fc = df2.get_group('F').count() #acessa pelo rótulo da coluna\n",
    "mc = df2.get_group('M').count()\n",
    "print(fc[0])\n",
    "print(mc[0])\n",
    "import matplotlib.pyplot as plt\n",
    "plt.bar(['F', 'M'], [fc[0], mc[0]])"
   ]
  },
  {
   "cell_type": "markdown",
   "id": "specific-shopper",
   "metadata": {},
   "source": [
    "Gender balance professores@UFRN:"
   ]
  },
  {
   "cell_type": "code",
   "execution_count": 10,
   "id": "unlikely-phone",
   "metadata": {
    "scrolled": true
   },
   "outputs": [
    {
     "name": "stdout",
     "output_type": "stream",
     "text": [
      "F: 44.38413361169103 %\n",
      "M: 55.61586638830897 %\n"
     ]
    }
   ],
   "source": [
    "fgb = fc[0]/(fc[0]+mc[0])*100\n",
    "mgb = mc[0]/(fc[0]+mc[0])*100\n",
    "print('F: ' + str(fgb) + ' %')\n",
    "print('M: ' + str(mgb) + ' %')"
   ]
  },
  {
   "cell_type": "code",
   "execution_count": 11,
   "id": "neutral-moses",
   "metadata": {},
   "outputs": [
    {
     "data": {
      "text/plain": [
       "107"
      ]
     },
     "execution_count": 11,
     "metadata": {},
     "output_type": "execute_result"
    }
   ],
   "source": [
    "df3 = df.groupby('lotacao')\n",
    "df3.ngroups"
   ]
  },
  {
   "cell_type": "code",
   "execution_count": 21,
   "id": "exact-interpretation",
   "metadata": {},
   "outputs": [
    {
     "data": {
      "text/plain": [
       "siape                    105\n",
       "sexo                     105\n",
       "formacao                 105\n",
       "tipo_jornada_trabalho    105\n",
       "vinculo                  105\n",
       "categoria                105\n",
       "classe_funcional         105\n",
       "id_unidade_lotacao       105\n",
       "lotacao                  105\n",
       "admissao                 105\n",
       "dtype: int64"
      ]
     },
     "execution_count": 21,
     "metadata": {},
     "output_type": "execute_result"
    }
   ],
   "source": [
    "df3.get_group('ESCOLA AGRÍCOLA DE JUNDIAÍ').count()"
   ]
  },
  {
   "cell_type": "markdown",
   "id": "considerable-graduation",
   "metadata": {},
   "source": [
    "## 1 - Exiba as colunas lotacao e o valor total de docentes em cada lotacao, ordenados do maior para o menor"
   ]
  },
  {
   "cell_type": "code",
   "execution_count": null,
   "id": "indoor-fitness",
   "metadata": {},
   "outputs": [],
   "source": []
  }
 ],
 "metadata": {
  "kernelspec": {
   "display_name": "Python 3",
   "language": "python",
   "name": "python3"
  },
  "language_info": {
   "codemirror_mode": {
    "name": "ipython",
    "version": 3
   },
   "file_extension": ".py",
   "mimetype": "text/x-python",
   "name": "python",
   "nbconvert_exporter": "python",
   "pygments_lexer": "ipython3",
   "version": "3.8.5"
  }
 },
 "nbformat": 4,
 "nbformat_minor": 5
}
