{
 "cells": [
  {
   "cell_type": "markdown",
   "metadata": {},
   "source": [
    "![](realpython.jpg)\n",
    "Básico de Python para aplicação em ciência de dados. Em primeiro lugar, atenção que Python usa indentação e não chaves para delimitar blocos de código:"
   ]
  },
  {
   "cell_type": "code",
   "execution_count": 3,
   "metadata": {},
   "outputs": [
    {
     "name": "stdout",
     "output_type": "stream",
     "text": [
      "1\n",
      "1\t2\n",
      "laço interno j: 1\n",
      "2\t3\n",
      "laço interno j: 2\n",
      "3\t4\n",
      "laço interno j: 3\n",
      "4\t5\n",
      "laço interno j: 4\n",
      "5\t6\n",
      "laço interno j: 5\n",
      "1\n",
      "2\n",
      "1\t3\n",
      "laço interno j: 1\n",
      "2\t4\n",
      "laço interno j: 2\n",
      "3\t5\n",
      "laço interno j: 3\n",
      "4\t6\n",
      "laço interno j: 4\n",
      "5\t7\n",
      "laço interno j: 5\n",
      "2\n",
      "3\n",
      "1\t4\n",
      "laço interno j: 1\n",
      "2\t5\n",
      "laço interno j: 2\n",
      "3\t6\n",
      "laço interno j: 3\n",
      "4\t7\n",
      "laço interno j: 4\n",
      "5\t8\n",
      "laço interno j: 5\n",
      "3\n",
      "4\n",
      "1\t5\n",
      "laço interno j: 1\n",
      "2\t6\n",
      "laço interno j: 2\n",
      "3\t7\n",
      "laço interno j: 3\n",
      "4\t8\n",
      "laço interno j: 4\n",
      "5\t9\n",
      "laço interno j: 5\n",
      "4\n",
      "5\n",
      "1\t6\n",
      "laço interno j: 1\n",
      "2\t7\n",
      "laço interno j: 2\n",
      "3\t8\n",
      "laço interno j: 3\n",
      "4\t9\n",
      "laço interno j: 4\n",
      "5\t10\n",
      "laço interno j: 5\n",
      "5\n",
      "Fim do loop encadeado\n"
     ]
    }
   ],
   "source": [
    "for i in [1, 2, 3, 4, 5]:\n",
    "    print(i) #primeira linha para o bloco for i\n",
    "    for j in [1, 2, 3, 4, 5]:\n",
    "        print(j, i+j, sep='\\t') #primeira linha para o bloco for j\n",
    "        #str = 'laço interno j: {0}'\n",
    "        #print(str.format(j))\n",
    "        #print(i + j) #ultima linha para o bloco for j\n",
    "    print(i) #ultima linha para o bloco for i\n",
    "print('Fim do loop encadeado')"
   ]
  },
  {
   "cell_type": "markdown",
   "metadata": {},
   "source": [
    "Como Python ignora espaços em branco dentro dos parênteses e colchetes, é interessante para 'quebrar' linhas longas de código ou para tornar mais legível. A barra invertida também serve para indicar que o comando continua na próxima linha"
   ]
  },
  {
   "cell_type": "code",
   "execution_count": 3,
   "metadata": {},
   "outputs": [],
   "source": [
    "x = (1 + 2 + 3 + 4 + 5 + 6 +\n",
    "    7 + 8 + 9)\n",
    "listaDeListas = [[1,2,3],\n",
    "                 [4,5,6],\n",
    "                 [7,8,9]]\n",
    "usoDaBarra = 10 + \\\n",
    "             20"
   ]
  },
  {
   "cell_type": "markdown",
   "metadata": {},
   "source": [
    "Os módulos (ou bibliotecas) em Python são importados com a palavra reservada **import**. Por exemplo. De o nome do módulo é longo ou mais complicado, pode-se criar um apelido (alias) para referenciar no código. Se precisar de valores específicos de um módulo, pode importar explicitamente, sem necessidade de usar o nome qualificado (.) "
   ]
  },
  {
   "cell_type": "code",
   "execution_count": 8,
   "metadata": {},
   "outputs": [],
   "source": [
    "import re # funções e constantes para lidar com expressões regulares\n",
    "import matplotlib.pyplot as plt # a partir daqui basta usar plt e seus métodos para gerar gráficos\n",
    "from collections import defaultdict, Counter # outra forma de importar\n",
    "tabela = defaultdict(list)\n",
    "contador = Counter()"
   ]
  },
  {
   "cell_type": "markdown",
   "metadata": {},
   "source": [
    "Em Python 3, o operador de divisão / já trata como float/double, portanto o resultado é fracionário. Para ter uma divisão de inteiros, pode-se usar //"
   ]
  },
  {
   "cell_type": "code",
   "execution_count": 11,
   "metadata": {},
   "outputs": [
    {
     "name": "stdout",
     "output_type": "stream",
     "text": [
      "2.5\n",
      "2\n"
     ]
    }
   ],
   "source": [
    "print(5/2)\n",
    "print(5//2)"
   ]
  },
  {
   "cell_type": "markdown",
   "metadata": {},
   "source": [
    "Funções: em Python usa-se a palavra reservada <code>def</code>"
   ]
  },
  {
   "cell_type": "code",
   "execution_count": 16,
   "metadata": {},
   "outputs": [
    {
     "name": "stdout",
     "output_type": "stream",
     "text": [
      "8\n",
      "16\n"
     ]
    }
   ],
   "source": [
    "def double(x):\n",
    "    \"\"\"texto de ajuda  da função\n",
    "       explicando o que faz etc\"\"\"\n",
    "    return x*2 #potencia usa o operador **\n",
    "y = 4\n",
    "print(double(y))\n",
    "print(y**2)\n"
   ]
  },
  {
   "cell_type": "markdown",
   "metadata": {},
   "source": [
    "As funções em Python são de primeira classe, ou seja, podem ser atribuídas a variáveis e serem passadas como argumentos normalmente"
   ]
  },
  {
   "cell_type": "code",
   "execution_count": 17,
   "metadata": {},
   "outputs": [
    {
     "name": "stdout",
     "output_type": "stream",
     "text": [
      "2\n"
     ]
    }
   ],
   "source": [
    "def recebeFunc(f):\n",
    "    return f(1)\n",
    "x = double #atribui a função double\n",
    "z = recebeFunc(x)\n",
    "print(z)"
   ]
  },
  {
   "cell_type": "markdown",
   "metadata": {},
   "source": [
    "Função anônima ou lambda:"
   ]
  },
  {
   "cell_type": "code",
   "execution_count": 18,
   "metadata": {},
   "outputs": [
    {
     "name": "stdout",
     "output_type": "stream",
     "text": [
      "5\n"
     ]
    }
   ],
   "source": [
    "y = recebeFunc(lambda x: x + 4)\n",
    "print(y)"
   ]
  },
  {
   "cell_type": "markdown",
   "metadata": {},
   "source": [
    "Parâmetros inicializados (default)"
   ]
  },
  {
   "cell_type": "code",
   "execution_count": 20,
   "metadata": {},
   "outputs": [
    {
     "name": "stdout",
     "output_type": "stream",
     "text": [
      "tads ufrn data science\n",
      "msg padrão\n"
     ]
    },
    {
     "data": {
      "text/plain": [
       "-5"
      ]
     },
     "execution_count": 20,
     "metadata": {},
     "output_type": "execute_result"
    }
   ],
   "source": [
    "def imprime(msg = 'msg padrão'):\n",
    "    print(msg)\n",
    "imprime('tads ufrn data science')\n",
    "imprime()\n",
    "\n",
    "def subtrai(a=0,b=0):\n",
    "    return a - b\n",
    "\n",
    "subtrai(10,5)\n",
    "subtrai(0,5)\n",
    "subtrai(b=5)"
   ]
  },
  {
   "cell_type": "markdown",
   "metadata": {},
   "source": [
    "Strings em Python podem ser delimitadas por aspas simples ou duplas. A função len() retorna o tamanho. Strings múltiplas são definidas com aspas triplas ou duplas. "
   ]
  },
  {
   "cell_type": "code",
   "execution_count": 26,
   "metadata": {},
   "outputs": [
    {
     "name": "stdout",
     "output_type": "stream",
     "text": [
      "teste de string\n"
     ]
    }
   ],
   "source": [
    "str1 = \"teste de string\"\n",
    "print(str1)"
   ]
  },
  {
   "cell_type": "markdown",
   "metadata": {},
   "source": [
    "Exceções tal como noutras linguagens usa o try, porém ao invés de catch, usa except"
   ]
  },
  {
   "cell_type": "code",
   "execution_count": 27,
   "metadata": {},
   "outputs": [
    {
     "name": "stdout",
     "output_type": "stream",
     "text": [
      "impossivel dividir\n"
     ]
    }
   ],
   "source": [
    "try:\n",
    "    print(0/0)\n",
    "except ZeroDivisionError:\n",
    "    print('impossivel dividir')"
   ]
  },
  {
   "cell_type": "markdown",
   "metadata": {},
   "source": [
    "Estruturas de Dados nativas em Python:\n",
    "1) Listas - coleção ordenada, podendo ser heterogênea. Indexação começa no 0 assim como C/C++"
   ]
  },
  {
   "cell_type": "code",
   "execution_count": null,
   "metadata": {},
   "outputs": [],
   "source": []
  },
  {
   "cell_type": "code",
   "execution_count": 33,
   "metadata": {},
   "outputs": [
    {
     "name": "stdout",
     "output_type": "stream",
     "text": [
      "3\n",
      "6\n"
     ]
    },
    {
     "data": {
      "text/plain": [
       "[[1, 2, 3], ['string', 0.1, True], []]"
      ]
     },
     "execution_count": 33,
     "metadata": {},
     "output_type": "execute_result"
    }
   ],
   "source": [
    "lista1 = [1,2,3]\n",
    "lista2 = ['string', 0.1, True]\n",
    "listaDeListas = [lista1, lista2, []]\n",
    "print(len(lista1)) #quantos elementos\n",
    "print(sum(lista1)) #soma elementos\n",
    "listaDeListas"
   ]
  },
  {
   "cell_type": "code",
   "execution_count": 42,
   "metadata": {},
   "outputs": [
    {
     "data": {
      "text/plain": [
       "0"
      ]
     },
     "execution_count": 42,
     "metadata": {},
     "output_type": "execute_result"
    }
   ],
   "source": [
    "x = range(9) # = [0,1,..,9]\n",
    "x[0]"
   ]
  },
  {
   "cell_type": "code",
   "execution_count": null,
   "metadata": {},
   "outputs": [],
   "source": []
  },
  {
   "cell_type": "code",
   "execution_count": 45,
   "metadata": {},
   "outputs": [
    {
     "data": {
      "text/plain": [
       "8"
      ]
     },
     "execution_count": 45,
     "metadata": {},
     "output_type": "execute_result"
    }
   ],
   "source": [
    "last = x[-1] #ultimo elemento\n",
    "last"
   ]
  },
  {
   "cell_type": "code",
   "execution_count": 44,
   "metadata": {},
   "outputs": [
    {
     "data": {
      "text/plain": [
       "[0, 1, 2]"
      ]
     },
     "execution_count": 44,
     "metadata": {},
     "output_type": "execute_result"
    }
   ],
   "source": [
    "tresPrimeiros = list(x[:3]) #muda de range para lista\n",
    "tresPrimeiros #ate o indice 2 "
   ]
  },
  {
   "cell_type": "code",
   "execution_count": 43,
   "metadata": {},
   "outputs": [
    {
     "data": {
      "text/plain": [
       "[3, 4, 5, 6, 7, 8]"
      ]
     },
     "execution_count": 43,
     "metadata": {},
     "output_type": "execute_result"
    }
   ],
   "source": [
    "terceiroAoFim = list(x[3:])\n",
    "terceiroAoFim # do indice 3 em diante"
   ]
  },
  {
   "cell_type": "code",
   "execution_count": 47,
   "metadata": {},
   "outputs": [
    {
     "data": {
      "text/plain": [
       "range(6, 9)"
      ]
     },
     "execution_count": 47,
     "metadata": {},
     "output_type": "execute_result"
    }
   ],
   "source": [
    "faixa = x[1:5]\n",
    "faixa\n",
    "ultimosTres = x[-3:]\n",
    "ultimosTres"
   ]
  },
  {
   "cell_type": "code",
   "execution_count": 49,
   "metadata": {},
   "outputs": [
    {
     "data": {
      "text/plain": [
       "range(0, 9)"
      ]
     },
     "execution_count": 49,
     "metadata": {},
     "output_type": "execute_result"
    }
   ],
   "source": [
    "y = x # ou x[:]\n",
    "y"
   ]
  },
  {
   "cell_type": "markdown",
   "metadata": {},
   "source": [
    "Algumas operações básicas:"
   ]
  },
  {
   "cell_type": "code",
   "execution_count": 50,
   "metadata": {},
   "outputs": [
    {
     "data": {
      "text/plain": [
       "True"
      ]
     },
     "execution_count": 50,
     "metadata": {},
     "output_type": "execute_result"
    }
   ],
   "source": [
    "#checar elemento na lista\n",
    "1 in [1,2,3]"
   ]
  },
  {
   "cell_type": "code",
   "execution_count": 51,
   "metadata": {},
   "outputs": [
    {
     "data": {
      "text/plain": [
       "[1, 2, 3, 4, 5, 6]"
      ]
     },
     "execution_count": 51,
     "metadata": {},
     "output_type": "execute_result"
    }
   ],
   "source": [
    "x = [1, 2, 3]\n",
    "x.extend([4,5,6])\n",
    "x\n",
    "# ou y = x + [4,5,6] não altera a lista original x"
   ]
  },
  {
   "cell_type": "code",
   "execution_count": 53,
   "metadata": {},
   "outputs": [
    {
     "data": {
      "text/plain": [
       "[1, 2, 3, 4, 5, 6, 15, 15]"
      ]
     },
     "execution_count": 53,
     "metadata": {},
     "output_type": "execute_result"
    }
   ],
   "source": [
    "#Adicionando um item por vez\n",
    "x.append(15) #nao há método push como noutras linguagens\n",
    "x"
   ]
  },
  {
   "cell_type": "code",
   "execution_count": 55,
   "metadata": {},
   "outputs": [
    {
     "data": {
      "text/plain": [
       "[1, 2, 3, 4, 5, 6]"
      ]
     },
     "execution_count": 55,
     "metadata": {},
     "output_type": "execute_result"
    }
   ],
   "source": [
    "x.pop() # remove ultimo elemento da lista (de maior indice)\n",
    "x"
   ]
  },
  {
   "cell_type": "markdown",
   "metadata": {},
   "source": [
    "Retirar elementos das listas"
   ]
  },
  {
   "cell_type": "code",
   "execution_count": 58,
   "metadata": {},
   "outputs": [
    {
     "data": {
      "text/plain": [
       "(1, 2)"
      ]
     },
     "execution_count": 58,
     "metadata": {},
     "output_type": "execute_result"
    }
   ],
   "source": [
    "x, y = [1, 2] # ou _, y [1,2] se o primeiro elemento não interessa\n",
    "x, y"
   ]
  },
  {
   "cell_type": "markdown",
   "metadata": {},
   "source": [
    "Tuplas são similares às listas, mas não podem ser modificadas. São definidas com parânteses ou sem uso de delimitadores. Portanto os comandos <code>tup1 = (3,4)<code> é equivalente à <code>tup1 = 3,4<code>, mas é mais 'pythonic' usar parênteses"
   ]
  },
  {
   "cell_type": "code",
   "execution_count": 60,
   "metadata": {},
   "outputs": [
    {
     "ename": "TypeError",
     "evalue": "'tuple' object does not support item assignment",
     "output_type": "error",
     "traceback": [
      "\u001b[1;31m---------------------------------------------------------------------------\u001b[0m",
      "\u001b[1;31mTypeError\u001b[0m                                 Traceback (most recent call last)",
      "\u001b[1;32m<ipython-input-60-379c59f7283e>\u001b[0m in \u001b[0;36m<module>\u001b[1;34m\u001b[0m\n\u001b[0;32m      1\u001b[0m \u001b[0mtup1\u001b[0m \u001b[1;33m=\u001b[0m \u001b[1;33m(\u001b[0m\u001b[1;36m3\u001b[0m\u001b[1;33m,\u001b[0m\u001b[1;36m4\u001b[0m\u001b[1;33m)\u001b[0m\u001b[1;33m\u001b[0m\u001b[1;33m\u001b[0m\u001b[0m\n\u001b[1;32m----> 2\u001b[1;33m \u001b[0mtup1\u001b[0m\u001b[1;33m[\u001b[0m\u001b[1;36m1\u001b[0m\u001b[1;33m]\u001b[0m \u001b[1;33m=\u001b[0m \u001b[1;36m2\u001b[0m \u001b[1;31m#Erro, não pode modificar ('tuple' object does not support item assignment)\u001b[0m\u001b[1;33m\u001b[0m\u001b[1;33m\u001b[0m\u001b[0m\n\u001b[0m",
      "\u001b[1;31mTypeError\u001b[0m: 'tuple' object does not support item assignment"
     ]
    }
   ],
   "source": [
    "tup1 = (3,4)\n",
    "tup1[1] = 2 #Erro, não pode modificar ('tuple' object does not support item assignment)"
   ]
  },
  {
   "cell_type": "markdown",
   "metadata": {},
   "source": [
    "São úteis, por exemplo, para retornar múltiplos valores de funções"
   ]
  },
  {
   "cell_type": "code",
   "execution_count": 61,
   "metadata": {},
   "outputs": [
    {
     "data": {
      "text/plain": [
       "(5, 6)"
      ]
     },
     "execution_count": 61,
     "metadata": {},
     "output_type": "execute_result"
    }
   ],
   "source": [
    "def somaMultiplica(x, y):\n",
    "    return (x+y), (x*y)\n",
    "\n",
    "sp = somaMultiplica(2,3)\n",
    "sp"
   ]
  },
  {
   "cell_type": "markdown",
   "metadata": {},
   "source": [
    "Swap bem simples com Tuplas"
   ]
  },
  {
   "cell_type": "code",
   "execution_count": 62,
   "metadata": {},
   "outputs": [
    {
     "data": {
      "text/plain": [
       "(20, 10)"
      ]
     },
     "execution_count": 62,
     "metadata": {},
     "output_type": "execute_result"
    }
   ],
   "source": [
    "x, y = 10, 20\n",
    "x, y = y, x #pythonic\n",
    "x, y"
   ]
  },
  {
   "cell_type": "markdown",
   "metadata": {},
   "source": [
    "Dicionários são estruturas fundamentais e muito utilizadas em Python, pois associam chaves e valores, se assemelhando aos padrões JSON e estruturas em bases NoSQL. Veremos também como associar dicionários a dataframes Pandas."
   ]
  },
  {
   "cell_type": "code",
   "execution_count": 63,
   "metadata": {},
   "outputs": [
    {
     "data": {
      "text/plain": [
       "8.5"
      ]
     },
     "execution_count": 63,
     "metadata": {},
     "output_type": "execute_result"
    }
   ],
   "source": [
    "dicVazio = {} # chaves para dicionários, parênteses para tuplas e colchetes para listas\n",
    "notas = {'Pedro': 8.5, 'Paulo': 7.2} # definindo um dicionário, no padrão CHAVE: VALOR\n",
    "#consulta\n",
    "notas['Pedro']"
   ]
  },
  {
   "cell_type": "markdown",
   "metadata": {},
   "source": [
    "Há como checar se uma chave está no dicionário, usando <code>in<code>. Caso seja consultada uma chave inexistente retorna KeyError"
   ]
  },
  {
   "cell_type": "code",
   "execution_count": 64,
   "metadata": {},
   "outputs": [
    {
     "data": {
      "text/plain": [
       "False"
      ]
     },
     "execution_count": 64,
     "metadata": {},
     "output_type": "execute_result"
    }
   ],
   "source": [
    "'joel' in notas"
   ]
  },
  {
   "cell_type": "code",
   "execution_count": 65,
   "metadata": {},
   "outputs": [
    {
     "data": {
      "text/plain": [
       "False"
      ]
     },
     "execution_count": 65,
     "metadata": {},
     "output_type": "execute_result"
    }
   ],
   "source": [
    "'pedro' in notas #retorna Falso, pois é sensível ao caso"
   ]
  },
  {
   "cell_type": "code",
   "execution_count": 66,
   "metadata": {},
   "outputs": [
    {
     "data": {
      "text/plain": [
       "True"
      ]
     },
     "execution_count": 66,
     "metadata": {},
     "output_type": "execute_result"
    }
   ],
   "source": [
    "'Pedro' in notas"
   ]
  },
  {
   "cell_type": "code",
   "execution_count": 68,
   "metadata": {},
   "outputs": [
    {
     "name": "stdout",
     "output_type": "stream",
     "text": [
      "chave inexistente\n"
     ]
    }
   ],
   "source": [
    "try:\n",
    "    notas['joel']\n",
    "except KeyError:\n",
    "    print('chave inexistente')"
   ]
  },
  {
   "cell_type": "code",
   "execution_count": 69,
   "metadata": {},
   "outputs": [
    {
     "data": {
      "text/plain": [
       "0"
      ]
     },
     "execution_count": 69,
     "metadata": {},
     "output_type": "execute_result"
    }
   ],
   "source": [
    "notas.get('joel', 0) #não gera exceção, retornando 0 se não houver chave"
   ]
  },
  {
   "cell_type": "markdown",
   "metadata": {},
   "source": [
    "Pode-se adicionar um registro ao dicionário, de modo direto, e modificar algum valor:"
   ]
  },
  {
   "cell_type": "code",
   "execution_count": 70,
   "metadata": {},
   "outputs": [
    {
     "data": {
      "text/plain": [
       "3"
      ]
     },
     "execution_count": 70,
     "metadata": {},
     "output_type": "execute_result"
    }
   ],
   "source": [
    "notas['Pedro'] = 10.0\n",
    "notas['Ana'] = 5.0\n",
    "#função len retorna tamanho do dicionário, número de registros\n",
    "len(notas)"
   ]
  },
  {
   "cell_type": "code",
   "execution_count": 71,
   "metadata": {},
   "outputs": [
    {
     "data": {
      "text/plain": [
       "dict_items([('Pedro', 10.0), ('Paulo', 7.2), ('Ana', 5.0)])"
      ]
     },
     "execution_count": 71,
     "metadata": {},
     "output_type": "execute_result"
    }
   ],
   "source": [
    "notas.items() #exibe itens no dicionário"
   ]
  },
  {
   "cell_type": "code",
   "execution_count": 74,
   "metadata": {},
   "outputs": [
    {
     "name": "stdout",
     "output_type": "stream",
     "text": [
      "Pedro\n",
      "10.0\n",
      "Paulo\n",
      "7.2\n",
      "Ana\n",
      "5.0\n"
     ]
    }
   ],
   "source": [
    "for nome, conceito in notas.items(): #forma de varredura no dicionário\n",
    "    print(nome)\n",
    "    print(conceito)"
   ]
  },
  {
   "cell_type": "code",
   "execution_count": 80,
   "metadata": {},
   "outputs": [
    {
     "data": {
      "text/plain": [
       "dict_keys(['user', 'text', 'retweet_count', 'hashtags'])"
      ]
     },
     "execution_count": 80,
     "metadata": {},
     "output_type": "execute_result"
    }
   ],
   "source": [
    "tweet = { #dicionario representando dados estruturados\n",
    "    'user': 'josenalde',\n",
    "    'text': 'fundamentos em data science@tadsufrn',\n",
    "    'retweet_count' : 100,\n",
    "    'hashtags' : ['#data', '#science', '#datascience', '#tads', '#ufrn']\n",
    "}\n",
    "\n",
    "keys = tweet.keys() #lista de chaves\n",
    "values = tweet.values() # lista de valores\n",
    "items = tweet.items() # lista de (chave, valor) em tuplas\n",
    "\n",
    "keys"
   ]
  },
  {
   "cell_type": "code",
   "execution_count": 82,
   "metadata": {},
   "outputs": [
    {
     "data": {
      "text/plain": [
       "True"
      ]
     },
     "execution_count": 82,
     "metadata": {},
     "output_type": "execute_result"
    }
   ],
   "source": [
    "'user' in tweet\n",
    "'josenalde' in values"
   ]
  },
  {
   "cell_type": "markdown",
   "metadata": {},
   "source": [
    "As chaves são imutáveis e não se pode usar lists como chaves. Aplicação num contador de palavras, de três formas diferentes"
   ]
  },
  {
   "cell_type": "code",
   "execution_count": 85,
   "metadata": {},
   "outputs": [
    {
     "ename": "IndentationError",
     "evalue": "unexpected indent (<ipython-input-85-080beb844f82>, line 3)",
     "output_type": "error",
     "traceback": [
      "\u001b[1;36m  File \u001b[1;32m\"<ipython-input-85-080beb844f82>\"\u001b[1;36m, line \u001b[1;32m3\u001b[0m\n\u001b[1;33m    if w in wc:\u001b[0m\n\u001b[1;37m    ^\u001b[0m\n\u001b[1;31mIndentationError\u001b[0m\u001b[1;31m:\u001b[0m unexpected indent\n"
     ]
    }
   ],
   "source": [
    "wc = {}\n",
    "# DOCUMENT seria um arquivo aberto etc.\n",
    "#for w in document: \n",
    "    if w in wc:\n",
    "        wc[w] += 1\n",
    "    else:\n",
    "        wc[w] = 1\n",
    "        \n",
    "wc = {}\n",
    "#for w in document:\n",
    "    pc = wc.get(w,0) #se comporta bem com chaves perdidas\n",
    "    wc[w] = pc + 1\n",
    "    \n",
    "# com defaultdict, ele é um dicionário comum, mas se tentar procurar uma chave que ele não possui, primeiro ele adiciona\n",
    "# um valor para ela usando a função de argumento zero que você fornece aro criá-lo\n",
    "\n",
    "from collections import defaultdict\n",
    "wc = defaultdict(int) # produz 0 para a chave\n",
    "#for w in document:\n",
    "    wc[w] += 1"
   ]
  },
  {
   "cell_type": "markdown",
   "metadata": {},
   "source": [
    "defaultdict com listas"
   ]
  },
  {
   "cell_type": "code",
   "execution_count": 95,
   "metadata": {},
   "outputs": [
    {
     "data": {
      "text/plain": [
       "defaultdict(dict, {'Pedro': {'Cidade': 'Natal'}})"
      ]
     },
     "execution_count": 95,
     "metadata": {},
     "output_type": "execute_result"
    }
   ],
   "source": [
    "dlist = defaultdict(list) #produz lista vazia\n",
    "dlist[2].append(1) #adiciona chave 2, valor 1\n",
    "dlist\n",
    "dlist2 = defaultdict(dict) #produz dict vazio\n",
    "dlist2['Pedro']['Cidade'] = 'Natal'\n",
    "dlist2"
   ]
  },
  {
   "cell_type": "markdown",
   "metadata": {},
   "source": [
    "Um dicionário pode ser facilmente convertido para a estrutura principal da biblioteca PANDAS, o DataFrame, que pode ser visto como uma tabela, com linhas e colunas. As linhas podem ser acessadas por índices, e cada linha do DataFrame é uma estrutura Series, uma sequência de valores indexados. Cada CHAVE do dicionário é uma Coluna do DataFrame, com suas respectivas listas de valores preenchendo aquela coluna. A lista (e ordem) de colunas podem ser informadas no construtor do DataFrame. Caso seja omitido, é considerada a ordem alfabética das chaves para criar a sequência de colunas"
   ]
  },
  {
   "cell_type": "code",
   "execution_count": 2,
   "metadata": {},
   "outputs": [
    {
     "data": {
      "text/html": [
       "<div>\n",
       "<style scoped>\n",
       "    .dataframe tbody tr th:only-of-type {\n",
       "        vertical-align: middle;\n",
       "    }\n",
       "\n",
       "    .dataframe tbody tr th {\n",
       "        vertical-align: top;\n",
       "    }\n",
       "\n",
       "    .dataframe thead th {\n",
       "        text-align: right;\n",
       "    }\n",
       "</style>\n",
       "<table border=\"1\" class=\"dataframe\">\n",
       "  <thead>\n",
       "    <tr style=\"text-align: right;\">\n",
       "      <th></th>\n",
       "      <th>ano</th>\n",
       "      <th>time</th>\n",
       "      <th>vitorias</th>\n",
       "      <th>empates</th>\n",
       "      <th>derrotas</th>\n",
       "    </tr>\n",
       "  </thead>\n",
       "  <tbody>\n",
       "    <tr>\n",
       "      <th>0</th>\n",
       "      <td>2010</td>\n",
       "      <td>FCBarcelona</td>\n",
       "      <td>30</td>\n",
       "      <td>6</td>\n",
       "      <td>2</td>\n",
       "    </tr>\n",
       "    <tr>\n",
       "      <th>1</th>\n",
       "      <td>2011</td>\n",
       "      <td>FCBarcelona</td>\n",
       "      <td>28</td>\n",
       "      <td>7</td>\n",
       "      <td>3</td>\n",
       "    </tr>\n",
       "    <tr>\n",
       "      <th>2</th>\n",
       "      <td>2012</td>\n",
       "      <td>FCBarcelona</td>\n",
       "      <td>32</td>\n",
       "      <td>4</td>\n",
       "      <td>2</td>\n",
       "    </tr>\n",
       "    <tr>\n",
       "      <th>3</th>\n",
       "      <td>2010</td>\n",
       "      <td>RMadrid</td>\n",
       "      <td>29</td>\n",
       "      <td>5</td>\n",
       "      <td>4</td>\n",
       "    </tr>\n",
       "    <tr>\n",
       "      <th>4</th>\n",
       "      <td>2011</td>\n",
       "      <td>RMadrid</td>\n",
       "      <td>32</td>\n",
       "      <td>4</td>\n",
       "      <td>2</td>\n",
       "    </tr>\n",
       "    <tr>\n",
       "      <th>5</th>\n",
       "      <td>2012</td>\n",
       "      <td>RMadrid</td>\n",
       "      <td>26</td>\n",
       "      <td>7</td>\n",
       "      <td>5</td>\n",
       "    </tr>\n",
       "    <tr>\n",
       "      <th>6</th>\n",
       "      <td>2010</td>\n",
       "      <td>ValenciaCF</td>\n",
       "      <td>21</td>\n",
       "      <td>8</td>\n",
       "      <td>9</td>\n",
       "    </tr>\n",
       "    <tr>\n",
       "      <th>7</th>\n",
       "      <td>2011</td>\n",
       "      <td>ValenciaCF</td>\n",
       "      <td>17</td>\n",
       "      <td>10</td>\n",
       "      <td>11</td>\n",
       "    </tr>\n",
       "    <tr>\n",
       "      <th>8</th>\n",
       "      <td>2012</td>\n",
       "      <td>ValenciaCF</td>\n",
       "      <td>19</td>\n",
       "      <td>8</td>\n",
       "      <td>11</td>\n",
       "    </tr>\n",
       "  </tbody>\n",
       "</table>\n",
       "</div>"
      ],
      "text/plain": [
       "    ano         time  vitorias  empates  derrotas\n",
       "0  2010  FCBarcelona        30        6         2\n",
       "1  2011  FCBarcelona        28        7         3\n",
       "2  2012  FCBarcelona        32        4         2\n",
       "3  2010      RMadrid        29        5         4\n",
       "4  2011      RMadrid        32        4         2\n",
       "5  2012      RMadrid        26        7         5\n",
       "6  2010   ValenciaCF        21        8         9\n",
       "7  2011   ValenciaCF        17       10        11\n",
       "8  2012   ValenciaCF        19        8        11"
      ]
     },
     "execution_count": 2,
     "metadata": {},
     "output_type": "execute_result"
    }
   ],
   "source": [
    "data = {'ano': [2010, 2011, 2012,\n",
    "                 2010, 2011, 2012,\n",
    "                 2010, 2011, 2012],\n",
    "        'time': ['FCBarcelona', 'FCBarcelona',\n",
    "                'FCBarcelona', 'RMadrid',\n",
    "                'RMadrid', 'RMadrid',\n",
    "                'ValenciaCF', 'ValenciaCF',\n",
    "                'ValenciaCF'] ,\n",
    "        'vitorias': [30, 28, 32, 29, 32, 26, 21, 17, 19],\n",
    "        'empates': [6, 7, 4, 5, 4, 7, 8, 10, 8],\n",
    "        'derrotas': [2, 3, 2, 4, 2, 5, 9, 11, 11]\n",
    "       }\n",
    "\n",
    "import pandas as pd\n",
    "cespanhol = pd.DataFrame(data , columns = ['ano', 'time', 'vitorias', 'empates', 'derrotas'])\n",
    "cespanhol"
   ]
  },
  {
   "cell_type": "code",
   "execution_count": 6,
   "metadata": {},
   "outputs": [
    {
     "data": {
      "text/html": [
       "<div>\n",
       "<style scoped>\n",
       "    .dataframe tbody tr th:only-of-type {\n",
       "        vertical-align: middle;\n",
       "    }\n",
       "\n",
       "    .dataframe tbody tr th {\n",
       "        vertical-align: top;\n",
       "    }\n",
       "\n",
       "    .dataframe thead th {\n",
       "        text-align: right;\n",
       "    }\n",
       "</style>\n",
       "<table border=\"1\" class=\"dataframe\">\n",
       "  <thead>\n",
       "    <tr style=\"text-align: right;\">\n",
       "      <th></th>\n",
       "      <th>ano</th>\n",
       "      <th>time</th>\n",
       "      <th>vitorias</th>\n",
       "      <th>empates</th>\n",
       "      <th>derrotas</th>\n",
       "    </tr>\n",
       "  </thead>\n",
       "  <tbody>\n",
       "    <tr>\n",
       "      <th>2</th>\n",
       "      <td>2012</td>\n",
       "      <td>FCBarcelona</td>\n",
       "      <td>32</td>\n",
       "      <td>4</td>\n",
       "      <td>2</td>\n",
       "    </tr>\n",
       "    <tr>\n",
       "      <th>5</th>\n",
       "      <td>2012</td>\n",
       "      <td>RMadrid</td>\n",
       "      <td>26</td>\n",
       "      <td>7</td>\n",
       "      <td>5</td>\n",
       "    </tr>\n",
       "    <tr>\n",
       "      <th>8</th>\n",
       "      <td>2012</td>\n",
       "      <td>ValenciaCF</td>\n",
       "      <td>19</td>\n",
       "      <td>8</td>\n",
       "      <td>11</td>\n",
       "    </tr>\n",
       "  </tbody>\n",
       "</table>\n",
       "</div>"
      ],
      "text/plain": [
       "    ano         time  vitorias  empates  derrotas\n",
       "2  2012  FCBarcelona        32        4         2\n",
       "5  2012      RMadrid        26        7         5\n",
       "8  2012   ValenciaCF        19        8        11"
      ]
     },
     "execution_count": 6,
     "metadata": {},
     "output_type": "execute_result"
    }
   ],
   "source": [
    "cespanhol[cespanhol['ano'] > 2011]"
   ]
  },
  {
   "cell_type": "markdown",
   "metadata": {},
   "source": [
    "Retornaremos ao Pandas mais adiante"
   ]
  },
  {
   "cell_type": "markdown",
   "metadata": {},
   "source": [
    "Conjuntos (set) representa uma coleção de objetos distintos. A operação in é muito mais rápida em conjuntos do que em listas e também é útil para encontrar objetos distintos numa coleção"
   ]
  },
  {
   "cell_type": "code",
   "execution_count": 108,
   "metadata": {},
   "outputs": [
    {
     "data": {
      "text/plain": [
       "{1, 2}"
      ]
     },
     "execution_count": 108,
     "metadata": {},
     "output_type": "execute_result"
    }
   ],
   "source": [
    "s = set()\n",
    "s.add(1)\n",
    "s.add(2)\n",
    "s.add(2) # não adicionou, pois já estava no conjunto\n",
    "s"
   ]
  },
  {
   "cell_type": "code",
   "execution_count": 110,
   "metadata": {},
   "outputs": [
    {
     "data": {
      "text/plain": [
       "True"
      ]
     },
     "execution_count": 110,
     "metadata": {},
     "output_type": "execute_result"
    }
   ],
   "source": [
    "2 in s"
   ]
  },
  {
   "cell_type": "code",
   "execution_count": 113,
   "metadata": {},
   "outputs": [
    {
     "data": {
      "text/plain": [
       "False"
      ]
     },
     "execution_count": 113,
     "metadata": {},
     "output_type": "execute_result"
    }
   ],
   "source": [
    "stopwords = ['e', 'nao', 'de', 'por', 'entre']\n",
    "stopwordset = set(stopwords)\n",
    "'na' in stopwords"
   ]
  },
  {
   "cell_type": "markdown",
   "metadata": {},
   "source": [
    "Controle de Fluxo: condicional, repetição"
   ]
  },
  {
   "cell_type": "code",
   "execution_count": 116,
   "metadata": {},
   "outputs": [
    {
     "name": "stdout",
     "output_type": "stream",
     "text": [
      "x>2\n"
     ]
    }
   ],
   "source": [
    "x=3\n",
    "if x>2:\n",
    "    msg = 'x>2'\n",
    "elif x>3:\n",
    "    msg = 'x>3'\n",
    "else:\n",
    "    msg = 'else'\n",
    "print(msg)"
   ]
  },
  {
   "cell_type": "code",
   "execution_count": 119,
   "metadata": {},
   "outputs": [
    {
     "data": {
      "text/plain": [
       "'impar'"
      ]
     },
     "execution_count": 119,
     "metadata": {},
     "output_type": "execute_result"
    }
   ],
   "source": [
    "p = 'par' if x%2 == 0 else 'impar'\n",
    "p"
   ]
  },
  {
   "cell_type": "code",
   "execution_count": 121,
   "metadata": {},
   "outputs": [
    {
     "name": "stdout",
     "output_type": "stream",
     "text": [
      "0\n",
      "1\n",
      "2\n",
      "3\n",
      "4\n",
      "5\n",
      "6\n",
      "7\n",
      "8\n",
      "9\n"
     ]
    }
   ],
   "source": [
    "x = 0\n",
    "while x<10:\n",
    "    print(x), ' x < 10'\n",
    "    x += 1"
   ]
  },
  {
   "cell_type": "code",
   "execution_count": 123,
   "metadata": {},
   "outputs": [
    {
     "name": "stdout",
     "output_type": "stream",
     "text": [
      "0\n",
      "1\n",
      "2\n",
      "3\n",
      "4\n",
      "5\n",
      "6\n",
      "7\n",
      "8\n",
      "9\n"
     ]
    }
   ],
   "source": [
    "for x in range(10): # 0 até 9\n",
    "    print(x)"
   ]
  },
  {
   "cell_type": "code",
   "execution_count": 126,
   "metadata": {},
   "outputs": [
    {
     "name": "stdout",
     "output_type": "stream",
     "text": [
      "0\n",
      "1\n",
      "2\n",
      "4\n"
     ]
    }
   ],
   "source": [
    "for x in range(10):\n",
    "    if (x==3):\n",
    "        continue # skip, incrementa contador e vai para próxima iteração\n",
    "    if (x==5):\n",
    "        break # sai do laço\n",
    "    print(x)"
   ]
  },
  {
   "cell_type": "markdown",
   "metadata": {},
   "source": [
    "Funções all e any são importantes para testar presença de VERDADEIROS. Atenção que Python interpreta como FALSO: False, None, [], {}, \"\" set(), 0, 0.0"
   ]
  },
  {
   "cell_type": "code",
   "execution_count": 128,
   "metadata": {},
   "outputs": [
    {
     "data": {
      "text/plain": [
       "True"
      ]
     },
     "execution_count": 128,
     "metadata": {},
     "output_type": "execute_result"
    }
   ],
   "source": [
    "all([True, 1, {3}])"
   ]
  },
  {
   "cell_type": "code",
   "execution_count": 130,
   "metadata": {},
   "outputs": [
    {
     "data": {
      "text/plain": [
       "False"
      ]
     },
     "execution_count": 130,
     "metadata": {},
     "output_type": "execute_result"
    }
   ],
   "source": [
    "all([True, 1, {}])"
   ]
  },
  {
   "cell_type": "code",
   "execution_count": 132,
   "metadata": {},
   "outputs": [
    {
     "data": {
      "text/plain": [
       "True"
      ]
     },
     "execution_count": 132,
     "metadata": {},
     "output_type": "execute_result"
    }
   ],
   "source": [
    "any([True, 1, {}])"
   ]
  },
  {
   "cell_type": "markdown",
   "metadata": {},
   "source": [
    "Ordenação"
   ]
  },
  {
   "cell_type": "code",
   "execution_count": 135,
   "metadata": {},
   "outputs": [
    {
     "name": "stdout",
     "output_type": "stream",
     "text": [
      "[1, 2, 3, 4]\n",
      "[4, 1, 2, 3]\n"
     ]
    },
    {
     "data": {
      "text/plain": [
       "[1, 2, 3, 4]"
      ]
     },
     "execution_count": 135,
     "metadata": {},
     "output_type": "execute_result"
    }
   ],
   "source": [
    "x = [4, 1, 2, 3]\n",
    "y = sorted(x)\n",
    "print(y)\n",
    "print(x)\n",
    "x.sort() #altera x\n",
    "x"
   ]
  },
  {
   "cell_type": "code",
   "execution_count": 137,
   "metadata": {},
   "outputs": [
    {
     "data": {
      "text/plain": [
       "[4, 3, 2, 1]"
      ]
     },
     "execution_count": 137,
     "metadata": {},
     "output_type": "execute_result"
    }
   ],
   "source": [
    "y = sorted(x, reverse=True)\n",
    "y"
   ]
  }
 ],
 "metadata": {
  "kernelspec": {
   "display_name": "Python 3",
   "language": "python",
   "name": "python3"
  },
  "language_info": {
   "codemirror_mode": {
    "name": "ipython",
    "version": 3
   },
   "file_extension": ".py",
   "mimetype": "text/x-python",
   "name": "python",
   "nbconvert_exporter": "python",
   "pygments_lexer": "ipython3",
   "version": "3.8.5"
  }
 },
 "nbformat": 4,
 "nbformat_minor": 4
}
