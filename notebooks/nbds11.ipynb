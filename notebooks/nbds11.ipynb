{
 "cells": [
  {
   "cell_type": "code",
   "execution_count": 2,
   "id": "familiar-prevention",
   "metadata": {},
   "outputs": [],
   "source": [
    "import pandas as pd\n",
    "import numpy as np"
   ]
  },
  {
   "cell_type": "code",
   "execution_count": 6,
   "id": "educational-pharmacology",
   "metadata": {},
   "outputs": [
    {
     "data": {
      "text/html": [
       "<div>\n",
       "<style scoped>\n",
       "    .dataframe tbody tr th:only-of-type {\n",
       "        vertical-align: middle;\n",
       "    }\n",
       "\n",
       "    .dataframe tbody tr th {\n",
       "        vertical-align: top;\n",
       "    }\n",
       "\n",
       "    .dataframe thead th {\n",
       "        text-align: right;\n",
       "    }\n",
       "</style>\n",
       "<table border=\"1\" class=\"dataframe\">\n",
       "  <thead>\n",
       "    <tr style=\"text-align: right;\">\n",
       "      <th></th>\n",
       "      <th>k1</th>\n",
       "      <th>k2</th>\n",
       "    </tr>\n",
       "  </thead>\n",
       "  <tbody>\n",
       "    <tr>\n",
       "      <th>0</th>\n",
       "      <td>um</td>\n",
       "      <td>1</td>\n",
       "    </tr>\n",
       "    <tr>\n",
       "      <th>1</th>\n",
       "      <td>dois</td>\n",
       "      <td>1</td>\n",
       "    </tr>\n",
       "    <tr>\n",
       "      <th>2</th>\n",
       "      <td>um</td>\n",
       "      <td>2</td>\n",
       "    </tr>\n",
       "    <tr>\n",
       "      <th>3</th>\n",
       "      <td>dois</td>\n",
       "      <td>3</td>\n",
       "    </tr>\n",
       "    <tr>\n",
       "      <th>4</th>\n",
       "      <td>um</td>\n",
       "      <td>3</td>\n",
       "    </tr>\n",
       "    <tr>\n",
       "      <th>5</th>\n",
       "      <td>dois</td>\n",
       "      <td>4</td>\n",
       "    </tr>\n",
       "    <tr>\n",
       "      <th>6</th>\n",
       "      <td>dois</td>\n",
       "      <td>4</td>\n",
       "    </tr>\n",
       "  </tbody>\n",
       "</table>\n",
       "</div>"
      ],
      "text/plain": [
       "     k1  k2\n",
       "0    um   1\n",
       "1  dois   1\n",
       "2    um   2\n",
       "3  dois   3\n",
       "4    um   3\n",
       "5  dois   4\n",
       "6  dois   4"
      ]
     },
     "execution_count": 6,
     "metadata": {},
     "output_type": "execute_result"
    }
   ],
   "source": [
    "df = pd.DataFrame({'k1': ['um', 'dois']*3 + ['dois'],\n",
    "                   'k2': [1,1,2,3,3,4,4]\n",
    "                  })\n",
    "df"
   ]
  },
  {
   "cell_type": "code",
   "execution_count": 7,
   "id": "neither-america",
   "metadata": {},
   "outputs": [
    {
     "data": {
      "text/plain": [
       "0    False\n",
       "1    False\n",
       "2    False\n",
       "3    False\n",
       "4    False\n",
       "5    False\n",
       "6     True\n",
       "dtype: bool"
      ]
     },
     "execution_count": 7,
     "metadata": {},
     "output_type": "execute_result"
    }
   ],
   "source": [
    "df.duplicated()"
   ]
  },
  {
   "cell_type": "code",
   "execution_count": 8,
   "id": "fitted-grass",
   "metadata": {},
   "outputs": [
    {
     "data": {
      "text/html": [
       "<div>\n",
       "<style scoped>\n",
       "    .dataframe tbody tr th:only-of-type {\n",
       "        vertical-align: middle;\n",
       "    }\n",
       "\n",
       "    .dataframe tbody tr th {\n",
       "        vertical-align: top;\n",
       "    }\n",
       "\n",
       "    .dataframe thead th {\n",
       "        text-align: right;\n",
       "    }\n",
       "</style>\n",
       "<table border=\"1\" class=\"dataframe\">\n",
       "  <thead>\n",
       "    <tr style=\"text-align: right;\">\n",
       "      <th></th>\n",
       "      <th>k1</th>\n",
       "      <th>k2</th>\n",
       "    </tr>\n",
       "  </thead>\n",
       "  <tbody>\n",
       "    <tr>\n",
       "      <th>0</th>\n",
       "      <td>um</td>\n",
       "      <td>1</td>\n",
       "    </tr>\n",
       "    <tr>\n",
       "      <th>1</th>\n",
       "      <td>dois</td>\n",
       "      <td>1</td>\n",
       "    </tr>\n",
       "    <tr>\n",
       "      <th>2</th>\n",
       "      <td>um</td>\n",
       "      <td>2</td>\n",
       "    </tr>\n",
       "    <tr>\n",
       "      <th>3</th>\n",
       "      <td>dois</td>\n",
       "      <td>3</td>\n",
       "    </tr>\n",
       "    <tr>\n",
       "      <th>4</th>\n",
       "      <td>um</td>\n",
       "      <td>3</td>\n",
       "    </tr>\n",
       "    <tr>\n",
       "      <th>5</th>\n",
       "      <td>dois</td>\n",
       "      <td>4</td>\n",
       "    </tr>\n",
       "  </tbody>\n",
       "</table>\n",
       "</div>"
      ],
      "text/plain": [
       "     k1  k2\n",
       "0    um   1\n",
       "1  dois   1\n",
       "2    um   2\n",
       "3  dois   3\n",
       "4    um   3\n",
       "5  dois   4"
      ]
     },
     "execution_count": 8,
     "metadata": {},
     "output_type": "execute_result"
    }
   ],
   "source": [
    "df.drop_duplicates()"
   ]
  },
  {
   "cell_type": "code",
   "execution_count": 9,
   "id": "revolutionary-tomato",
   "metadata": {},
   "outputs": [
    {
     "data": {
      "text/html": [
       "<div>\n",
       "<style scoped>\n",
       "    .dataframe tbody tr th:only-of-type {\n",
       "        vertical-align: middle;\n",
       "    }\n",
       "\n",
       "    .dataframe tbody tr th {\n",
       "        vertical-align: top;\n",
       "    }\n",
       "\n",
       "    .dataframe thead th {\n",
       "        text-align: right;\n",
       "    }\n",
       "</style>\n",
       "<table border=\"1\" class=\"dataframe\">\n",
       "  <thead>\n",
       "    <tr style=\"text-align: right;\">\n",
       "      <th></th>\n",
       "      <th>alimentos</th>\n",
       "      <th>qtd</th>\n",
       "    </tr>\n",
       "  </thead>\n",
       "  <tbody>\n",
       "    <tr>\n",
       "      <th>0</th>\n",
       "      <td>bacon</td>\n",
       "      <td>10</td>\n",
       "    </tr>\n",
       "    <tr>\n",
       "      <th>1</th>\n",
       "      <td>ovo</td>\n",
       "      <td>1</td>\n",
       "    </tr>\n",
       "    <tr>\n",
       "      <th>2</th>\n",
       "      <td>laranja</td>\n",
       "      <td>1</td>\n",
       "    </tr>\n",
       "    <tr>\n",
       "      <th>3</th>\n",
       "      <td>toucinho</td>\n",
       "      <td>20</td>\n",
       "    </tr>\n",
       "    <tr>\n",
       "      <th>4</th>\n",
       "      <td>picanha</td>\n",
       "      <td>30</td>\n",
       "    </tr>\n",
       "    <tr>\n",
       "      <th>5</th>\n",
       "      <td>limão</td>\n",
       "      <td>20</td>\n",
       "    </tr>\n",
       "  </tbody>\n",
       "</table>\n",
       "</div>"
      ],
      "text/plain": [
       "  alimentos  qtd\n",
       "0     bacon   10\n",
       "1       ovo    1\n",
       "2   laranja    1\n",
       "3  toucinho   20\n",
       "4   picanha   30\n",
       "5     limão   20"
      ]
     },
     "execution_count": 9,
     "metadata": {},
     "output_type": "execute_result"
    }
   ],
   "source": [
    "dict_a = {'alimentos': ['bacon', 'ovo', 'laranja', 'toucinho', 'picanha', 'limão'],\n",
    "          'qtd': [10, 1, 1, 20, 30, 20]\n",
    "         }\n",
    "df2 = pd.DataFrame(data=dict_a)\n",
    "df2"
   ]
  },
  {
   "cell_type": "code",
   "execution_count": 10,
   "id": "touched-formula",
   "metadata": {},
   "outputs": [],
   "source": [
    "dict_alimento_tipo = {\n",
    "    'bacon': 'porco',\n",
    "    'ovo': 'ave',\n",
    "    'laranja': 'fruta',\n",
    "    'toucinho': 'porco',\n",
    "    'picanha': 'boi',\n",
    "    'limão': 'fruta'\n",
    "}"
   ]
  },
  {
   "cell_type": "code",
   "execution_count": 12,
   "id": "dressed-january",
   "metadata": {},
   "outputs": [
    {
     "data": {
      "text/html": [
       "<div>\n",
       "<style scoped>\n",
       "    .dataframe tbody tr th:only-of-type {\n",
       "        vertical-align: middle;\n",
       "    }\n",
       "\n",
       "    .dataframe tbody tr th {\n",
       "        vertical-align: top;\n",
       "    }\n",
       "\n",
       "    .dataframe thead th {\n",
       "        text-align: right;\n",
       "    }\n",
       "</style>\n",
       "<table border=\"1\" class=\"dataframe\">\n",
       "  <thead>\n",
       "    <tr style=\"text-align: right;\">\n",
       "      <th></th>\n",
       "      <th>alimentos</th>\n",
       "      <th>qtd</th>\n",
       "      <th>tipo</th>\n",
       "    </tr>\n",
       "  </thead>\n",
       "  <tbody>\n",
       "    <tr>\n",
       "      <th>0</th>\n",
       "      <td>bacon</td>\n",
       "      <td>10</td>\n",
       "      <td>porco</td>\n",
       "    </tr>\n",
       "    <tr>\n",
       "      <th>1</th>\n",
       "      <td>ovo</td>\n",
       "      <td>1</td>\n",
       "      <td>ave</td>\n",
       "    </tr>\n",
       "    <tr>\n",
       "      <th>2</th>\n",
       "      <td>laranja</td>\n",
       "      <td>1</td>\n",
       "      <td>fruta</td>\n",
       "    </tr>\n",
       "    <tr>\n",
       "      <th>3</th>\n",
       "      <td>toucinho</td>\n",
       "      <td>20</td>\n",
       "      <td>porco</td>\n",
       "    </tr>\n",
       "    <tr>\n",
       "      <th>4</th>\n",
       "      <td>picanha</td>\n",
       "      <td>30</td>\n",
       "      <td>boi</td>\n",
       "    </tr>\n",
       "    <tr>\n",
       "      <th>5</th>\n",
       "      <td>limão</td>\n",
       "      <td>20</td>\n",
       "      <td>fruta</td>\n",
       "    </tr>\n",
       "  </tbody>\n",
       "</table>\n",
       "</div>"
      ],
      "text/plain": [
       "  alimentos  qtd   tipo\n",
       "0     bacon   10  porco\n",
       "1       ovo    1    ave\n",
       "2   laranja    1  fruta\n",
       "3  toucinho   20  porco\n",
       "4   picanha   30    boi\n",
       "5     limão   20  fruta"
      ]
     },
     "execution_count": 12,
     "metadata": {},
     "output_type": "execute_result"
    }
   ],
   "source": [
    "df2['tipo'] = df2['alimentos'].map(dict_alimento_tipo)\n",
    "df2"
   ]
  },
  {
   "cell_type": "code",
   "execution_count": 13,
   "id": "shaped-token",
   "metadata": {},
   "outputs": [],
   "source": [
    "s1 = pd.Series([1., -999, -1000, -999, -1000., 3.])"
   ]
  },
  {
   "cell_type": "code",
   "execution_count": 14,
   "id": "congressional-commission",
   "metadata": {},
   "outputs": [
    {
     "data": {
      "text/plain": [
       "0       1.0\n",
       "1    -999.0\n",
       "2   -1000.0\n",
       "3    -999.0\n",
       "4   -1000.0\n",
       "5       3.0\n",
       "dtype: float64"
      ]
     },
     "execution_count": 14,
     "metadata": {},
     "output_type": "execute_result"
    }
   ],
   "source": [
    "s1"
   ]
  },
  {
   "cell_type": "code",
   "execution_count": 15,
   "id": "occupied-hygiene",
   "metadata": {},
   "outputs": [
    {
     "data": {
      "text/plain": [
       "0    1.0\n",
       "1    0.0\n",
       "2    0.0\n",
       "3    0.0\n",
       "4    0.0\n",
       "5    3.0\n",
       "dtype: float64"
      ]
     },
     "execution_count": 15,
     "metadata": {},
     "output_type": "execute_result"
    }
   ],
   "source": [
    "s1.replace([-999,-1000], 0)"
   ]
  },
  {
   "cell_type": "code",
   "execution_count": 17,
   "id": "handy-banking",
   "metadata": {},
   "outputs": [],
   "source": [
    "idades = [20,22,25,27,21,23,37,31,61,45,41,32]"
   ]
  },
  {
   "cell_type": "code",
   "execution_count": 18,
   "id": "pointed-windsor",
   "metadata": {},
   "outputs": [],
   "source": [
    "intervalos = [18,25,35,60,100]"
   ]
  },
  {
   "cell_type": "code",
   "execution_count": 19,
   "id": "collective-gasoline",
   "metadata": {},
   "outputs": [],
   "source": [
    "categorias = pd.cut(idades,intervalos)"
   ]
  },
  {
   "cell_type": "code",
   "execution_count": 20,
   "id": "cellular-growth",
   "metadata": {},
   "outputs": [
    {
     "data": {
      "text/plain": [
       "[(18, 25], (18, 25], (18, 25], (25, 35], (18, 25], ..., (25, 35], (60, 100], (35, 60], (35, 60], (25, 35]]\n",
       "Length: 12\n",
       "Categories (4, interval[int64]): [(18, 25] < (25, 35] < (35, 60] < (60, 100]]"
      ]
     },
     "execution_count": 20,
     "metadata": {},
     "output_type": "execute_result"
    }
   ],
   "source": [
    "categorias"
   ]
  },
  {
   "cell_type": "code",
   "execution_count": 21,
   "id": "respected-reducing",
   "metadata": {},
   "outputs": [
    {
     "data": {
      "text/plain": [
       "array([0, 0, 0, 1, 0, 0, 2, 1, 3, 2, 2, 1], dtype=int8)"
      ]
     },
     "execution_count": 21,
     "metadata": {},
     "output_type": "execute_result"
    }
   ],
   "source": [
    "categorias.codes"
   ]
  },
  {
   "cell_type": "code",
   "execution_count": 25,
   "id": "ongoing-store",
   "metadata": {},
   "outputs": [
    {
     "data": {
      "text/plain": [
       "IntervalIndex([(18, 25], (25, 35], (35, 60], (60, 100]],\n",
       "              closed='right',\n",
       "              dtype='interval[int64]')"
      ]
     },
     "execution_count": 25,
     "metadata": {},
     "output_type": "execute_result"
    }
   ],
   "source": [
    "categorias.categories"
   ]
  },
  {
   "cell_type": "code",
   "execution_count": 26,
   "id": "organic-patio",
   "metadata": {},
   "outputs": [],
   "source": [
    "label_categ = ['jovem', 'jovem adulto', 'adulto', 'senior']"
   ]
  },
  {
   "cell_type": "code",
   "execution_count": 29,
   "id": "ordered-witch",
   "metadata": {},
   "outputs": [],
   "source": [
    "classes = pd.cut(idades, intervalos, labels=label_categ)"
   ]
  },
  {
   "cell_type": "code",
   "execution_count": 30,
   "id": "presidential-stockholm",
   "metadata": {},
   "outputs": [
    {
     "data": {
      "text/plain": [
       "['jovem', 'jovem', 'jovem', 'jovem adulto', 'jovem', ..., 'jovem adulto', 'senior', 'adulto', 'adulto', 'jovem adulto']\n",
       "Length: 12\n",
       "Categories (4, object): ['jovem' < 'jovem adulto' < 'adulto' < 'senior']"
      ]
     },
     "execution_count": 30,
     "metadata": {},
     "output_type": "execute_result"
    }
   ],
   "source": [
    "classes"
   ]
  },
  {
   "cell_type": "code",
   "execution_count": 31,
   "id": "incorrect-victor",
   "metadata": {},
   "outputs": [
    {
     "data": {
      "text/plain": [
       "jovem           5\n",
       "jovem adulto    3\n",
       "adulto          3\n",
       "senior          1\n",
       "dtype: int64"
      ]
     },
     "execution_count": 31,
     "metadata": {},
     "output_type": "execute_result"
    }
   ],
   "source": [
    "pd.value_counts(classes)"
   ]
  },
  {
   "cell_type": "code",
   "execution_count": 32,
   "id": "tamil-bible",
   "metadata": {},
   "outputs": [],
   "source": [
    "#tratamento de outliers\n",
    "darray = pd.DataFrame(np.random.randn(1000,4))"
   ]
  },
  {
   "cell_type": "code",
   "execution_count": 33,
   "id": "prescription-resistance",
   "metadata": {},
   "outputs": [
    {
     "data": {
      "text/html": [
       "<div>\n",
       "<style scoped>\n",
       "    .dataframe tbody tr th:only-of-type {\n",
       "        vertical-align: middle;\n",
       "    }\n",
       "\n",
       "    .dataframe tbody tr th {\n",
       "        vertical-align: top;\n",
       "    }\n",
       "\n",
       "    .dataframe thead th {\n",
       "        text-align: right;\n",
       "    }\n",
       "</style>\n",
       "<table border=\"1\" class=\"dataframe\">\n",
       "  <thead>\n",
       "    <tr style=\"text-align: right;\">\n",
       "      <th></th>\n",
       "      <th>0</th>\n",
       "      <th>1</th>\n",
       "      <th>2</th>\n",
       "      <th>3</th>\n",
       "    </tr>\n",
       "  </thead>\n",
       "  <tbody>\n",
       "    <tr>\n",
       "      <th>count</th>\n",
       "      <td>1000.000000</td>\n",
       "      <td>1000.000000</td>\n",
       "      <td>1000.000000</td>\n",
       "      <td>1000.000000</td>\n",
       "    </tr>\n",
       "    <tr>\n",
       "      <th>mean</th>\n",
       "      <td>-0.073627</td>\n",
       "      <td>-0.033275</td>\n",
       "      <td>0.026741</td>\n",
       "      <td>0.018519</td>\n",
       "    </tr>\n",
       "    <tr>\n",
       "      <th>std</th>\n",
       "      <td>1.010277</td>\n",
       "      <td>1.032154</td>\n",
       "      <td>1.017073</td>\n",
       "      <td>0.975117</td>\n",
       "    </tr>\n",
       "    <tr>\n",
       "      <th>min</th>\n",
       "      <td>-3.062247</td>\n",
       "      <td>-3.237608</td>\n",
       "      <td>-3.031508</td>\n",
       "      <td>-2.913410</td>\n",
       "    </tr>\n",
       "    <tr>\n",
       "      <th>25%</th>\n",
       "      <td>-0.758451</td>\n",
       "      <td>-0.735487</td>\n",
       "      <td>-0.672954</td>\n",
       "      <td>-0.615950</td>\n",
       "    </tr>\n",
       "    <tr>\n",
       "      <th>50%</th>\n",
       "      <td>-0.058262</td>\n",
       "      <td>-0.016436</td>\n",
       "      <td>0.045986</td>\n",
       "      <td>-0.041536</td>\n",
       "    </tr>\n",
       "    <tr>\n",
       "      <th>75%</th>\n",
       "      <td>0.558396</td>\n",
       "      <td>0.692082</td>\n",
       "      <td>0.744549</td>\n",
       "      <td>0.632976</td>\n",
       "    </tr>\n",
       "    <tr>\n",
       "      <th>max</th>\n",
       "      <td>3.489405</td>\n",
       "      <td>2.959996</td>\n",
       "      <td>2.949937</td>\n",
       "      <td>3.323118</td>\n",
       "    </tr>\n",
       "  </tbody>\n",
       "</table>\n",
       "</div>"
      ],
      "text/plain": [
       "                 0            1            2            3\n",
       "count  1000.000000  1000.000000  1000.000000  1000.000000\n",
       "mean     -0.073627    -0.033275     0.026741     0.018519\n",
       "std       1.010277     1.032154     1.017073     0.975117\n",
       "min      -3.062247    -3.237608    -3.031508    -2.913410\n",
       "25%      -0.758451    -0.735487    -0.672954    -0.615950\n",
       "50%      -0.058262    -0.016436     0.045986    -0.041536\n",
       "75%       0.558396     0.692082     0.744549     0.632976\n",
       "max       3.489405     2.959996     2.949937     3.323118"
      ]
     },
     "execution_count": 33,
     "metadata": {},
     "output_type": "execute_result"
    }
   ],
   "source": [
    "darray.describe()"
   ]
  },
  {
   "cell_type": "code",
   "execution_count": 34,
   "id": "necessary-water",
   "metadata": {},
   "outputs": [],
   "source": [
    "#encontrar na coluna de índice 2 valores com módulo maior que 3\n",
    "col = darray[2]"
   ]
  },
  {
   "cell_type": "code",
   "execution_count": 36,
   "id": "brilliant-representation",
   "metadata": {},
   "outputs": [
    {
     "data": {
      "text/plain": [
       "5   -3.031508\n",
       "Name: 2, dtype: float64"
      ]
     },
     "execution_count": 36,
     "metadata": {},
     "output_type": "execute_result"
    }
   ],
   "source": [
    "col[np.abs(col) > 3]"
   ]
  },
  {
   "cell_type": "code",
   "execution_count": 37,
   "id": "choice-stamp",
   "metadata": {},
   "outputs": [
    {
     "data": {
      "text/html": [
       "<div>\n",
       "<style scoped>\n",
       "    .dataframe tbody tr th:only-of-type {\n",
       "        vertical-align: middle;\n",
       "    }\n",
       "\n",
       "    .dataframe tbody tr th {\n",
       "        vertical-align: top;\n",
       "    }\n",
       "\n",
       "    .dataframe thead th {\n",
       "        text-align: right;\n",
       "    }\n",
       "</style>\n",
       "<table border=\"1\" class=\"dataframe\">\n",
       "  <thead>\n",
       "    <tr style=\"text-align: right;\">\n",
       "      <th></th>\n",
       "      <th>0</th>\n",
       "      <th>1</th>\n",
       "      <th>2</th>\n",
       "      <th>3</th>\n",
       "    </tr>\n",
       "  </thead>\n",
       "  <tbody>\n",
       "    <tr>\n",
       "      <th>5</th>\n",
       "      <td>-3.062247</td>\n",
       "      <td>-1.013566</td>\n",
       "      <td>-3.031508</td>\n",
       "      <td>-0.409121</td>\n",
       "    </tr>\n",
       "    <tr>\n",
       "      <th>251</th>\n",
       "      <td>0.773900</td>\n",
       "      <td>-3.237608</td>\n",
       "      <td>0.289440</td>\n",
       "      <td>0.866802</td>\n",
       "    </tr>\n",
       "    <tr>\n",
       "      <th>525</th>\n",
       "      <td>0.652107</td>\n",
       "      <td>1.465700</td>\n",
       "      <td>1.128450</td>\n",
       "      <td>3.323118</td>\n",
       "    </tr>\n",
       "    <tr>\n",
       "      <th>754</th>\n",
       "      <td>0.134021</td>\n",
       "      <td>-3.197658</td>\n",
       "      <td>-0.269621</td>\n",
       "      <td>-0.441218</td>\n",
       "    </tr>\n",
       "    <tr>\n",
       "      <th>865</th>\n",
       "      <td>3.489405</td>\n",
       "      <td>0.242932</td>\n",
       "      <td>1.297426</td>\n",
       "      <td>-0.495738</td>\n",
       "    </tr>\n",
       "  </tbody>\n",
       "</table>\n",
       "</div>"
      ],
      "text/plain": [
       "            0         1         2         3\n",
       "5   -3.062247 -1.013566 -3.031508 -0.409121\n",
       "251  0.773900 -3.237608  0.289440  0.866802\n",
       "525  0.652107  1.465700  1.128450  3.323118\n",
       "754  0.134021 -3.197658 -0.269621 -0.441218\n",
       "865  3.489405  0.242932  1.297426 -0.495738"
      ]
     },
     "execution_count": 37,
     "metadata": {},
     "output_type": "execute_result"
    }
   ],
   "source": [
    "#linhas com valores maiores que 3 ou -3\n",
    "darray[(np.abs(darray) > 3).any(1)]"
   ]
  },
  {
   "cell_type": "code",
   "execution_count": 40,
   "id": "mechanical-color",
   "metadata": {},
   "outputs": [
    {
     "name": "stdout",
     "output_type": "stream",
     "text": [
      "         0      1      2      3\n",
      "0    False  False  False  False\n",
      "1    False  False  False  False\n",
      "2    False  False  False  False\n",
      "3    False  False  False  False\n",
      "4    False  False  False  False\n",
      "..     ...    ...    ...    ...\n",
      "995  False  False  False  False\n",
      "996  False  False  False  False\n",
      "997  False  False  False  False\n",
      "998  False  False  False  False\n",
      "999  False  False  False  False\n",
      "\n",
      "[1000 rows x 4 columns]\n",
      "       0    1    2    3\n",
      "0   -3.0  3.0  3.0  3.0\n",
      "1   -3.0 -3.0 -3.0  3.0\n",
      "2   -3.0 -3.0  3.0 -3.0\n",
      "3   -3.0  3.0 -3.0 -3.0\n",
      "4   -3.0  3.0 -3.0  3.0\n",
      "..   ...  ...  ...  ...\n",
      "995  3.0 -3.0  3.0 -3.0\n",
      "996  3.0 -3.0  3.0  3.0\n",
      "997 -3.0  3.0 -3.0 -3.0\n",
      "998 -3.0 -3.0  3.0 -3.0\n",
      "999 -3.0  3.0 -3.0  3.0\n",
      "\n",
      "[1000 rows x 4 columns]\n"
     ]
    },
    {
     "data": {
      "text/html": [
       "<div>\n",
       "<style scoped>\n",
       "    .dataframe tbody tr th:only-of-type {\n",
       "        vertical-align: middle;\n",
       "    }\n",
       "\n",
       "    .dataframe tbody tr th {\n",
       "        vertical-align: top;\n",
       "    }\n",
       "\n",
       "    .dataframe thead th {\n",
       "        text-align: right;\n",
       "    }\n",
       "</style>\n",
       "<table border=\"1\" class=\"dataframe\">\n",
       "  <thead>\n",
       "    <tr style=\"text-align: right;\">\n",
       "      <th></th>\n",
       "      <th>0</th>\n",
       "      <th>1</th>\n",
       "      <th>2</th>\n",
       "      <th>3</th>\n",
       "    </tr>\n",
       "  </thead>\n",
       "  <tbody>\n",
       "    <tr>\n",
       "      <th>0</th>\n",
       "      <td>-1.030804</td>\n",
       "      <td>0.385893</td>\n",
       "      <td>0.232725</td>\n",
       "      <td>1.598431</td>\n",
       "    </tr>\n",
       "    <tr>\n",
       "      <th>1</th>\n",
       "      <td>-0.813593</td>\n",
       "      <td>-0.806688</td>\n",
       "      <td>-0.155347</td>\n",
       "      <td>0.467307</td>\n",
       "    </tr>\n",
       "    <tr>\n",
       "      <th>2</th>\n",
       "      <td>-1.183622</td>\n",
       "      <td>-1.425484</td>\n",
       "      <td>0.175987</td>\n",
       "      <td>-0.404262</td>\n",
       "    </tr>\n",
       "    <tr>\n",
       "      <th>3</th>\n",
       "      <td>-0.089002</td>\n",
       "      <td>0.081261</td>\n",
       "      <td>-0.547435</td>\n",
       "      <td>-0.552994</td>\n",
       "    </tr>\n",
       "    <tr>\n",
       "      <th>4</th>\n",
       "      <td>-1.279639</td>\n",
       "      <td>1.110969</td>\n",
       "      <td>-0.953672</td>\n",
       "      <td>0.925623</td>\n",
       "    </tr>\n",
       "    <tr>\n",
       "      <th>...</th>\n",
       "      <td>...</td>\n",
       "      <td>...</td>\n",
       "      <td>...</td>\n",
       "      <td>...</td>\n",
       "    </tr>\n",
       "    <tr>\n",
       "      <th>995</th>\n",
       "      <td>0.409468</td>\n",
       "      <td>-0.459771</td>\n",
       "      <td>1.085293</td>\n",
       "      <td>-0.585430</td>\n",
       "    </tr>\n",
       "    <tr>\n",
       "      <th>996</th>\n",
       "      <td>2.436777</td>\n",
       "      <td>-0.789396</td>\n",
       "      <td>1.211573</td>\n",
       "      <td>0.425739</td>\n",
       "    </tr>\n",
       "    <tr>\n",
       "      <th>997</th>\n",
       "      <td>-1.059426</td>\n",
       "      <td>0.449552</td>\n",
       "      <td>-2.365681</td>\n",
       "      <td>-0.091691</td>\n",
       "    </tr>\n",
       "    <tr>\n",
       "      <th>998</th>\n",
       "      <td>-0.837116</td>\n",
       "      <td>-0.585860</td>\n",
       "      <td>0.046492</td>\n",
       "      <td>-0.841410</td>\n",
       "    </tr>\n",
       "    <tr>\n",
       "      <th>999</th>\n",
       "      <td>-1.130038</td>\n",
       "      <td>0.794693</td>\n",
       "      <td>-2.128149</td>\n",
       "      <td>1.682703</td>\n",
       "    </tr>\n",
       "  </tbody>\n",
       "</table>\n",
       "<p>1000 rows × 4 columns</p>\n",
       "</div>"
      ],
      "text/plain": [
       "            0         1         2         3\n",
       "0   -1.030804  0.385893  0.232725  1.598431\n",
       "1   -0.813593 -0.806688 -0.155347  0.467307\n",
       "2   -1.183622 -1.425484  0.175987 -0.404262\n",
       "3   -0.089002  0.081261 -0.547435 -0.552994\n",
       "4   -1.279639  1.110969 -0.953672  0.925623\n",
       "..        ...       ...       ...       ...\n",
       "995  0.409468 -0.459771  1.085293 -0.585430\n",
       "996  2.436777 -0.789396  1.211573  0.425739\n",
       "997 -1.059426  0.449552 -2.365681 -0.091691\n",
       "998 -0.837116 -0.585860  0.046492 -0.841410\n",
       "999 -1.130038  0.794693 -2.128149  1.682703\n",
       "\n",
       "[1000 rows x 4 columns]"
      ]
     },
     "execution_count": 40,
     "metadata": {},
     "output_type": "execute_result"
    }
   ],
   "source": [
    "#eliminar valores fora do intervalo -3 a 3:\n",
    "print(np.abs(darray) > 3)\n",
    "print(np.sign(darray) * 3)\n",
    "darray[np.abs(darray) > 3] = np.sign(darray) * 3 # o que for True fica limitado a e 3 ou -3, de acordo com o sinal\n",
    "darray"
   ]
  },
  {
   "cell_type": "code",
   "execution_count": 41,
   "id": "electric-patrol",
   "metadata": {},
   "outputs": [
    {
     "data": {
      "text/html": [
       "<div>\n",
       "<style scoped>\n",
       "    .dataframe tbody tr th:only-of-type {\n",
       "        vertical-align: middle;\n",
       "    }\n",
       "\n",
       "    .dataframe tbody tr th {\n",
       "        vertical-align: top;\n",
       "    }\n",
       "\n",
       "    .dataframe thead th {\n",
       "        text-align: right;\n",
       "    }\n",
       "</style>\n",
       "<table border=\"1\" class=\"dataframe\">\n",
       "  <thead>\n",
       "    <tr style=\"text-align: right;\">\n",
       "      <th></th>\n",
       "      <th>0</th>\n",
       "      <th>1</th>\n",
       "      <th>2</th>\n",
       "      <th>3</th>\n",
       "    </tr>\n",
       "  </thead>\n",
       "  <tbody>\n",
       "    <tr>\n",
       "      <th>count</th>\n",
       "      <td>1000.000000</td>\n",
       "      <td>1000.000000</td>\n",
       "      <td>1000.000000</td>\n",
       "      <td>1000.000000</td>\n",
       "    </tr>\n",
       "    <tr>\n",
       "      <th>mean</th>\n",
       "      <td>-0.074054</td>\n",
       "      <td>-0.032840</td>\n",
       "      <td>0.026773</td>\n",
       "      <td>0.018196</td>\n",
       "    </tr>\n",
       "    <tr>\n",
       "      <th>std</th>\n",
       "      <td>1.008484</td>\n",
       "      <td>1.030855</td>\n",
       "      <td>1.016979</td>\n",
       "      <td>0.974074</td>\n",
       "    </tr>\n",
       "    <tr>\n",
       "      <th>min</th>\n",
       "      <td>-3.000000</td>\n",
       "      <td>-3.000000</td>\n",
       "      <td>-3.000000</td>\n",
       "      <td>-2.913410</td>\n",
       "    </tr>\n",
       "    <tr>\n",
       "      <th>25%</th>\n",
       "      <td>-0.758451</td>\n",
       "      <td>-0.735487</td>\n",
       "      <td>-0.672954</td>\n",
       "      <td>-0.615950</td>\n",
       "    </tr>\n",
       "    <tr>\n",
       "      <th>50%</th>\n",
       "      <td>-0.058262</td>\n",
       "      <td>-0.016436</td>\n",
       "      <td>0.045986</td>\n",
       "      <td>-0.041536</td>\n",
       "    </tr>\n",
       "    <tr>\n",
       "      <th>75%</th>\n",
       "      <td>0.558396</td>\n",
       "      <td>0.692082</td>\n",
       "      <td>0.744549</td>\n",
       "      <td>0.632976</td>\n",
       "    </tr>\n",
       "    <tr>\n",
       "      <th>max</th>\n",
       "      <td>3.000000</td>\n",
       "      <td>2.959996</td>\n",
       "      <td>2.949937</td>\n",
       "      <td>3.000000</td>\n",
       "    </tr>\n",
       "  </tbody>\n",
       "</table>\n",
       "</div>"
      ],
      "text/plain": [
       "                 0            1            2            3\n",
       "count  1000.000000  1000.000000  1000.000000  1000.000000\n",
       "mean     -0.074054    -0.032840     0.026773     0.018196\n",
       "std       1.008484     1.030855     1.016979     0.974074\n",
       "min      -3.000000    -3.000000    -3.000000    -2.913410\n",
       "25%      -0.758451    -0.735487    -0.672954    -0.615950\n",
       "50%      -0.058262    -0.016436     0.045986    -0.041536\n",
       "75%       0.558396     0.692082     0.744549     0.632976\n",
       "max       3.000000     2.959996     2.949937     3.000000"
      ]
     },
     "execution_count": 41,
     "metadata": {},
     "output_type": "execute_result"
    }
   ],
   "source": [
    "darray.describe()"
   ]
  },
  {
   "cell_type": "code",
   "execution_count": null,
   "id": "experimental-manitoba",
   "metadata": {},
   "outputs": [],
   "source": []
  }
 ],
 "metadata": {
  "kernelspec": {
   "display_name": "Python 3",
   "language": "python",
   "name": "python3"
  },
  "language_info": {
   "codemirror_mode": {
    "name": "ipython",
    "version": 3
   },
   "file_extension": ".py",
   "mimetype": "text/x-python",
   "name": "python",
   "nbconvert_exporter": "python",
   "pygments_lexer": "ipython3",
   "version": "3.8.5"
  }
 },
 "nbformat": 4,
 "nbformat_minor": 5
}
