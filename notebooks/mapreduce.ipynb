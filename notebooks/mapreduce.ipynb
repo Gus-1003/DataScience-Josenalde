{
  "nbformat": 4,
  "nbformat_minor": 0,
  "metadata": {
    "colab": {
      "provenance": []
    },
    "kernelspec": {
      "name": "python3",
      "display_name": "Python 3"
    },
    "language_info": {
      "name": "python"
    }
  },
  "cells": [
    {
      "cell_type": "code",
      "source": [
        "!pip install mrjob"
      ],
      "metadata": {
        "colab": {
          "base_uri": "https://localhost:8080/"
        },
        "id": "_9BC2HhlcnbM",
        "outputId": "cf2c9933-7371-4b93-ed68-b160005d8594"
      },
      "execution_count": 5,
      "outputs": [
        {
          "output_type": "stream",
          "name": "stdout",
          "text": [
            "Collecting mrjob\n",
            "  Downloading mrjob-0.7.4-py2.py3-none-any.whl (439 kB)\n",
            "\u001b[?25l     \u001b[90m━━━━━━━━━━━━━━━━━━━━━━━━━━━━━━━━━━━━━━━━\u001b[0m \u001b[32m0.0/439.6 kB\u001b[0m \u001b[31m?\u001b[0m eta \u001b[36m-:--:--\u001b[0m\r\u001b[2K     \u001b[91m━━━━━━━━━\u001b[0m\u001b[91m╸\u001b[0m\u001b[90m━━━━━━━━━━━━━━━━━━━━━━━━━━━━━\u001b[0m \u001b[32m112.6/439.6 kB\u001b[0m \u001b[31m3.4 MB/s\u001b[0m eta \u001b[36m0:00:01\u001b[0m\r\u001b[2K     \u001b[91m━━━━━━━━━━━━━━━━━━━━━━━━━━━━━━━━━━━━━━\u001b[0m\u001b[90m╺\u001b[0m \u001b[32m430.1/439.6 kB\u001b[0m \u001b[31m6.3 MB/s\u001b[0m eta \u001b[36m0:00:01\u001b[0m\r\u001b[2K     \u001b[90m━━━━━━━━━━━━━━━━━━━━━━━━━━━━━━━━━━━━━━━\u001b[0m \u001b[32m439.6/439.6 kB\u001b[0m \u001b[31m5.6 MB/s\u001b[0m eta \u001b[36m0:00:00\u001b[0m\n",
            "\u001b[?25hRequirement already satisfied: PyYAML>=3.10 in /usr/local/lib/python3.10/dist-packages (from mrjob) (6.0.1)\n",
            "Installing collected packages: mrjob\n",
            "Successfully installed mrjob-0.7.4\n"
          ]
        }
      ]
    },
    {
      "cell_type": "code",
      "source": [
        "from mrjob.job import MRJob\n",
        "import re\n",
        "\n",
        "WORD_RE = re.compile(r\"[\\w']+\")\n",
        "\n",
        "\n",
        "class MRWordCount(MRJob):\n",
        "    # mapper\n",
        "    def mapper(self, _, line):\n",
        "        for word in WORD_RE.findall(line):\n",
        "            yield word.lower(), 1\n",
        "    # combiner\n",
        "    # def combiner(self, word, counts):\n",
        "    #    yield word, sum(counts)\n",
        "    # reducer\n",
        "\n",
        "    def reducer(self, word, counts):\n",
        "        yield word, sum(counts)\n",
        "\n",
        "\n",
        "if __name__ == '__main__':\n",
        "    MRWordCount.run()"
      ],
      "metadata": {
        "id": "Ng2_svYfgtrE"
      },
      "execution_count": null,
      "outputs": []
    },
    {
      "cell_type": "code",
      "execution_count": 6,
      "metadata": {
        "colab": {
          "base_uri": "https://localhost:8080/"
        },
        "id": "WlrLfdKLcKlN",
        "outputId": "90d226c1-6591-4cda-8c6b-9a87cab00a10"
      },
      "outputs": [
        {
          "output_type": "stream",
          "name": "stdout",
          "text": [
            "No configs found; falling back on auto-configuration\n",
            "No configs specified for inline runner\n",
            "Creating temp directory /tmp/mapreduce1.root.20230830.171741.953960\n",
            "Running step 1 of 1...\n",
            "job output is in /tmp/mapreduce1.root.20230830.171741.953960/output\n",
            "Streaming final output from /tmp/mapreduce1.root.20230830.171741.953960/output...\n",
            "\"tads\"\t5\n",
            "\"eaj\"\t5\n",
            "\"ufrn\"\t7\n",
            "Removing temp directory /tmp/mapreduce1.root.20230830.171741.953960...\n"
          ]
        }
      ],
      "source": [
        "!python mapreduce1.py test_words.txt"
      ]
    },
    {
      "cell_type": "code",
      "source": [
        "#https://www.kaggle.com/datasets/yash10kundu/hotel-reviews?resource=download"
      ],
      "metadata": {
        "id": "kVHpmgPIfLvt"
      },
      "execution_count": 13,
      "outputs": []
    },
    {
      "cell_type": "code",
      "source": [
        "#!python mapreduce1.py hotel_reviews.csv"
      ],
      "metadata": {
        "id": "q5-RyARIeoCo"
      },
      "execution_count": 14,
      "outputs": []
    },
    {
      "cell_type": "code",
      "source": [
        "from mrjob.job import MRJob\n",
        "from mrjob.step import MRStep\n",
        "import csv\n",
        "# split by ,\n",
        "columns = 'Review,Rating'.split(',')\n",
        "\n",
        "\n",
        "class NoRatings(MRJob):\n",
        "    def steps(self):\n",
        "        return [\n",
        "            MRStep(mapper=self.mapper_get_ratings,\n",
        "                   reducer=self.reducer_count_ratings)\n",
        "        ]\n",
        "# Mapper function\n",
        "\n",
        "    def mapper_get_ratings(self, _, line):\n",
        "        reader = csv.reader([line])\n",
        "        for row in reader:\n",
        "            zipped = zip(columns, row)\n",
        "            diction = dict(zipped)\n",
        "            ratings = diction['Rating']\n",
        "            # outputing as key value pairs\n",
        "            yield ratings, 1\n",
        "# Reducer function\n",
        "\n",
        "    def reducer_count_ratings(self, key, values):\n",
        "        yield key, sum(values)\n",
        "\n",
        "\n",
        "if __name__ == \"__main__\":\n",
        "    NoRatings.run()"
      ],
      "metadata": {
        "id": "zMirNhMbfGKD"
      },
      "execution_count": null,
      "outputs": []
    },
    {
      "cell_type": "code",
      "source": [
        "v = ['ufrn', 'tads', 'ufrn', 'ufrn', 'tads']\n",
        "v.count('ufrn')"
      ],
      "metadata": {
        "colab": {
          "base_uri": "https://localhost:8080/"
        },
        "id": "ldYfF-Udc5ff",
        "outputId": "b4a3d5ff-980d-4bb5-de36-6d74c9ddcaea"
      },
      "execution_count": 10,
      "outputs": [
        {
          "output_type": "execute_result",
          "data": {
            "text/plain": [
              "3"
            ]
          },
          "metadata": {},
          "execution_count": 10
        }
      ]
    }
  ]
}