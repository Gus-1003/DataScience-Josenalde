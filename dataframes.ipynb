{
  "nbformat": 4,
  "nbformat_minor": 0,
  "metadata": {
    "colab": {
      "name": "Untitled1.ipynb",
      "provenance": [],
      "authorship_tag": "ABX9TyOSrB4jiDZctCwFX6+arftC",
      "include_colab_link": true
    },
    "kernelspec": {
      "name": "python3",
      "display_name": "Python 3"
    }
  },
  "cells": [
    {
      "cell_type": "markdown",
      "metadata": {
        "id": "view-in-github",
        "colab_type": "text"
      },
      "source": [
        "<a href=\"https://colab.research.google.com/github/josenalde/datascience/blob/main/dataframes.ipynb\" target=\"_parent\"><img src=\"https://colab.research.google.com/assets/colab-badge.svg\" alt=\"Open In Colab\"/></a>"
      ]
    },
    {
      "cell_type": "markdown",
      "metadata": {
        "id": "UdRXPk1D_c9k"
      },
      "source": [
        "Exemplo de leitura de arquivo .csv separado por sep (;, , ou outro) gerando um dataFrame panda. Arquivo lido a partir do github, com o link do raw data. Dataset obtido nos dados abertos da UFRN"
      ]
    },
    {
      "cell_type": "code",
      "metadata": {
        "id": "JZK1C04U_SK_",
        "outputId": "06fd9b2c-5483-4a5a-9192-3019a21df4d1",
        "colab": {
          "base_uri": "https://localhost:8080/"
        }
      },
      "source": [
        "import pandas as pd\n",
        "cols = ['u', 'y', 't']\n",
        "#pd.read_csv('https://raw.githubusercontent.com/josenalde/datascience/main/datasets/teste.csv', sep=',', names=cols)\n",
        "acervo=pd.read_csv('https://raw.githubusercontent.com/josenalde/datascience/main/datasets/acervoaquisicao.csv', sep=';')\n",
        "for cols in acervo.columns:\n",
        "  print(cols)\n",
        "\n"
      ],
      "execution_count": 38,
      "outputs": [
        {
          "output_type": "stream",
          "text": [
            "titulo\n",
            "edicao\n",
            "ano\n",
            "autor\n",
            "gestora_nome\n",
            "quantidade\n",
            "unidade_nome\n",
            "ano_aquisicao\n",
            "isbn\n",
            "issn\n"
          ],
          "name": "stdout"
        }
      ]
    }
  ]
}