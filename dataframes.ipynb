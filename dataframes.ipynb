{
  "nbformat": 4,
  "nbformat_minor": 0,
  "metadata": {
    "colab": {
      "name": "Untitled1.ipynb",
      "provenance": [],
      "authorship_tag": "ABX9TyPaUSWyFK60W7JcCpaL5lQi",
      "include_colab_link": true
    },
    "kernelspec": {
      "name": "python3",
      "display_name": "Python 3"
    }
  },
  "cells": [
    {
      "cell_type": "markdown",
      "metadata": {
        "id": "view-in-github",
        "colab_type": "text"
      },
      "source": [
        "<a href=\"https://colab.research.google.com/github/josenalde/datascience/blob/main/dataframes.ipynb\" target=\"_parent\"><img src=\"https://colab.research.google.com/assets/colab-badge.svg\" alt=\"Open In Colab\"/></a>"
      ]
    },
    {
      "cell_type": "markdown",
      "metadata": {
        "id": "UdRXPk1D_c9k"
      },
      "source": [
        "Exemplo de leitura de arquivo .csv separado por sep (;, , ou outro) gerando um dataFrame panda. Arquivo lido a partir do github, com o link do raw data. Dataset obtido nos dados abertos da UFRN"
      ]
    },
    {
      "cell_type": "code",
      "metadata": {
        "id": "JZK1C04U_SK_",
        "colab": {
          "base_uri": "https://localhost:8080/"
        },
        "outputId": "06fd9b2c-5483-4a5a-9192-3019a21df4d1"
      },
      "source": [
        "import pandas as pd\n",
        "cols = ['u', 'y', 't']\n",
        "#pd.read_csv('https://raw.githubusercontent.com/josenalde/datascience/main/datasets/teste.csv', sep=',', names=cols)\n",
        "acervo=pd.read_csv('https://raw.githubusercontent.com/josenalde/datascience/main/datasets/acervoaquisicao.csv', sep=';')\n",
        "for cols in acervo.columns:\n",
        "  print(cols)\n",
        "\n"
      ],
      "execution_count": 38,
      "outputs": [
        {
          "output_type": "stream",
          "text": [
            "titulo\n",
            "edicao\n",
            "ano\n",
            "autor\n",
            "gestora_nome\n",
            "quantidade\n",
            "unidade_nome\n",
            "ano_aquisicao\n",
            "isbn\n",
            "issn\n"
          ],
          "name": "stdout"
        }
      ]
    },
    {
      "cell_type": "markdown",
      "metadata": {
        "id": "qF1iJIsmX1I8"
      },
      "source": [
        "Acessando do Drive (https://www.geeksforgeeks.org/ways-to-import-csv-files-in-google-colab/)"
      ]
    },
    {
      "cell_type": "code",
      "metadata": {
        "id": "vKiWORF1X33j",
        "outputId": "62f438c7-0c9f-4a3f-87a3-1ed97f8dc6be",
        "colab": {
          "base_uri": "https://localhost:8080/",
          "height": 732
        }
      },
      "source": [
        "from google.colab import drive\n",
        "drive.mount(\"/content/drive\", force_remount=True)\n",
        "path = '/content/drive/MyDrive/Classroom/FundamentosTecnicasemCienciasdeDados/datasets/acervoaquisicao.csv'\n",
        "import pandas as pd\n",
        "acervo = pd.read_csv(path, sep=';')\n",
        "acervo"
      ],
      "execution_count": 44,
      "outputs": [
        {
          "output_type": "stream",
          "text": [
            "Mounted at /content/drive\n"
          ],
          "name": "stdout"
        },
        {
          "output_type": "execute_result",
          "data": {
            "text/html": [
              "<div>\n",
              "<style scoped>\n",
              "    .dataframe tbody tr th:only-of-type {\n",
              "        vertical-align: middle;\n",
              "    }\n",
              "\n",
              "    .dataframe tbody tr th {\n",
              "        vertical-align: top;\n",
              "    }\n",
              "\n",
              "    .dataframe thead th {\n",
              "        text-align: right;\n",
              "    }\n",
              "</style>\n",
              "<table border=\"1\" class=\"dataframe\">\n",
              "  <thead>\n",
              "    <tr style=\"text-align: right;\">\n",
              "      <th></th>\n",
              "      <th>titulo</th>\n",
              "      <th>edicao</th>\n",
              "      <th>ano</th>\n",
              "      <th>autor</th>\n",
              "      <th>gestora_nome</th>\n",
              "      <th>quantidade</th>\n",
              "      <th>unidade_nome</th>\n",
              "      <th>ano_aquisicao</th>\n",
              "      <th>isbn</th>\n",
              "      <th>issn</th>\n",
              "    </tr>\n",
              "  </thead>\n",
              "  <tbody>\n",
              "    <tr>\n",
              "      <th>0</th>\n",
              "      <td>PROMETHEUS - ATLAS DE ANATOMIA (3 VOLUMES)</td>\n",
              "      <td>0</td>\n",
              "      <td>2013</td>\n",
              "      <td>SCHUMACHER, UDO; SCHUNKE, MICHAEL; SCHULTE, ERIK</td>\n",
              "      <td>CENTRO DE CIÊNCIAS DA SAÚDE</td>\n",
              "      <td>80</td>\n",
              "      <td>COORDENAÇÃO DO CURSO DE MEDICINA</td>\n",
              "      <td>2020</td>\n",
              "      <td>9788527718264</td>\n",
              "      <td>NaN</td>\n",
              "    </tr>\n",
              "    <tr>\n",
              "      <th>1</th>\n",
              "      <td>RELIGIÃO NO POVO</td>\n",
              "      <td>0</td>\n",
              "      <td>2009</td>\n",
              "      <td>LUIS DA CAMARA CASCUDO</td>\n",
              "      <td>CENTRO DE CIÊNCIAS HUMANAS, LETRAS E ARTES</td>\n",
              "      <td>10</td>\n",
              "      <td>COORDENAÇÃO DO CURSO DE GEOGRAFIA A DISTÂNCIA ...</td>\n",
              "      <td>2020</td>\n",
              "      <td>8526010794</td>\n",
              "      <td>NaN</td>\n",
              "    </tr>\n",
              "    <tr>\n",
              "      <th>2</th>\n",
              "      <td>GESTÃO DE PROJETOS: AS MELHORES PRÁTICAS</td>\n",
              "      <td>0</td>\n",
              "      <td>2016</td>\n",
              "      <td>HAROLD KERZNER</td>\n",
              "      <td>CENTRO DE CIÊNCIAS HUMANAS, LETRAS E ARTES</td>\n",
              "      <td>3</td>\n",
              "      <td>COORDENAÇÃO DO CURSO DE GESTÃO DE POLÍTICAS PÚ...</td>\n",
              "      <td>2020</td>\n",
              "      <td>9788582603802</td>\n",
              "      <td>NaN</td>\n",
              "    </tr>\n",
              "    <tr>\n",
              "      <th>3</th>\n",
              "      <td>MANUAL DE DIREITO ADMINISTRATIVO</td>\n",
              "      <td>5</td>\n",
              "      <td>2018</td>\n",
              "      <td>MATHEUS CARVALHO</td>\n",
              "      <td>CENTRO DE CIÊNCIAS HUMANAS, LETRAS E ARTES</td>\n",
              "      <td>4</td>\n",
              "      <td>COORDENAÇÃO DO CURSO DE GESTÃO DE POLÍTICAS PÚ...</td>\n",
              "      <td>2020</td>\n",
              "      <td>9788544217528</td>\n",
              "      <td>NaN</td>\n",
              "    </tr>\n",
              "    <tr>\n",
              "      <th>4</th>\n",
              "      <td>TEORIAS DA COMUNICAÇÃO</td>\n",
              "      <td>0</td>\n",
              "      <td>2001</td>\n",
              "      <td>ANTONIO HOHLFELDT</td>\n",
              "      <td>CENTRO DE CIÊNCIAS HUMANAS, LETRAS E ARTES</td>\n",
              "      <td>1</td>\n",
              "      <td>COORDENAÇÃO DO CURSO DE JORNALISMO</td>\n",
              "      <td>2020</td>\n",
              "      <td>9788532626158</td>\n",
              "      <td>NaN</td>\n",
              "    </tr>\n",
              "    <tr>\n",
              "      <th>...</th>\n",
              "      <td>...</td>\n",
              "      <td>...</td>\n",
              "      <td>...</td>\n",
              "      <td>...</td>\n",
              "      <td>...</td>\n",
              "      <td>...</td>\n",
              "      <td>...</td>\n",
              "      <td>...</td>\n",
              "      <td>...</td>\n",
              "      <td>...</td>\n",
              "    </tr>\n",
              "    <tr>\n",
              "      <th>47639</th>\n",
              "      <td>MYSQL PROJETO MODELAGEM E DESENVOLVIMENTO DE B...</td>\n",
              "      <td>0</td>\n",
              "      <td>0</td>\n",
              "      <td>RANGEL, ALEXANDRE</td>\n",
              "      <td>UNIVERSIDADE FEDERAL DO RIO GRANDE DO NORTE</td>\n",
              "      <td>3</td>\n",
              "      <td>ESCOLA AGRÍCOLA DE JUNDIAÍ</td>\n",
              "      <td>2006</td>\n",
              "      <td>857608063X</td>\n",
              "      <td>NaN</td>\n",
              "    </tr>\n",
              "    <tr>\n",
              "      <th>47640</th>\n",
              "      <td>PASCAL ESTRUTURADO, 3 ED</td>\n",
              "      <td>0</td>\n",
              "      <td>0</td>\n",
              "      <td>FARRER, HARRY</td>\n",
              "      <td>UNIVERSIDADE FEDERAL DO RIO GRANDE DO NORTE</td>\n",
              "      <td>5</td>\n",
              "      <td>ESCOLA AGRÍCOLA DE JUNDIAÍ</td>\n",
              "      <td>2006</td>\n",
              "      <td>8521611749</td>\n",
              "      <td>NaN</td>\n",
              "    </tr>\n",
              "    <tr>\n",
              "      <th>47641</th>\n",
              "      <td>WINDOWS XP PRO, GUIA DE BOLSO</td>\n",
              "      <td>2</td>\n",
              "      <td>0</td>\n",
              "      <td>STANEK, WILLIAN</td>\n",
              "      <td>UNIVERSIDADE FEDERAL DO RIO GRANDE DO NORTE</td>\n",
              "      <td>1</td>\n",
              "      <td>ESCOLA AGRÍCOLA DE JUNDIAÍ</td>\n",
              "      <td>2006</td>\n",
              "      <td>8536305711</td>\n",
              "      <td>NaN</td>\n",
              "    </tr>\n",
              "    <tr>\n",
              "      <th>47642</th>\n",
              "      <td>PARASITOLOGIA HUMANA</td>\n",
              "      <td>11</td>\n",
              "      <td>2005</td>\n",
              "      <td>NEVES, D. P</td>\n",
              "      <td>UNIVERSIDADE FEDERAL DO RIO GRANDE DO NORTE</td>\n",
              "      <td>2</td>\n",
              "      <td>ESCOLA DE SAÚDE</td>\n",
              "      <td>2006</td>\n",
              "      <td>8573792434</td>\n",
              "      <td>NaN</td>\n",
              "    </tr>\n",
              "    <tr>\n",
              "      <th>47643</th>\n",
              "      <td>VIGIAR E PUNIR- HISTÓRIA DA VIOLÊNCIA NAS PRISÕES</td>\n",
              "      <td>26</td>\n",
              "      <td>2002</td>\n",
              "      <td>M. FOCAULT.</td>\n",
              "      <td>UNIVERSIDADE FEDERAL DO RIO GRANDE DO NORTE</td>\n",
              "      <td>1</td>\n",
              "      <td>ESCOLA DE SAÚDE</td>\n",
              "      <td>2006</td>\n",
              "      <td>NaN</td>\n",
              "      <td>NaN</td>\n",
              "    </tr>\n",
              "  </tbody>\n",
              "</table>\n",
              "<p>47644 rows × 10 columns</p>\n",
              "</div>"
            ],
            "text/plain": [
              "                                                  titulo  ...  issn\n",
              "0             PROMETHEUS - ATLAS DE ANATOMIA (3 VOLUMES)  ...   NaN\n",
              "1                                       RELIGIÃO NO POVO  ...   NaN\n",
              "2               GESTÃO DE PROJETOS: AS MELHORES PRÁTICAS  ...   NaN\n",
              "3                       MANUAL DE DIREITO ADMINISTRATIVO  ...   NaN\n",
              "4                                 TEORIAS DA COMUNICAÇÃO  ...   NaN\n",
              "...                                                  ...  ...   ...\n",
              "47639  MYSQL PROJETO MODELAGEM E DESENVOLVIMENTO DE B...  ...   NaN\n",
              "47640                           PASCAL ESTRUTURADO, 3 ED  ...   NaN\n",
              "47641                      WINDOWS XP PRO, GUIA DE BOLSO  ...   NaN\n",
              "47642                               PARASITOLOGIA HUMANA  ...   NaN\n",
              "47643  VIGIAR E PUNIR- HISTÓRIA DA VIOLÊNCIA NAS PRISÕES  ...   NaN\n",
              "\n",
              "[47644 rows x 10 columns]"
            ]
          },
          "metadata": {
            "tags": []
          },
          "execution_count": 44
        }
      ]
    }
  ]
}