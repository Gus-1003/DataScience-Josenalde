{
  "nbformat": 4,
  "nbformat_minor": 0,
  "metadata": {
    "colab": {
      "name": "socialnetwork.ipynb",
      "provenance": [],
      "collapsed_sections": [],
      "authorship_tag": "ABX9TyN5Gq8oqFxt/eTeTmULdXZn",
      "include_colab_link": true
    },
    "kernelspec": {
      "name": "python3",
      "display_name": "Python 3"
    }
  },
  "cells": [
    {
      "cell_type": "markdown",
      "metadata": {
        "id": "view-in-github",
        "colab_type": "text"
      },
      "source": [
        "<a href=\"https://colab.research.google.com/github/josenalde/datascience/blob/main/socialnetwork.ipynb\" target=\"_parent\"><img src=\"https://colab.research.google.com/assets/colab-badge.svg\" alt=\"Open In Colab\"/></a>"
      ]
    },
    {
      "cell_type": "markdown",
      "metadata": {
        "id": "Mn9jtuDGb0BF"
      },
      "source": [
        "Lista de usuários definida como um dicionário (estrutura) com id e nome"
      ]
    },
    {
      "cell_type": "code",
      "metadata": {
        "id": "staweK8NbrhC"
      },
      "source": [
        "users = [\n",
        "         {\"id\": 0, \"name\": \"Jorge\"},\n",
        "         {\"id\": 1, \"name\": \"Paulo\"},\n",
        "         {\"id\": 2, \"name\": \"Lucas\"},\n",
        "         {\"id\": 3, \"name\": \"Carlos\"},\n",
        "         {\"id\": 4, \"name\": \"Pedro\"},\n",
        "         {\"id\": 5, \"name\": \"Timoteo\"},\n",
        "         {\"id\": 6, \"name\": \"Elias\"},\n",
        "         {\"id\": 7, \"name\": \"Eliseu\"},\n",
        "         {\"id\": 8, \"name\": \"Davi\"},\n",
        "         {\"id\": 9, \"name\": \"Saul\"}\n",
        "]"
      ],
      "execution_count": null,
      "outputs": []
    },
    {
      "cell_type": "markdown",
      "metadata": {
        "id": "FEpNA5rKcpCR"
      },
      "source": [
        "Grafo de conexões diretas entre os usuários"
      ]
    },
    {
      "cell_type": "code",
      "metadata": {
        "id": "wpdN2zHHcokR"
      },
      "source": [
        "friendships = [(0,1), (0,2), (1,2), (1,3), (2,3), (3,4),\n",
        "               (4,5),(5,6),(5,7),(6,8),(7,8), (8,9)]"
      ],
      "execution_count": null,
      "outputs": []
    },
    {
      "cell_type": "markdown",
      "metadata": {
        "id": "F0UlYh4cdB0h"
      },
      "source": [
        "Por exemplo, o user id0 Jorge é amigo de Lucas e de Paulo. Como a amizade é bidirecional, podemos criar uma lista de amigos para cada usuário.\n"
      ]
    },
    {
      "cell_type": "code",
      "metadata": {
        "id": "K9A0aBBAchb1",
        "colab": {
          "base_uri": "https://localhost:8080/"
        },
        "outputId": "2b39c8e1-6a3c-455e-dd4a-1cb8f759260e"
      },
      "source": [
        "for user in users:\n",
        "  user[\"friends\"] = []\n",
        "for i, j in friendships:\n",
        "  users[i][\"friends\"].append(users[j]) # adiciona i como um amigo de j\n",
        "  users[j][\"friends\"].append(users[i]) # adiciona j como um amigo de i\n",
        "  print(i, j)"
      ],
      "execution_count": null,
      "outputs": [
        {
          "output_type": "stream",
          "text": [
            "0 1\n",
            "0 2\n",
            "1 2\n",
            "1 3\n",
            "2 3\n",
            "3 4\n",
            "4 5\n",
            "5 6\n",
            "5 7\n",
            "6 8\n",
            "7 8\n",
            "8 9\n"
          ],
          "name": "stdout"
        }
      ]
    },
    {
      "cell_type": "markdown",
      "metadata": {
        "id": "Mc99xid-fCOz"
      },
      "source": [
        "Agora, vamos determinar o número médio de conexões, com base no total de conexões dividido pelo número de usuários:\n"
      ]
    },
    {
      "cell_type": "code",
      "metadata": {
        "colab": {
          "base_uri": "https://localhost:8080/"
        },
        "id": "YLkM67urfUhC",
        "outputId": "855e3498-cf18-45f4-e422-9bede5a0d44e"
      },
      "source": [
        "#funcao para determinar o numero de amigos de um usuario\n",
        "def number_of_friends(user):\n",
        "  return len(user[\"friends\"])\n",
        "\n",
        "total_connections = sum(number_of_friends(user)\n",
        "                        for user in users)\n",
        "#from __future__ import division\n",
        "num_users = len(users)\n",
        "avg_connections = total_connections / num_users\n",
        "print(avg_connections)"
      ],
      "execution_count": null,
      "outputs": [
        {
          "output_type": "stream",
          "text": [
            "2.4\n"
          ],
          "name": "stdout"
        }
      ]
    },
    {
      "cell_type": "markdown",
      "metadata": {
        "id": "WvC6dkITg51V"
      },
      "source": [
        "Encontrar o número de conexões de cada usuário:"
      ]
    },
    {
      "cell_type": "code",
      "metadata": {
        "colab": {
          "base_uri": "https://localhost:8080/"
        },
        "id": "YGePTHSdhB0B",
        "outputId": "abe1b35c-658e-42d5-f431-cfa962da61ff"
      },
      "source": [
        "#cria uma lista (user_id, number_of_friends)\n",
        "num_friends_by_id = [(user[\"id\"], number_of_friends(user)) for user in users]\n",
        "print(num_friends_by_id)"
      ],
      "execution_count": null,
      "outputs": [
        {
          "output_type": "stream",
          "text": [
            "[(0, 2), (1, 3), (2, 3), (3, 3), (4, 2), (5, 3), (6, 2), (7, 2), (8, 3), (9, 1)]\n"
          ],
          "name": "stdout"
        }
      ]
    },
    {
      "cell_type": "markdown",
      "metadata": {
        "id": "wwbtV1rpj7rL"
      },
      "source": [
        "E ordenar do \"mais amigos\" ao \"menos amigos\". O uso do sorted() permite não alterar a lista original; senão usar .sort(), mas funciona apenas para listas. sorted() recebe qualquer objeto iterável, e sempre retorna uma lista. [Sobre sorted](https://towardsdatascience.com/sorting-lists-in-python-31477e0817d8)"
      ]
    },
    {
      "cell_type": "code",
      "metadata": {
        "colab": {
          "base_uri": "https://localhost:8080/"
        },
        "id": "LkdWSVdIkJ2p",
        "outputId": "72f0f295-ae55-4ebc-9a4e-f4b51495a352"
      },
      "source": [
        "ordered_by_id=sorted(num_friends_by_id, reverse=True) #ordena por id de usuário\n",
        "print(ordered_by_id)\n",
        "ordered_by_n_friends = sorted(num_friends_by_id, key=lambda user_friends: user_friends[1], reverse=True)\n",
        "print(ordered_by_n_friends)"
      ],
      "execution_count": null,
      "outputs": [
        {
          "output_type": "stream",
          "text": [
            "[(9, 1), (8, 3), (7, 2), (6, 2), (5, 3), (4, 2), (3, 3), (2, 3), (1, 3), (0, 2)]\n",
            "[(1, 3), (2, 3), (3, 3), (5, 3), (8, 3), (0, 2), (4, 2), (6, 2), (7, 2), (9, 1)]\n"
          ],
          "name": "stdout"
        }
      ]
    },
    {
      "cell_type": "markdown",
      "metadata": {
        "id": "984SukkG33ND"
      },
      "source": [
        "Para aprofundar as consultas, pode-se encontrar amigos de amigos. Uma primeira solução descrita abaixo, gera duplicações, pois, por exemplo, 0 é amigo de 2, mas 2 é amigo de 0 e de 3, portanto duplica 0."
      ]
    },
    {
      "cell_type": "code",
      "metadata": {
        "colab": {
          "base_uri": "https://localhost:8080/"
        },
        "id": "6GncwgbM3A9k",
        "outputId": "98ee8646-5992-4fdd-d1d2-fa7c15bbd82a"
      },
      "source": [
        "def friends_of_friend_ids_bad(user):\n",
        "  # foaf significa friend of a friend\n",
        "  return [foaf[\"id\"]\n",
        "          for friend in user[\"friends\"]\n",
        "          for foaf in friend[\"friends\"]]\n",
        "print(friends_of_friend_ids_bad(users[0]))"
      ],
      "execution_count": null,
      "outputs": [
        {
          "output_type": "stream",
          "text": [
            "[0, 2, 3, 0, 1, 3]\n"
          ],
          "name": "stdout"
        }
      ]
    },
    {
      "cell_type": "markdown",
      "metadata": {
        "id": "fOZEbozg4p0f"
      },
      "source": [
        "Vamos fazer então uma contagem de amigos em comum, que exclua pessoas que já são conhecidas do usuário"
      ]
    },
    {
      "cell_type": "code",
      "metadata": {
        "colab": {
          "base_uri": "https://localhost:8080/"
        },
        "id": "_CciEQBN4zXb",
        "outputId": "41b94499-7451-4dc1-f94c-fb5d1255e7c7"
      },
      "source": [
        "from collections import Counter # para realizar contagem\n",
        "# testa se os usuários são diferentes\n",
        "def not_the_same(user, other_user):\n",
        "  #dois usuários não são os mesmos se possuem ids diferentes\n",
        "  return user[\"id\"] != other_user[\"id\"]\n",
        "\n",
        "def not_friends(user, other_user):\n",
        "  #other_user não é um amigo se não está em user[\"friends\"], ou seja, se\n",
        "  # é not_the_same com todas as pessoas em user[\"friends\"]\n",
        "  return all(not_the_same(friend, other_user)\n",
        "             for friend in user[\"friends\"])\n",
        "\n",
        "# para cada um dos meus amigos que contam os amigos deles, que não sejam eu e que não sejam meus amigos\n",
        "def friends_of_friends_ids(user):\n",
        "  return Counter(foaf[\"id\"]\n",
        "                 for friend in user[\"friends\"]\n",
        "                 for foaf in friend[\"friends\"]\n",
        "                 if not_the_same(user, foaf)\n",
        "                 and not_friends(user, foaf))\n",
        "print(friends_of_friends_ids(users[3]))\n"
      ],
      "execution_count": null,
      "outputs": [
        {
          "output_type": "stream",
          "text": [
            "Counter({0: 2, 5: 1})\n"
          ],
          "name": "stdout"
        }
      ]
    },
    {
      "cell_type": "markdown",
      "metadata": {
        "id": "Fjz4AvIv7H7r"
      },
      "source": [
        "Ou seja, o usuário 3 possui dois amigos em comum com 0 usuário 0 (2,1) e 1 amigo em comum com o usuário 5 (4)"
      ]
    }
  ]
}